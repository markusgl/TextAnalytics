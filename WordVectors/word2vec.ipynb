{
 "cells": [
  {
   "cell_type": "code",
   "execution_count": 2,
   "metadata": {},
   "outputs": [
    {
     "name": "stderr",
     "output_type": "stream",
     "text": [
      "c:\\program files\\python\\lib\\site-packages\\gensim\\utils.py:1197: UserWarning: detected Windows; aliasing chunkize to chunkize_serial\n",
      "  warnings.warn(\"detected Windows; aliasing chunkize to chunkize_serial\")\n"
     ]
    }
   ],
   "source": [
    "from gensim.models import Word2Vec, KeyedVectors\n",
    "from sklearn.decomposition import PCA\n",
    "import matplotlib.pyplot as plt\n",
    "import numpy as np"
   ]
  },
  {
   "cell_type": "markdown",
   "metadata": {},
   "source": [
    "#### Load Google word2vec model"
   ]
  },
  {
   "cell_type": "code",
   "execution_count": 3,
   "metadata": {},
   "outputs": [],
   "source": [
    "model_name = 'models/GoogleNews-vectors-negative300.bin'\n",
    "model = KeyedVectors.load_word2vec_format(model_name, binary=True)"
   ]
  },
  {
   "cell_type": "markdown",
   "metadata": {},
   "source": [
    "#### Load some sample vectors"
   ]
  },
  {
   "cell_type": "code",
   "execution_count": 12,
   "metadata": {},
   "outputs": [],
   "source": [
    "dog_vector = model['dog']\n",
    "cat_vector = model['cat']\n",
    "king_vector = model['king']\n",
    "queen_vector = model['queen']\n",
    "man_vector = model['man']\n",
    "woman_vector = model['woman']\n",
    "banana_vector = model['banana']\n",
    "apple_vector = model['apple']\n",
    "quiz_vector = model['car']-model['cars']\n",
    "quiz_vector2 = model['apple']-model['apples']\n",
    "quiz_vector3 = model['family']-model['families']"
   ]
  },
  {
   "cell_type": "markdown",
   "metadata": {},
   "source": [
    "#### (king - man) + woman = ?"
   ]
  },
  {
   "cell_type": "code",
   "execution_count": 13,
   "metadata": {},
   "outputs": [
    {
     "name": "stdout",
     "output_type": "stream",
     "text": [
      "[('queen', 0.7118192911148071)]\n"
     ]
    }
   ],
   "source": [
    "print(model.most_similar(positive=['woman', 'king'], negative=['man'], topn=1))"
   ]
  },
  {
   "cell_type": "markdown",
   "metadata": {},
   "source": [
    "#### PCA dimensionality reduction for plotting the vectors"
   ]
  },
  {
   "cell_type": "code",
   "execution_count": 14,
   "metadata": {},
   "outputs": [],
   "source": [
    "X = np.vstack((dog_vector, cat_vector, king_vector, queen_vector, man_vector, woman_vector, quiz_vector, quiz_vector2, quiz_vector3))\n",
    "pca = PCA(n_components=2)\n",
    "result = pca.fit_transform(X)"
   ]
  },
  {
   "cell_type": "markdown",
   "metadata": {},
   "source": [
    "#### Plot the vectors"
   ]
  },
  {
   "cell_type": "code",
   "execution_count": 15,
   "metadata": {},
   "outputs": [
    {
     "data": {
      "image/png": "[encoded data removed]",
      "text/plain": [
       "<Figure size 432x288 with 1 Axes>"
      ]
     },
     "metadata": {},
     "output_type": "display_data"
    }
   ],
   "source": [
    "plt.scatter(result[:, 0], result[:, 1])\n",
    "words = ['dog', 'cat', 'king', 'queen', 'man', 'woman', 'similarity1', 'similarity2', 'similarity_3']\n",
    "for i, word in enumerate(words):\n",
    "    plt.annotate(word, xy=(result[i, 0], result[i, 1]))\n",
    "plt.show()"
   ]
  },
  {
   "cell_type": "markdown",
   "metadata": {},
   "source": [
    "## Stanford's GloVe Embedding"
   ]
  },
  {
   "cell_type": "code",
   "execution_count": 49,
   "metadata": {},
   "outputs": [
    {
     "data": {
      "text/plain": [
       "(400000, 100)"
      ]
     },
     "execution_count": 49,
     "metadata": {},
     "output_type": "execute_result"
    }
   ],
   "source": [
    "from gensim.scripts.glove2word2vec import glove2word2vec\n",
    "glove_input_file = 'models/glove.6B/glove.6B.100d.txt'\n",
    "word2vec_output_file = 'models/glove.6B.100d.txt.word2vec'\n",
    "glove2word2vec(glove_input_file, word2vec_output_file)"
   ]
  },
  {
   "cell_type": "code",
   "execution_count": 50,
   "metadata": {},
   "outputs": [],
   "source": [
    "# load the Stanford GloVe model"
   ]
  },
  {
   "cell_type": "code",
   "execution_count": 51,
   "metadata": {},
   "outputs": [],
   "source": [
    "from gensim.models import KeyedVectors\n",
    "\n",
    "filename = 'models/glove.6B.100d.txt.word2vec'\n",
    "glove_model = KeyedVectors.load_word2vec_format(filename, binary=False)"
   ]
  },
  {
   "cell_type": "markdown",
   "metadata": {},
   "source": [
    "#### (king - man) + woman = ?"
   ]
  },
  {
   "cell_type": "code",
   "execution_count": 54,
   "metadata": {
    "scrolled": true
   },
   "outputs": [
    {
     "data": {
      "text/plain": [
       "[('queen', 0.7698541283607483)]"
      ]
     },
     "execution_count": 54,
     "metadata": {},
     "output_type": "execute_result"
    }
   ],
   "source": [
    "glove_model.most_similar(positive=['woman', 'king'], negative=['man'], topn=1)"
   ]
  },
  {
   "cell_type": "code",
   "execution_count": 57,
   "metadata": {
    "scrolled": true
   },
   "outputs": [
    {
     "data": {
      "image/png": "[encoded data removed]",
      "text/plain": [
       "<Figure size 432x288 with 1 Axes>"
      ]
     },
     "metadata": {},
     "output_type": "display_data"
    }
   ],
   "source": [
    "dog_vector = glove_model['dog']\n",
    "cat_vector = glove_model['cat']\n",
    "king_vector = glove_model['king']\n",
    "queen_vector = glove_model['queen']\n",
    "man_vector = glove_model['man']\n",
    "woman_vector = glove_model['woman']\n",
    "banana_vector = glove_model['banana']\n",
    "apple_vector = glove_model['apple']\n",
    "X = np.vstack((dog_vector, cat_vector, king_vector, queen_vector, man_vector, woman_vector, banana_vector, apple_vector))\n",
    "pca = PCA(n_components=2)\n",
    "result = pca.fit_transform(X)\n",
    "\n",
    "plt.scatter(result[:, 0], result[:, 1])\n",
    "words = ['dog', 'cat', 'king', 'queen', 'man', 'woman', 'banana', 'apple']\n",
    "for i, word in enumerate(words):\n",
    "    plt.annotate(word, xy=(result[i, 0], result[i, 1]))\n",
    "plt.show()"
   ]
  },
  {
   "cell_type": "markdown",
   "metadata": {},
   "source": [
    "## Train own word2vec skip-gram model"
   ]
  },
  {
   "cell_type": "markdown",
   "metadata": {},
   "source": [
    "#### Import and clean text data"
   ]
  },
  {
   "cell_type": "code",
   "execution_count": 4,
   "metadata": {
    "scrolled": true
   },
   "outputs": [
    {
     "data": {
      "text/plain": [
       "'Three years after the destruction of the Death Star the Rebel Alliance has been driven from their former base on Yavin IV by the Galactic Empire. The rebels led by Princess Leia have set up a new base on the ice planet Hoth. The Imperial fleet led by Darth Vader continues to hunt for the Rebels new base by dispatching probe droids across the galaxy. Luke Skywalker is captured by a wampa while investigating one such probe but he manages to escape from the wampa s cave with his lightsaber. Before Luke succumbs to the freezing temperatures the Force ghost of his late mentor Obi-Wan Kenobi instructs him to go to the Dagobah system to train under Jedi Master Yoda. Luke is found by Han Solo who cuts open a Tauntaun that Han rode on to help keep Luke warm and the duo is eventually rescued by a search party. Meanwhile the probe alerts the Imperial fleet to the rebels location. The Empire launches a large-scale attack using AT-AT Walkers to capture the base which forces the rebels to retreat. Han and Leia escape on the Millennium Falcon with C-3PO and Chewbacca but the ship s hyperdrive malfunctions. They hide in an asteroid field where Han and Leia grow closer and eventually kiss. Vader summons bounty hunters to assist in finding the Falcon. Luke meanwhile escapes with R2-D2 in his X-wing fighter and crash-lands on the swamp planet Dagobah. He meets a diminutive creature who reveals himself to be Yoda after conferring with Obi-Wan s spirit Yoda reluctantly accepts Luke as his student. After evading the Imperial fleet Han s group travel to the floating Cloud City on the planet of Bespin which is run by Han s old friend Lando Calrissian. Unbeknownst to the group the bounty hunter Boba Fett tracks the Falcon shortly after their arrival Lando leads the group into a trap and they are handed over to Darth Vader and Boba Fett. Vader plans to use the group as bait to lure out Luke intending to capture him alive and take him to Emperor Palpatine. Luke sees a premonition of Han and Leia in pain and against the wishes of Yoda and Obi-Wan abandons his training to rescue them. Vader intends to hold Luke in suspended animation via carbon freezing and selects Han to be frozen as a test subject. Han survives the process and is given to Fett who intends to deliver Han to Jabba the Hutt. Lando initiates an escape and frees Leia and the others but they are too late to stop Fett from departing with Han. They fight their way back to the Falcon and flee Cloud City. Meanwhile Luke arrives at Cloud City and engages with Vader in a lightsaber duel that leads them over the city s central air shaft. Vader severs Luke s right hand disarming him and tempts him to join forces. Luke accuses Vader of murdering his father who reveals that he in fact is his father. Horrified by the truth Luke intentionally falls into the air shaft and is ejected beneath the floating city where he grabs onto an antenna. He makes a telepathic plea to Leia who senses it and persuades Lando to return for him in the Falcon. After Luke is brought on board they are chased by TIE fighters and Vader on his star destroyer but R2-D2 reactivates the Falcon s hyperdrive allowing them to escape. Aboard a medical frigate in the Rebel fleet Luke s severed hand is replaced with a robotic hand. Lando and Chewbacca set off for Tatooine in the Falcon in order to find Jabba the Hutt and save Han. As the Falcon departs Luke Leia R2-D2 and C-3PO gaze out on the galaxy and await word from Lando.'"
      ]
     },
     "execution_count": 4,
     "metadata": {},
     "output_type": "execute_result"
    }
   ],
   "source": [
    "import re\n",
    "with open('data/star_wars5_plot.txt', 'r') as f:\n",
    "    raw_data = f.read()\n",
    "    \n",
    "clean_data = re.sub(r'[^a-zA-Z0-9?!.-]|[\\.]{2,}', ' ', raw_data) # remove non-word characters but keep punctuation\n",
    "clean_data = re.sub(r'\\s{2,}', ' ', clean_data)  # remove two or more consecutive whitespaces\n",
    "clean_data"
   ]
  },
  {
   "cell_type": "code",
   "execution_count": 5,
   "metadata": {},
   "outputs": [
    {
     "data": {
      "text/plain": [
       "[['three',\n",
       "  'years',\n",
       "  'destruction',\n",
       "  'death',\n",
       "  'star',\n",
       "  'rebel',\n",
       "  'alliance',\n",
       "  'driven',\n",
       "  'former',\n",
       "  'base',\n",
       "  'yavin',\n",
       "  'iv',\n",
       "  'galactic',\n",
       "  'empire'],\n",
       " ['rebels',\n",
       "  'led',\n",
       "  'princess',\n",
       "  'leia',\n",
       "  'set',\n",
       "  'new',\n",
       "  'base',\n",
       "  'ice',\n",
       "  'planet',\n",
       "  'hoth'],\n",
       " ['imperial',\n",
       "  'fleet',\n",
       "  'led',\n",
       "  'darth',\n",
       "  'vader',\n",
       "  'continues',\n",
       "  'hunt',\n",
       "  'rebels',\n",
       "  'new',\n",
       "  'base',\n",
       "  'dispatching',\n",
       "  'probe',\n",
       "  'droids',\n",
       "  'across',\n",
       "  'galaxy'],\n",
       " ['luke',\n",
       "  'skywalker',\n",
       "  'captured',\n",
       "  'wampa',\n",
       "  'investigating',\n",
       "  'one',\n",
       "  'probe',\n",
       "  'manages',\n",
       "  'escape',\n",
       "  'wampa',\n",
       "  'cave',\n",
       "  'lightsaber'],\n",
       " ['luke',\n",
       "  'succumbs',\n",
       "  'freezing',\n",
       "  'temperatures',\n",
       "  'force',\n",
       "  'ghost',\n",
       "  'late',\n",
       "  'mentor',\n",
       "  'obi-wan',\n",
       "  'kenobi',\n",
       "  'instructs',\n",
       "  'go',\n",
       "  'dagobah',\n",
       "  'system',\n",
       "  'train',\n",
       "  'jedi',\n",
       "  'master',\n",
       "  'yoda'],\n",
       " ['luke',\n",
       "  'found',\n",
       "  'han',\n",
       "  'solo',\n",
       "  'cuts',\n",
       "  'open',\n",
       "  'tauntaun',\n",
       "  'han',\n",
       "  'rode',\n",
       "  'help',\n",
       "  'keep',\n",
       "  'luke',\n",
       "  'warm',\n",
       "  'duo',\n",
       "  'eventually',\n",
       "  'rescued',\n",
       "  'search',\n",
       "  'party'],\n",
       " ['meanwhile', 'probe', 'alerts', 'imperial', 'fleet', 'rebels', 'location'],\n",
       " ['empire',\n",
       "  'launches',\n",
       "  'large-scale',\n",
       "  'attack',\n",
       "  'using',\n",
       "  'at-at',\n",
       "  'walkers',\n",
       "  'capture',\n",
       "  'base',\n",
       "  'forces',\n",
       "  'rebels',\n",
       "  'retreat'],\n",
       " ['han',\n",
       "  'leia',\n",
       "  'escape',\n",
       "  'millennium',\n",
       "  'falcon',\n",
       "  'c-3po',\n",
       "  'chewbacca',\n",
       "  'ship',\n",
       "  'hyperdrive',\n",
       "  'malfunctions'],\n",
       " ['hide',\n",
       "  'asteroid',\n",
       "  'field',\n",
       "  'han',\n",
       "  'leia',\n",
       "  'grow',\n",
       "  'closer',\n",
       "  'eventually',\n",
       "  'kiss'],\n",
       " ['vader', 'summons', 'bounty', 'hunters', 'assist', 'finding', 'falcon'],\n",
       " ['luke',\n",
       "  'meanwhile',\n",
       "  'escapes',\n",
       "  'r2-d2',\n",
       "  'x-wing',\n",
       "  'fighter',\n",
       "  'crash-lands',\n",
       "  'swamp',\n",
       "  'planet',\n",
       "  'dagobah'],\n",
       " ['meets',\n",
       "  'diminutive',\n",
       "  'creature',\n",
       "  'reveals',\n",
       "  'yoda',\n",
       "  'conferring',\n",
       "  'obi-wan',\n",
       "  'spirit',\n",
       "  'yoda',\n",
       "  'reluctantly',\n",
       "  'accepts',\n",
       "  'luke',\n",
       "  'student'],\n",
       " ['evading',\n",
       "  'imperial',\n",
       "  'fleet',\n",
       "  'han',\n",
       "  'group',\n",
       "  'travel',\n",
       "  'floating',\n",
       "  'cloud',\n",
       "  'city',\n",
       "  'planet',\n",
       "  'bespin',\n",
       "  'run',\n",
       "  'han',\n",
       "  'old',\n",
       "  'friend',\n",
       "  'lando',\n",
       "  'calrissian'],\n",
       " ['unbeknownst',\n",
       "  'group',\n",
       "  'bounty',\n",
       "  'hunter',\n",
       "  'boba',\n",
       "  'fett',\n",
       "  'tracks',\n",
       "  'falcon',\n",
       "  'shortly',\n",
       "  'arrival',\n",
       "  'lando',\n",
       "  'leads',\n",
       "  'group',\n",
       "  'trap',\n",
       "  'handed',\n",
       "  'darth',\n",
       "  'vader',\n",
       "  'boba',\n",
       "  'fett'],\n",
       " ['vader',\n",
       "  'plans',\n",
       "  'use',\n",
       "  'group',\n",
       "  'bait',\n",
       "  'lure',\n",
       "  'luke',\n",
       "  'intending',\n",
       "  'capture',\n",
       "  'alive',\n",
       "  'take',\n",
       "  'emperor',\n",
       "  'palpatine'],\n",
       " ['luke',\n",
       "  'sees',\n",
       "  'premonition',\n",
       "  'han',\n",
       "  'leia',\n",
       "  'pain',\n",
       "  'wishes',\n",
       "  'yoda',\n",
       "  'obi-wan',\n",
       "  'abandons',\n",
       "  'training',\n",
       "  'rescue'],\n",
       " ['vader',\n",
       "  'intends',\n",
       "  'hold',\n",
       "  'luke',\n",
       "  'suspended',\n",
       "  'animation',\n",
       "  'via',\n",
       "  'carbon',\n",
       "  'freezing',\n",
       "  'selects',\n",
       "  'han',\n",
       "  'frozen',\n",
       "  'test',\n",
       "  'subject'],\n",
       " ['han',\n",
       "  'survives',\n",
       "  'process',\n",
       "  'given',\n",
       "  'fett',\n",
       "  'intends',\n",
       "  'deliver',\n",
       "  'han',\n",
       "  'jabba',\n",
       "  'hutt'],\n",
       " ['lando',\n",
       "  'initiates',\n",
       "  'escape',\n",
       "  'frees',\n",
       "  'leia',\n",
       "  'others',\n",
       "  'late',\n",
       "  'stop',\n",
       "  'fett',\n",
       "  'departing',\n",
       "  'han'],\n",
       " ['fight', 'way', 'back', 'falcon', 'flee', 'cloud', 'city'],\n",
       " ['meanwhile',\n",
       "  'luke',\n",
       "  'arrives',\n",
       "  'cloud',\n",
       "  'city',\n",
       "  'engages',\n",
       "  'vader',\n",
       "  'lightsaber',\n",
       "  'duel',\n",
       "  'leads',\n",
       "  'city',\n",
       "  'central',\n",
       "  'air',\n",
       "  'shaft'],\n",
       " ['vader',\n",
       "  'severs',\n",
       "  'luke',\n",
       "  'right',\n",
       "  'hand',\n",
       "  'disarming',\n",
       "  'tempts',\n",
       "  'join',\n",
       "  'forces'],\n",
       " ['luke',\n",
       "  'accuses',\n",
       "  'vader',\n",
       "  'murdering',\n",
       "  'father',\n",
       "  'reveals',\n",
       "  'fact',\n",
       "  'father'],\n",
       " ['horrified',\n",
       "  'truth',\n",
       "  'luke',\n",
       "  'intentionally',\n",
       "  'falls',\n",
       "  'air',\n",
       "  'shaft',\n",
       "  'ejected',\n",
       "  'beneath',\n",
       "  'floating',\n",
       "  'city',\n",
       "  'grabs',\n",
       "  'onto',\n",
       "  'antenna'],\n",
       " ['makes',\n",
       "  'telepathic',\n",
       "  'plea',\n",
       "  'leia',\n",
       "  'senses',\n",
       "  'persuades',\n",
       "  'lando',\n",
       "  'return',\n",
       "  'falcon'],\n",
       " ['luke',\n",
       "  'brought',\n",
       "  'board',\n",
       "  'chased',\n",
       "  'tie',\n",
       "  'fighters',\n",
       "  'vader',\n",
       "  'star',\n",
       "  'destroyer',\n",
       "  'r2-d2',\n",
       "  'reactivates',\n",
       "  'falcon',\n",
       "  'hyperdrive',\n",
       "  'allowing',\n",
       "  'escape'],\n",
       " ['aboard',\n",
       "  'medical',\n",
       "  'frigate',\n",
       "  'rebel',\n",
       "  'fleet',\n",
       "  'luke',\n",
       "  'severed',\n",
       "  'hand',\n",
       "  'replaced',\n",
       "  'robotic',\n",
       "  'hand'],\n",
       " ['lando',\n",
       "  'chewbacca',\n",
       "  'set',\n",
       "  'tatooine',\n",
       "  'falcon',\n",
       "  'order',\n",
       "  'find',\n",
       "  'jabba',\n",
       "  'hutt',\n",
       "  'save',\n",
       "  'han'],\n",
       " ['falcon',\n",
       "  'departs',\n",
       "  'luke',\n",
       "  'leia',\n",
       "  'r2-d2',\n",
       "  'c-3po',\n",
       "  'gaze',\n",
       "  'galaxy',\n",
       "  'await',\n",
       "  'word',\n",
       "  'lando']]"
      ]
     },
     "execution_count": 5,
     "metadata": {},
     "output_type": "execute_result"
    }
   ],
   "source": [
    "from nltk.tokenize import word_tokenize, sent_tokenize\n",
    "from nltk.corpus import stopwords\n",
    "\n",
    "sentence_list = sent_tokenize(clean_data)\n",
    "stop_words = set(stopwords.words('english'))\n",
    "\n",
    "vocab = []\n",
    "for sentence in sentence_list:\n",
    "    clean_sentence = sentence.replace('.', '').lower()\n",
    "    tokenized_sentence = word_tokenize(clean_sentence)\n",
    "    filtered_sentence = [word for word in tokenized_sentence if not word in stop_words]    \n",
    "    vocab.append(filtered_sentence)\n",
    "vocab"
   ]
  },
  {
   "cell_type": "markdown",
   "metadata": {},
   "source": [
    "### Define parameters for word2vec"
   ]
  },
  {
   "cell_type": "markdown",
   "metadata": {},
   "source": [
    "* *sg*: Training algorithm: 1 for skip-gram; otherwise CBOW.\n",
    "* _size_: Dimensionality of the word vectors - optional\n",
    "* *min_count*: Ignores all words with total frequency lower than this. (__Be careful with this value. If you choose it too high, your vocabulary might be emtpy, which results in an RuntimeError!__)\n",
    "* *window*: Maximum distance between the current and predicted word within a sentence.\n",
    "* *workers*: Use these many worker threads to train the model (=faster training with multicore machines).\n"
   ]
  },
  {
   "cell_type": "code",
   "execution_count": 6,
   "metadata": {},
   "outputs": [
    {
     "data": {
      "text/plain": [
       "'Vocabulary length 52'"
      ]
     },
     "execution_count": 6,
     "metadata": {},
     "output_type": "execute_result"
    }
   ],
   "source": [
    "my_model = Word2Vec(vocab, sg=1, size=100, window=10, min_count=2, workers=4)\n",
    "\"Vocabulary length {}\".format(len(my_model.wv.vocab))"
   ]
  },
  {
   "cell_type": "markdown",
   "metadata": {},
   "source": [
    "#### Get the word vector of a word inside your vocabulary"
   ]
  },
  {
   "cell_type": "code",
   "execution_count": 43,
   "metadata": {},
   "outputs": [
    {
     "name": "stderr",
     "output_type": "stream",
     "text": [
      "c:\\program files\\python\\lib\\site-packages\\ipykernel_launcher.py:1: DeprecationWarning: Call to deprecated `__getitem__` (Method will be removed in 4.0.0, use self.wv.__getitem__() instead).\n",
      "  \"\"\"Entry point for launching an IPython kernel.\n"
     ]
    },
    {
     "data": {
      "text/plain": [
       "array([-1.1239216e-03, -2.9491929e-03, -2.4816315e-03, -2.2725007e-03,\n",
       "       -1.0469813e-03, -2.1502601e-03, -1.2108566e-03, -5.2717322e-04,\n",
       "       -2.1266588e-03,  4.0085781e-03, -2.5032775e-03, -4.6563619e-03,\n",
       "       -3.9774091e-03, -4.6769626e-04, -6.7457813e-04, -1.9406892e-03,\n",
       "        4.3148589e-03,  4.1764304e-03, -4.8157629e-03,  7.9170539e-05,\n",
       "        4.9420041e-03, -7.0544361e-04, -3.9103711e-03, -1.2146682e-03,\n",
       "        3.2083089e-03,  3.0356804e-03, -4.3416829e-03,  3.5778680e-03,\n",
       "        4.8111263e-04, -3.3024151e-03,  3.9416971e-04,  2.6688201e-04,\n",
       "        4.5712693e-03, -1.9232577e-03, -3.6760340e-03, -2.8153236e-03,\n",
       "       -7.4606977e-04,  8.6084090e-04,  1.4718383e-04, -8.6244504e-04,\n",
       "       -3.8859160e-03, -1.5126696e-03,  4.2652306e-03, -3.1135299e-03,\n",
       "       -4.6150428e-03,  2.2078231e-04,  3.8843309e-03, -9.4175956e-04,\n",
       "        4.7097118e-03, -1.6539331e-03, -1.3299118e-03, -1.2938973e-03,\n",
       "        1.0757941e-03,  2.8229458e-03,  3.5445241e-03, -2.3789136e-03,\n",
       "        3.6510190e-03,  4.0129269e-03, -2.0962888e-03,  4.5755599e-03,\n",
       "       -1.2156778e-03, -2.1099662e-03, -3.9715827e-03,  4.6788161e-03,\n",
       "       -3.7912268e-03, -2.4319319e-03,  4.8457142e-03, -3.3037732e-03,\n",
       "        3.7443608e-03,  1.8639253e-03, -3.0490458e-03, -1.5116605e-03,\n",
       "       -2.3676357e-03,  4.1541094e-03, -2.7148103e-04,  4.1311937e-03,\n",
       "        3.5280732e-03, -5.3252809e-04, -1.5345466e-03,  2.7320420e-03,\n",
       "       -1.6759874e-03, -1.7952911e-03, -4.2793336e-03, -4.3242713e-03,\n",
       "       -1.3245989e-03,  2.7119480e-03, -3.9955936e-03, -4.8560617e-03,\n",
       "        1.3281280e-03, -1.9706993e-03,  2.9786951e-03, -2.5122964e-03,\n",
       "       -4.6199667e-03,  3.0243534e-03,  2.3348688e-03,  1.2655082e-03,\n",
       "        3.9189640e-03, -3.0866402e-04, -4.0251454e-03, -3.0531571e-04],\n",
       "      dtype=float32)"
      ]
     },
     "execution_count": 43,
     "metadata": {},
     "output_type": "execute_result"
    }
   ],
   "source": [
    "my_model['c-3po']"
   ]
  },
  {
   "cell_type": "markdown",
   "metadata": {},
   "source": [
    "#### Plot the model"
   ]
  },
  {
   "cell_type": "code",
   "execution_count": 54,
   "metadata": {
    "scrolled": true
   },
   "outputs": [
    {
     "name": "stderr",
     "output_type": "stream",
     "text": [
      "c:\\program files\\python\\lib\\site-packages\\ipykernel_launcher.py:2: DeprecationWarning: Call to deprecated `__getitem__` (Method will be removed in 4.0.0, use self.wv.__getitem__() instead).\n",
      "  \n"
     ]
    },
    {
     "data": {
      "image/png": "[encoded data removed]",
      "text/plain": [
       "<Figure size 432x288 with 1 Axes>"
      ]
     },
     "metadata": {},
     "output_type": "display_data"
    }
   ],
   "source": [
    "#X = np.vstack((vader_vector, luke_vector, leia_vector, han_vector, lando_vector, chewbacca_vector, rebel_vector, empire_vector))\n",
    "X = my_model[my_model.wv.vocab]\n",
    "pca = PCA(n_components=2)\n",
    "result = pca.fit_transform(X)\n",
    "\n",
    "plt.scatter(result[:, 0], result[:, 1])\n",
    "#words = ['vader', 'luke', 'leia', 'han', 'lando', 'chwebacca', 'rebel', 'empire']\n",
    "words = list(my_model.wv.vocab)\n",
    "\n",
    "for i, word in enumerate(words):\n",
    "    plt.annotate(word, xy=(result[i, 0], result[i, 1]))\n",
    "\n",
    "#plt.xticks(np.arange(-0.015, 0.02, 0.01))\n",
    "#plt.yticks(np.arange(-0.02, 0.02, 0.01))\n",
    "plt.axis([xmin,xmax,ymin,ymax])\n",
    "\n",
    "plt.show()"
   ]
  },
  {
   "cell_type": "markdown",
   "metadata": {},
   "source": [
    "#### Prediction of words"
   ]
  },
  {
   "cell_type": "code",
   "execution_count": 45,
   "metadata": {
    "scrolled": true
   },
   "outputs": [
    {
     "data": {
      "text/plain": [
       "[('city', 0.019230999),\n",
       " ('galaxy', 0.019230962),\n",
       " ('lightsaber', 0.019230956),\n",
       " ('freezing', 0.01923093),\n",
       " ('intends', 0.01923093)]"
      ]
     },
     "execution_count": 45,
     "metadata": {},
     "output_type": "execute_result"
    }
   ],
   "source": [
    "my_model.predict_output_word(['luke', 'vader'] , topn=5)"
   ]
  },
  {
   "cell_type": "code",
   "execution_count": 46,
   "metadata": {},
   "outputs": [
    {
     "name": "stderr",
     "output_type": "stream",
     "text": [
      "c:\\program files\\python\\lib\\site-packages\\ipykernel_launcher.py:1: DeprecationWarning: Call to deprecated `most_similar` (Method will be removed in 4.0.0, use self.wv.most_similar() instead).\n",
      "  \"\"\"Entry point for launching an IPython kernel.\n"
     ]
    },
    {
     "data": {
      "text/plain": [
       "[('eventually', 0.22264927625656128)]"
      ]
     },
     "execution_count": 46,
     "metadata": {},
     "output_type": "execute_result"
    }
   ],
   "source": [
    "my_model.most_similar(positive=['luke', 'vader'], negative=['yoda'], topn=1)"
   ]
  },
  {
   "cell_type": "code",
   "execution_count": 47,
   "metadata": {
    "scrolled": true
   },
   "outputs": [
    {
     "name": "stderr",
     "output_type": "stream",
     "text": [
      "c:\\program files\\python\\lib\\site-packages\\ipykernel_launcher.py:1: DeprecationWarning: Call to deprecated `similarity` (Method will be removed in 4.0.0, use self.wv.similarity() instead).\n",
      "  \"\"\"Entry point for launching an IPython kernel.\n"
     ]
    },
    {
     "data": {
      "text/plain": [
       "0.11906512420639152"
      ]
     },
     "execution_count": 47,
     "metadata": {},
     "output_type": "execute_result"
    }
   ],
   "source": [
    "my_model.similarity('r2-d2', 'c-3po')"
   ]
  },
  {
   "cell_type": "code",
   "execution_count": 48,
   "metadata": {},
   "outputs": [
    {
     "name": "stderr",
     "output_type": "stream",
     "text": [
      "c:\\program files\\python\\lib\\site-packages\\ipykernel_launcher.py:1: DeprecationWarning: Call to deprecated `similar_by_word` (Method will be removed in 4.0.0, use self.wv.similar_by_word() instead).\n",
      "  \"\"\"Entry point for launching an IPython kernel.\n"
     ]
    },
    {
     "data": {
      "text/plain": [
       "[('floating', 0.2418631762266159),\n",
       " ('escape', 0.21594427525997162),\n",
       " ('group', 0.10974230617284775),\n",
       " ('eventually', 0.08781595528125763),\n",
       " ('forces', 0.08435332775115967),\n",
       " ('hutt', 0.08137577772140503),\n",
       " ('late', 0.07927335798740387),\n",
       " ('lightsaber', 0.07708470523357391),\n",
       " ('leia', 0.07158423215150833),\n",
       " ('rebel', 0.0688922330737114)]"
      ]
     },
     "execution_count": 48,
     "metadata": {},
     "output_type": "execute_result"
    }
   ],
   "source": [
    "my_model.similar_by_word('luke', topn=10)"
   ]
  }
 ],
 "metadata": {
  "kernelspec": {
   "display_name": "Python 3",
   "language": "python",
   "name": "python3"
  },
  "language_info": {
   "codemirror_mode": {
    "name": "ipython",
    "version": 3
   },
   "file_extension": ".py",
   "mimetype": "text/x-python",
   "name": "python",
   "nbconvert_exporter": "python",
   "pygments_lexer": "ipython3",
   "version": "3.6.4"
  }
 },
 "nbformat": 4,
 "nbformat_minor": 2
}
