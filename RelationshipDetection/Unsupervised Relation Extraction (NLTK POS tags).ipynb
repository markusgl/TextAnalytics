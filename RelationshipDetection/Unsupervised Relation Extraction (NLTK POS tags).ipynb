{
 "cells": [
  {
   "cell_type": "markdown",
   "metadata": {},
   "source": [
    "## Approach (based on https://web.stanford.edu/~jurafsky/slp3/ - Jurafsky 2018)\n",
    "1. POS tagging and entity chunking\n",
    "2. For each verb in *s*, find the longest sequence of words *w* that start with a verb and satisfy syntactic and lexical constraints, merging adjacent matches\n",
    "3. For each phrase *w*, find the nearest noun phrase *x* to the left which is not a relative pronoun, wh-word or existential \"there\". Find the nearest noun phrase *y* to the right.\n",
    "4. Assign confidence *c* to the relation *r=(x,w,y)* using confidence classifier and return it.\n",
    "\n",
    "A relation is only accepted if it meets syntactic and lexical contraints."
   ]
  },
  {
   "cell_type": "code",
   "execution_count": 3,
   "metadata": {},
   "outputs": [],
   "source": [
    "import spacy\n",
    "import os\n",
    "import re\n",
    "import nltk\n",
    "\n",
    "from nltk.tokenize import sent_tokenize, word_tokenize\n",
    "\n",
    "# for plotting the dependency tree\n",
    "path_to_gs = \"C:/Program Files/gs/gs9.25/bin\"\n",
    "os.environ['PATH'] += os.pathsep + path_to_gs\n"
   ]
  },
  {
   "cell_type": "markdown",
   "metadata": {},
   "source": [
    "# Choose a language"
   ]
  },
  {
   "cell_type": "code",
   "execution_count": 4,
   "metadata": {},
   "outputs": [],
   "source": [
    "# DE or EN\n",
    "lang = 'DE'"
   ]
  },
  {
   "cell_type": "code",
   "execution_count": 5,
   "metadata": {},
   "outputs": [],
   "source": [
    "if lang == 'DE':\n",
    "    nlp = spacy.load('de')\n",
    "    text = u'''Meine kleine Enkelin Lisa und mein Enkel Lukas fliegen morgen nach London. Sie sind zum ersten Mal in England. \n",
    "            Peter und Maria gehen morgen ins Kino. Ich und mein Sohn gehen heute zum Fußball. \n",
    "            Ich gehe mit Johann in den Zoo. Hans und sein Sohn Hubert.\n",
    "            Mein Sohn, der Fußball spielt, hat sich sein verletzt. \n",
    "            Hans, welcher der Sohn von Hubert ist, geht mit Peter ins Kino.'''\n",
    "elif lang == 'EN':\n",
    "    nlp = spacy.load('en')\n",
    "    text = 'United has a hub in Chicago, which is the headquarter of United Continental Holdings. \\\n",
    "             Tim Cook is the CEO of Apple.\\\n",
    "             Bill Gates is the founder of Microsoft.'\n",
    "    \n",
    "utterance = text"
   ]
  },
  {
   "cell_type": "markdown",
   "metadata": {},
   "source": [
    "## 1. POS Tagging and entity chunking"
   ]
  },
  {
   "cell_type": "code",
   "execution_count": 6,
   "metadata": {
    "scrolled": true
   },
   "outputs": [
    {
     "data": {
      "text/plain": [
       "['Meine kleine Enkelin Lisa und mein Enkel Lukas fliegen morgen nach London.',\n",
       " 'Sie sind zum ersten Mal in England.',\n",
       " 'Peter und Maria gehen morgen ins Kino.',\n",
       " 'Ich und mein Sohn gehen heute zum Fußball.',\n",
       " 'Ich gehe mit Johann in den Zoo.',\n",
       " 'Hans und sein Sohn Hubert.',\n",
       " 'Mein Sohn, der Fußball spielt, hat sich sein verletzt.',\n",
       " 'Hans, welcher der Sohn von Hubert ist, geht mit Peter ins Kino.']"
      ]
     },
     "execution_count": 6,
     "metadata": {},
     "output_type": "execute_result"
    }
   ],
   "source": [
    "sentences = sent_tokenize(utterance)\n",
    "sentences"
   ]
  },
  {
   "cell_type": "markdown",
   "metadata": {},
   "source": [
    "#### spaCy POS tagging"
   ]
  },
  {
   "cell_type": "code",
   "execution_count": 7,
   "metadata": {
    "scrolled": false
   },
   "outputs": [
    {
     "data": {
      "text/plain": [
       "[[('Meine', 'DET'),\n",
       "  ('kleine', 'ADJ'),\n",
       "  ('Enkelin', 'NOUN'),\n",
       "  ('Lisa', 'PROPN'),\n",
       "  ('und', 'CONJ'),\n",
       "  ('mein', 'DET'),\n",
       "  ('Enkel', 'NOUN'),\n",
       "  ('Lukas', 'PROPN'),\n",
       "  ('fliegen', 'VERB'),\n",
       "  ('morgen', 'ADV'),\n",
       "  ('nach', 'ADP'),\n",
       "  ('London', 'PROPN')],\n",
       " [('Sie', 'PRON'),\n",
       "  ('sind', 'AUX'),\n",
       "  ('zum', 'ADP'),\n",
       "  ('ersten', 'ADJ'),\n",
       "  ('Mal', 'NOUN'),\n",
       "  ('in', 'ADP'),\n",
       "  ('England', 'PROPN')],\n",
       " [('Peter', 'PROPN'),\n",
       "  ('und', 'CONJ'),\n",
       "  ('Maria', 'PROPN'),\n",
       "  ('gehen', 'VERB'),\n",
       "  ('morgen', 'ADV'),\n",
       "  ('ins', 'ADP'),\n",
       "  ('Kino', 'NOUN')],\n",
       " [('Ich', 'PRON'),\n",
       "  ('und', 'CONJ'),\n",
       "  ('mein', 'DET'),\n",
       "  ('Sohn', 'NOUN'),\n",
       "  ('gehen', 'VERB'),\n",
       "  ('heute', 'ADV'),\n",
       "  ('zum', 'ADP'),\n",
       "  ('Fußball', 'NOUN')],\n",
       " [('Ich', 'PRON'),\n",
       "  ('gehe', 'VERB'),\n",
       "  ('mit', 'ADP'),\n",
       "  ('Johann', 'PROPN'),\n",
       "  ('in', 'ADP'),\n",
       "  ('den', 'DET'),\n",
       "  ('Zoo', 'NOUN')],\n",
       " [('Hans', 'PROPN'),\n",
       "  ('und', 'CONJ'),\n",
       "  ('sein', 'DET'),\n",
       "  ('Sohn', 'NOUN'),\n",
       "  ('Hubert', 'PROPN')],\n",
       " [('Mein', 'DET'),\n",
       "  ('Sohn', 'NOUN'),\n",
       "  ('der', 'DET'),\n",
       "  ('Fußball', 'NOUN'),\n",
       "  ('spielt', 'VERB'),\n",
       "  ('hat', 'AUX'),\n",
       "  ('sich', 'PRON'),\n",
       "  ('sein', 'AUX'),\n",
       "  ('verletzt', 'VERB')],\n",
       " [('Hans', 'PROPN'),\n",
       "  ('welcher', 'DET'),\n",
       "  ('der', 'DET'),\n",
       "  ('Sohn', 'NOUN'),\n",
       "  ('von', 'ADP'),\n",
       "  ('Hubert', 'PROPN'),\n",
       "  ('ist', 'AUX'),\n",
       "  ('geht', 'VERB'),\n",
       "  ('mit', 'ADP'),\n",
       "  ('Peter', 'PROPN'),\n",
       "  ('ins', 'ADP'),\n",
       "  ('Kino', 'NOUN')]]"
      ]
     },
     "execution_count": 7,
     "metadata": {},
     "output_type": "execute_result"
    }
   ],
   "source": [
    "pos_tagged_sentences = []\n",
    "\n",
    "for sentence in sentences:\n",
    "    sentence = re.sub('\\W', ' ', sentence)\n",
    "    sentence = re.sub('\\s{2,}', ' ', sentence)\n",
    "    \n",
    "    doc = nlp(sentence)\n",
    "    \n",
    "    pos_tagged_sentence = []\n",
    "    for token in doc:\n",
    "        #pos_tuple = (token.text, token.pos_, token.head.text, [child for child in token.children])\n",
    "        pos_tuple = (token.text, token.pos_)\n",
    "        pos_tagged_sentence.append(pos_tuple)\n",
    "        \n",
    "    pos_tagged_sentences.append(pos_tagged_sentence)\n",
    "    \n",
    "pos_tagged_sentences"
   ]
  },
  {
   "cell_type": "markdown",
   "metadata": {},
   "source": [
    "## 2. Find the longest verb sequence and noun chunks\n",
    "\n",
    "#### Grammar description:\n",
    "* NP: optional Determiner (DT) followed by any number fo adjective (ADJ) and then a noun, proper noun or pronoun\n",
    "* REL: Verb followed by any number of any number of W (see below) and preposition. Or simply a conjunction\n",
    "  * V: Verb \n",
    "  * W*: Any number of noun, adjective, adverb, pronoun or determiner\n",
    "  * P: Preposition, particle (e.g. *'s* or *'t*) or punctuation\n",
    "  * C: a conjunction"
   ]
  },
  {
   "cell_type": "code",
   "execution_count": 8,
   "metadata": {},
   "outputs": [],
   "source": [
    "# for spaCy POS Tags\n",
    "\n",
    "grammar = r\"\"\"NP: {<DET>?<ADJ>*<NOUN>?<PROPN>*}\n",
    "              PP: {<DET>?<ADJ>*<PRON>*}\n",
    "              V: {<VERB>}\n",
    "              W: {<NOUN|ADJ|ADV|PRON|DET>}\n",
    "              P: {<ADP|PART|PUNCT>}\n",
    "              C: {<CONJ>}\n",
    "              REL: {<V><W>*<P>|<V><P>|<V>|<C>}\n",
    "              \"\"\""
   ]
  },
  {
   "cell_type": "markdown",
   "metadata": {},
   "source": [
    "### Print tree structures"
   ]
  },
  {
   "cell_type": "code",
   "execution_count": 9,
   "metadata": {
    "scrolled": true
   },
   "outputs": [
    {
     "name": "stdout",
     "output_type": "stream",
     "text": [
      "Meine kleine Enkelin Lisa und mein Enkel Lukas fliegen morgen nach London.\n"
     ]
    },
    {
     "data": {
      "image/png": "[encoded data removed]",
      "text/plain": [
       "Tree('S', [Tree('NP', [('Meine', 'DET'), ('kleine', 'ADJ'), ('Enkelin', 'NOUN'), ('Lisa', 'PROPN')]), Tree('REL', [Tree('C', [('und', 'CONJ')])]), Tree('NP', [('mein', 'DET'), ('Enkel', 'NOUN'), ('Lukas', 'PROPN')]), Tree('REL', [Tree('V', [('fliegen', 'VERB')]), Tree('W', [('morgen', 'ADV')]), Tree('P', [('nach', 'ADP')])]), Tree('NP', [('London', 'PROPN')])])"
      ]
     },
     "execution_count": 9,
     "metadata": {},
     "output_type": "execute_result"
    }
   ],
   "source": [
    "print(sentences[0])\n",
    "cp = nltk.RegexpParser(grammar)\n",
    "cp.parse(pos_tagged_sentences[0])"
   ]
  },
  {
   "cell_type": "code",
   "execution_count": 10,
   "metadata": {
    "scrolled": true
   },
   "outputs": [
    {
     "name": "stdout",
     "output_type": "stream",
     "text": [
      "Sie sind zum ersten Mal in England.\n"
     ]
    },
    {
     "data": {
      "image/png": "[encoded data removed]",
      "text/plain": [
       "Tree('S', [Tree('PP', [('Sie', 'PRON')]), ('sind', 'AUX'), Tree('P', [('zum', 'ADP')]), Tree('NP', [('ersten', 'ADJ'), ('Mal', 'NOUN')]), Tree('P', [('in', 'ADP')]), Tree('NP', [('England', 'PROPN')])])"
      ]
     },
     "execution_count": 10,
     "metadata": {},
     "output_type": "execute_result"
    }
   ],
   "source": [
    "print(sentences[1])\n",
    "cp = nltk.RegexpParser(grammar)\n",
    "cp.parse(pos_tagged_sentences[1])"
   ]
  },
  {
   "cell_type": "code",
   "execution_count": 11,
   "metadata": {
    "scrolled": true
   },
   "outputs": [
    {
     "name": "stdout",
     "output_type": "stream",
     "text": [
      "Peter und Maria gehen morgen ins Kino.\n"
     ]
    },
    {
     "data": {
      "image/png": "[encoded data removed]",
      "text/plain": [
       "Tree('S', [Tree('NP', [('Peter', 'PROPN')]), Tree('REL', [Tree('C', [('und', 'CONJ')])]), Tree('NP', [('Maria', 'PROPN')]), Tree('REL', [Tree('V', [('gehen', 'VERB')]), Tree('W', [('morgen', 'ADV')]), Tree('P', [('ins', 'ADP')])]), Tree('NP', [('Kino', 'NOUN')])])"
      ]
     },
     "execution_count": 11,
     "metadata": {},
     "output_type": "execute_result"
    }
   ],
   "source": [
    "print(sentences[2])\n",
    "cp = nltk.RegexpParser(grammar)\n",
    "cp.parse(pos_tagged_sentences[2])"
   ]
  },
  {
   "cell_type": "code",
   "execution_count": 12,
   "metadata": {},
   "outputs": [
    {
     "name": "stdout",
     "output_type": "stream",
     "text": [
      "Ich und mein Sohn gehen heute zum Fußball.\n"
     ]
    },
    {
     "data": {
      "image/png": "[encoded data removed]",
      "text/plain": [
       "Tree('S', [Tree('PP', [('Ich', 'PRON')]), Tree('REL', [Tree('C', [('und', 'CONJ')])]), Tree('NP', [('mein', 'DET'), ('Sohn', 'NOUN')]), Tree('REL', [Tree('V', [('gehen', 'VERB')]), Tree('W', [('heute', 'ADV')]), Tree('P', [('zum', 'ADP')])]), Tree('NP', [('Fußball', 'NOUN')])])"
      ]
     },
     "execution_count": 12,
     "metadata": {},
     "output_type": "execute_result"
    }
   ],
   "source": [
    "print(sentences[3])\n",
    "cp = nltk.RegexpParser(grammar)\n",
    "cp.parse(pos_tagged_sentences[3])"
   ]
  },
  {
   "cell_type": "code",
   "execution_count": 13,
   "metadata": {},
   "outputs": [
    {
     "name": "stdout",
     "output_type": "stream",
     "text": [
      "Ich gehe mit Johann in den Zoo.\n"
     ]
    },
    {
     "data": {
      "image/png": "[encoded data removed]",
      "text/plain": [
       "Tree('S', [Tree('PP', [('Ich', 'PRON')]), Tree('REL', [Tree('V', [('gehe', 'VERB')]), Tree('P', [('mit', 'ADP')])]), Tree('NP', [('Johann', 'PROPN')]), Tree('P', [('in', 'ADP')]), Tree('NP', [('den', 'DET'), ('Zoo', 'NOUN')])])"
      ]
     },
     "execution_count": 13,
     "metadata": {},
     "output_type": "execute_result"
    }
   ],
   "source": [
    "print(sentences[4])\n",
    "cp = nltk.RegexpParser(grammar)\n",
    "cp.parse(pos_tagged_sentences[4])"
   ]
  },
  {
   "cell_type": "code",
   "execution_count": 14,
   "metadata": {
    "scrolled": true
   },
   "outputs": [
    {
     "name": "stdout",
     "output_type": "stream",
     "text": [
      "Hans und sein Sohn Hubert.\n"
     ]
    },
    {
     "data": {
      "image/png": "[encoded data removed]",
      "text/plain": [
       "Tree('S', [Tree('NP', [('Hans', 'PROPN')]), Tree('REL', [Tree('C', [('und', 'CONJ')])]), Tree('NP', [('sein', 'DET'), ('Sohn', 'NOUN'), ('Hubert', 'PROPN')])])"
      ]
     },
     "execution_count": 14,
     "metadata": {},
     "output_type": "execute_result"
    }
   ],
   "source": [
    "print(sentences[5])\n",
    "cp = nltk.RegexpParser(grammar)\n",
    "cp.parse(pos_tagged_sentences[5])"
   ]
  },
  {
   "cell_type": "code",
   "execution_count": 15,
   "metadata": {},
   "outputs": [
    {
     "name": "stdout",
     "output_type": "stream",
     "text": [
      "Mein Sohn, der Fußball spielt, hat sich sein verletzt.\n"
     ]
    },
    {
     "data": {
      "image/png": "[encoded data removed]",
      "text/plain": [
       "Tree('S', [Tree('NP', [('Mein', 'DET'), ('Sohn', 'NOUN')]), Tree('NP', [('der', 'DET'), ('Fußball', 'NOUN')]), Tree('REL', [Tree('V', [('spielt', 'VERB')])]), ('hat', 'AUX'), Tree('PP', [('sich', 'PRON')]), ('sein', 'AUX'), Tree('REL', [Tree('V', [('verletzt', 'VERB')])])])"
      ]
     },
     "execution_count": 15,
     "metadata": {},
     "output_type": "execute_result"
    }
   ],
   "source": [
    "print(sentences[6])\n",
    "cp = nltk.RegexpParser(grammar)\n",
    "cp.parse(pos_tagged_sentences[6])"
   ]
  },
  {
   "cell_type": "code",
   "execution_count": 17,
   "metadata": {
    "scrolled": true
   },
   "outputs": [
    {
     "name": "stdout",
     "output_type": "stream",
     "text": [
      "Hans, welcher der Sohn von Hubert ist, geht mit Peter ins Kino.\n"
     ]
    },
    {
     "data": {
      "image/png": "[encoded data removed]",
      "text/plain": [
       "Tree('S', [Tree('NP', [('Hans', 'PROPN')]), Tree('NP', [('welcher', 'DET')]), Tree('NP', [('der', 'DET'), ('Sohn', 'NOUN')]), Tree('P', [('von', 'ADP')]), Tree('NP', [('Hubert', 'PROPN')]), ('ist', 'AUX'), Tree('REL', [Tree('V', [('geht', 'VERB')]), Tree('P', [('mit', 'ADP')])]), Tree('NP', [('Peter', 'PROPN')]), Tree('P', [('ins', 'ADP')]), Tree('NP', [('Kino', 'NOUN')])])"
      ]
     },
     "execution_count": 17,
     "metadata": {},
     "output_type": "execute_result"
    }
   ],
   "source": [
    "print(sentences[7])\n",
    "cp = nltk.RegexpParser(grammar)\n",
    "cp.parse(pos_tagged_sentences[7])"
   ]
  },
  {
   "cell_type": "code",
   "execution_count": 18,
   "metadata": {
    "scrolled": false
   },
   "outputs": [
    {
     "data": {
      "text/plain": [
       "[Tree('S', [Tree('NP', [('Meine', 'DET'), ('kleine', 'ADJ'), ('Enkelin', 'NOUN'), ('Lisa', 'PROPN')]), Tree('REL', [Tree('C', [('und', 'CONJ')])]), Tree('NP', [('mein', 'DET'), ('Enkel', 'NOUN'), ('Lukas', 'PROPN')]), Tree('REL', [Tree('V', [('fliegen', 'VERB')]), Tree('W', [('morgen', 'ADV')]), Tree('P', [('nach', 'ADP')])]), Tree('NP', [('London', 'PROPN')])]),\n",
       " Tree('S', [Tree('PP', [('Sie', 'PRON')]), ('sind', 'AUX'), Tree('P', [('zum', 'ADP')]), Tree('NP', [('ersten', 'ADJ'), ('Mal', 'NOUN')]), Tree('P', [('in', 'ADP')]), Tree('NP', [('England', 'PROPN')])]),\n",
       " Tree('S', [Tree('NP', [('Peter', 'PROPN')]), Tree('REL', [Tree('C', [('und', 'CONJ')])]), Tree('NP', [('Maria', 'PROPN')]), Tree('REL', [Tree('V', [('gehen', 'VERB')]), Tree('W', [('morgen', 'ADV')]), Tree('P', [('ins', 'ADP')])]), Tree('NP', [('Kino', 'NOUN')])]),\n",
       " Tree('S', [Tree('PP', [('Ich', 'PRON')]), Tree('REL', [Tree('C', [('und', 'CONJ')])]), Tree('NP', [('mein', 'DET'), ('Sohn', 'NOUN')]), Tree('REL', [Tree('V', [('gehen', 'VERB')]), Tree('W', [('heute', 'ADV')]), Tree('P', [('zum', 'ADP')])]), Tree('NP', [('Fußball', 'NOUN')])]),\n",
       " Tree('S', [Tree('PP', [('Ich', 'PRON')]), Tree('REL', [Tree('V', [('gehe', 'VERB')]), Tree('P', [('mit', 'ADP')])]), Tree('NP', [('Johann', 'PROPN')]), Tree('P', [('in', 'ADP')]), Tree('NP', [('den', 'DET'), ('Zoo', 'NOUN')])]),\n",
       " Tree('S', [Tree('NP', [('Hans', 'PROPN')]), Tree('REL', [Tree('C', [('und', 'CONJ')])]), Tree('NP', [('sein', 'DET'), ('Sohn', 'NOUN'), ('Hubert', 'PROPN')])]),\n",
       " Tree('S', [Tree('NP', [('Mein', 'DET'), ('Sohn', 'NOUN')]), Tree('NP', [('der', 'DET'), ('Fußball', 'NOUN')]), Tree('REL', [Tree('V', [('spielt', 'VERB')])]), ('hat', 'AUX'), Tree('PP', [('sich', 'PRON')]), ('sein', 'AUX'), Tree('REL', [Tree('V', [('verletzt', 'VERB')])])]),\n",
       " Tree('S', [Tree('NP', [('Hans', 'PROPN')]), Tree('NP', [('welcher', 'DET')]), Tree('NP', [('der', 'DET'), ('Sohn', 'NOUN')]), Tree('P', [('von', 'ADP')]), Tree('NP', [('Hubert', 'PROPN')]), ('ist', 'AUX'), Tree('REL', [Tree('V', [('geht', 'VERB')]), Tree('P', [('mit', 'ADP')])]), Tree('NP', [('Peter', 'PROPN')]), Tree('P', [('ins', 'ADP')]), Tree('NP', [('Kino', 'NOUN')])])]"
      ]
     },
     "execution_count": 18,
     "metadata": {},
     "output_type": "execute_result"
    }
   ],
   "source": [
    "cp = nltk.RegexpParser(grammar)\n",
    "sentence_trees = []\n",
    "\n",
    "for sentence in pos_tagged_sentences:\n",
    "    sentence_trees.append(cp.parse(sentence))\n",
    "\n",
    "sentence_trees"
   ]
  },
  {
   "cell_type": "markdown",
   "metadata": {},
   "source": [
    "### 3. Find the nearest noun phrase left and right to REL"
   ]
  },
  {
   "cell_type": "code",
   "execution_count": 19,
   "metadata": {},
   "outputs": [
    {
     "data": {
      "text/plain": [
       "[[Tree('NP', [('Meine', 'DET'), ('kleine', 'ADJ'), ('Enkelin', 'NOUN'), ('Lisa', 'PROPN')]),\n",
       "  Tree('REL', [Tree('C', [('und', 'CONJ')])]),\n",
       "  Tree('NP', [('mein', 'DET'), ('Enkel', 'NOUN'), ('Lukas', 'PROPN')])],\n",
       " [Tree('NP', [('mein', 'DET'), ('Enkel', 'NOUN'), ('Lukas', 'PROPN')]),\n",
       "  Tree('REL', [Tree('V', [('fliegen', 'VERB')]), Tree('W', [('morgen', 'ADV')]), Tree('P', [('nach', 'ADP')])]),\n",
       "  Tree('NP', [('London', 'PROPN')])],\n",
       " [Tree('NP', [('Peter', 'PROPN')]),\n",
       "  Tree('REL', [Tree('C', [('und', 'CONJ')])]),\n",
       "  Tree('NP', [('Maria', 'PROPN')])],\n",
       " [Tree('NP', [('Maria', 'PROPN')]),\n",
       "  Tree('REL', [Tree('V', [('gehen', 'VERB')]), Tree('W', [('morgen', 'ADV')]), Tree('P', [('ins', 'ADP')])]),\n",
       "  Tree('NP', [('Kino', 'NOUN')])],\n",
       " [Tree('PP', [('Ich', 'PRON')]),\n",
       "  Tree('REL', [Tree('C', [('und', 'CONJ')])]),\n",
       "  Tree('NP', [('mein', 'DET'), ('Sohn', 'NOUN')])],\n",
       " [Tree('NP', [('mein', 'DET'), ('Sohn', 'NOUN')]),\n",
       "  Tree('REL', [Tree('V', [('gehen', 'VERB')]), Tree('W', [('heute', 'ADV')]), Tree('P', [('zum', 'ADP')])]),\n",
       "  Tree('NP', [('Fußball', 'NOUN')])],\n",
       " [Tree('PP', [('Ich', 'PRON')]),\n",
       "  Tree('REL', [Tree('V', [('gehe', 'VERB')]), Tree('P', [('mit', 'ADP')])]),\n",
       "  Tree('NP', [('Johann', 'PROPN')])],\n",
       " [Tree('NP', [('Hans', 'PROPN')]),\n",
       "  Tree('REL', [Tree('C', [('und', 'CONJ')])]),\n",
       "  Tree('NP', [('sein', 'DET'), ('Sohn', 'NOUN'), ('Hubert', 'PROPN')])],\n",
       " [Tree('NP', [('der', 'DET'), ('Fußball', 'NOUN')]),\n",
       "  Tree('REL', [Tree('V', [('spielt', 'VERB')])]),\n",
       "  Tree('PP', [('sich', 'PRON')])],\n",
       " [Tree('PP', [('sich', 'PRON')]),\n",
       "  Tree('REL', [Tree('V', [('verletzt', 'VERB')])]),\n",
       "  Tree('PP', [('sich', 'PRON')])],\n",
       " [Tree('NP', [('Hubert', 'PROPN')]),\n",
       "  Tree('REL', [Tree('V', [('geht', 'VERB')]), Tree('P', [('mit', 'ADP')])]),\n",
       "  Tree('NP', [('Peter', 'PROPN')])]]"
      ]
     },
     "execution_count": 19,
     "metadata": {},
     "output_type": "execute_result"
    }
   ],
   "source": [
    "relations = []\n",
    "\n",
    "for sent_tree in sentence_trees:\n",
    "    for i, sub_tree in enumerate(sent_tree):\n",
    "        if type(sub_tree) is nltk.tree.Tree and sub_tree.label() == 'REL':\n",
    "            rel = sub_tree\n",
    "\n",
    "            # find the nearest NP to the left of REL\n",
    "            for j in range(i-1, -1, -1):\n",
    "                if type(sent_tree[j]) is nltk.tree.Tree and (sent_tree[j].label() == 'NP' or sent_tree[j].label() == 'PP'):\n",
    "                    #print(f'left NP {j}: {tree[j]}')                       \n",
    "                    left_noun = sent_tree[j]\n",
    "                    break\n",
    "            # find the nearest NP to the right of REL\n",
    "            for j in range(i+1, len(sent_tree), 1):\n",
    "                if type(sent_tree[j]) is nltk.tree.Tree and (sent_tree[j].label() == 'NP' or sent_tree[j].label() == 'PP'):\n",
    "                    right_noun = sent_tree[j]\n",
    "                    break\n",
    "\n",
    "            relations.append([left_noun, rel, right_noun])     \n",
    "\n",
    "relations"
   ]
  },
  {
   "cell_type": "code",
   "execution_count": 20,
   "metadata": {
    "scrolled": true
   },
   "outputs": [
    {
     "name": "stdout",
     "output_type": "stream",
     "text": [
      "Relation tuples:\n"
     ]
    },
    {
     "data": {
      "text/plain": [
       "[(['Lisa'], ['und'], ['Lukas']),\n",
       " (['Lukas'], ['fliegen'], ['London']),\n",
       " (['Peter'], ['und'], ['Maria']),\n",
       " (['Maria'], ['gehen'], ['Kino']),\n",
       " (['Sohn'], ['gehen'], ['Fußball']),\n",
       " (['Hans'], ['und'], ['Hubert']),\n",
       " (['Hubert'], ['geht'], ['Peter'])]"
      ]
     },
     "execution_count": 20,
     "metadata": {},
     "output_type": "execute_result"
    }
   ],
   "source": [
    "relation_tuples = []\n",
    "rel_dict = {}\n",
    "for i, relation in enumerate(relations):\n",
    "    relation_tuple = []\n",
    "    \n",
    "    ne1_tree = relation[0]\n",
    "    ne2_tree = relation[2]\n",
    "    rel_tree = relation[1]\n",
    "    #print(ne1, ne2, rel)\n",
    "       \n",
    "    # search for PROPN - if not found search for NOUN\n",
    "    ne1 = [w for w, t in ne1_tree.leaves() if t == 'PROPN']\n",
    "    if not ne1:\n",
    "        ne1 = [w for w, t in ne1_tree.leaves() if t=='NOUN']\n",
    "        \n",
    "    # search for PROPN - if not found search for NOUN\n",
    "    ne2 = [w for w, t in ne2_tree.leaves() if t == 'PROPN']\n",
    "    if not ne2:\n",
    "        ne2 = [w for w, t in ne2_tree.leaves() if t=='NOUN']      \n",
    "        \n",
    "    # search for VERB - if not found search for CONJ\n",
    "    rel = [w for w, t in rel_tree.leaves() if t == 'VERB']\n",
    "    if not rel:\n",
    "        rel = [w for w, t in rel_tree.leaves() if t=='CONJ']\n",
    "        \n",
    "    if ne1 and ne2 and rel:        \n",
    "        relation_tuples.append((ne1, rel, ne2))\n",
    "\n",
    "print('Relation tuples:')\n",
    "relation_tuples"
   ]
  },
  {
   "cell_type": "markdown",
   "metadata": {},
   "source": [
    "## Draw relationships with networkx"
   ]
  },
  {
   "cell_type": "code",
   "execution_count": 21,
   "metadata": {},
   "outputs": [],
   "source": [
    "import os\n",
    "import networkx as nx\n",
    "import matplotlib.pyplot as plt\n",
    "\n",
    "from networkx import nx_pydot\n",
    "\n",
    "os.environ[\"PATH\"] += os.pathsep + 'C:/Program Files (x86)/Graphviz2.38/bin/'"
   ]
  },
  {
   "cell_type": "code",
   "execution_count": 22,
   "metadata": {
    "scrolled": true
   },
   "outputs": [
    {
     "name": "stdout",
     "output_type": "stream",
     "text": [
      "Source: Lisa, Target: Lukas\n",
      "Source: Lukas, Target: London\n",
      "Source: Peter, Target: Maria\n",
      "Source: Maria, Target: Kino\n",
      "Source: Sohn, Target: Fußball\n",
      "Source: Hans, Target: Hubert\n",
      "Source: Hubert, Target: Peter\n"
     ]
    },
    {
     "data": {
      "image/png": "[encoded data removed]",
      "text/plain": [
       "<Figure size 432x288 with 1 Axes>"
      ]
     },
     "metadata": {},
     "output_type": "display_data"
    }
   ],
   "source": [
    "ng = nx.DiGraph()\n",
    "\n",
    "for relation in relation_tuples:\n",
    "    source = relation[0][0]\n",
    "    target = relation[2][0]\n",
    "    print(f\"Source: {source}, Target: {target}\")\n",
    "    ng.add_edge(source, target)\n",
    "\n",
    "#nx.spring_layout(ng)\n",
    "nx.draw(ng, with_labels=True)"
   ]
  },
  {
   "cell_type": "markdown",
   "metadata": {},
   "source": [
    "## 4. Assign confidence value\n",
    "\n",
    "* compute confidence score for each relation using a logistic regression classifier\n",
    "* classifier is trained by taking 1000 random web sentences, running the extactor, and hand labelling each extracted relation as correct or incorrect\n",
    "* confidence classifier is trained on theses hand-labeled data using the features of the relation and surrounding words"
   ]
  },
  {
   "cell_type": "markdown",
   "metadata": {},
   "source": [
    "TODO"
   ]
  },
  {
   "cell_type": "code",
   "execution_count": null,
   "metadata": {},
   "outputs": [],
   "source": []
  }
 ],
 "metadata": {
  "kernelspec": {
   "display_name": "Python 3",
   "language": "python",
   "name": "python3"
  },
  "language_info": {
   "codemirror_mode": {
    "name": "ipython",
    "version": 3
   },
   "file_extension": ".py",
   "mimetype": "text/x-python",
   "name": "python",
   "nbconvert_exporter": "python",
   "pygments_lexer": "ipython3",
   "version": "3.6.4"
  }
 },
 "nbformat": 4,
 "nbformat_minor": 2
}
