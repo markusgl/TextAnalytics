{
 "cells": [
  {
   "cell_type": "code",
   "execution_count": 7,
   "metadata": {},
   "outputs": [
    {
     "data": {
      "image/png": "[encoded data removed]",
      "text/plain": [
       "Tree('S', [Tree('REL', [Tree('NP', [('My', 'ADJ'), ('daughter', 'NOUN'), ('Lisa', 'PROPN')])]), ('is', 'VERB'), ('moving', 'VERB'), ('to', 'ADP'), ('London', 'PROPN'), ('next', 'ADJ'), ('month', 'NOUN')])"
      ]
     },
     "execution_count": 7,
     "metadata": {},
     "output_type": "execute_result"
    }
   ],
   "source": [
    "import nltk\n",
    "import re\n",
    "import spacy\n",
    "\n",
    "from nltk.tokenize import word_tokenize\n",
    "nlp = spacy.load('en')\n",
    "\n",
    "\n",
    "grammar_en = r\"\"\"\n",
    "            PP: {<PRON><VERB><DET>?<ADJ>?<NOUN>}\n",
    "            NP: {<ADJ><ADJ>?<NOUN><PROPN>}            \n",
    "            REL: {<PP>|<NP>}\"\"\"\n",
    "\n",
    "relationship_list = ['father', 'mother', 'dad', 'daddy', 'mom', 'mommy', 'son', 'daughter', 'brother', 'sister',\n",
    "                     'grandchild', 'grandson', 'granddaughter', 'grandfather', 'grandmother',\n",
    "                     'grampa', 'grandpa', 'grandma', 'niece', 'nephew', 'uncle', 'aunt', 'cousin'\n",
    "                                                                                         'brother-in-law',\n",
    "                     'sister-in-law', 'husband', 'wife']\n",
    "me_list = ['i', 'my']\n",
    "\n",
    "\n",
    "def search_rel_type(sentence):\n",
    "    for token in word_tokenize(sentence):\n",
    "        if token.lower() in relationship_list:\n",
    "            return token.lower()\n",
    "\n",
    "    return None\n",
    "\n",
    "\n",
    "def pos_tag_sentence(sentence):\n",
    "    sentence = re.sub('\\W+', ' ', sentence)\n",
    "    doc = nlp(sentence)\n",
    "\n",
    "    pos_tagged_sentence = []\n",
    "    for token in doc:\n",
    "        pos_tuple = (token.text, token.pos_)\n",
    "        pos_tagged_sentence.append(pos_tuple)\n",
    "\n",
    "    #print(pos_tagged_sentence)\n",
    "    return pos_tagged_sentence\n",
    "\n",
    "\n",
    "def chunk_sentence(pos_tagged_sentence):\n",
    "    cp = nltk.RegexpParser(grammar_en)\n",
    "    result = cp.parse(pos_tagged_sentence)\n",
    "    #print(f'Chunk: {result}')\n",
    "    cp.parse(pos_tagged_sentence)\n",
    "\n",
    "    return result\n",
    "\n",
    "\n",
    "def extract_rel(sentence):\n",
    "    me = None\n",
    "\n",
    "    relative = search_rel_type(sentence)\n",
    "    if relative:\n",
    "        chunk_tree = chunk_sentence(pos_tag_sentence(sentence))\n",
    "\n",
    "        for i, sub_tree in enumerate(chunk_tree):\n",
    "            if type(sub_tree) is nltk.tree.Tree and sub_tree.label() == 'REL':\n",
    "                me = sub_tree[0][0][0]\n",
    "\n",
    "    return me, relative\n",
    "\n",
    "\n",
    "\n",
    "# EN\n",
    "positive_text1_en = u'''My little sister'''\n",
    "positive_text2_en = u'''I have an older brother'''\n",
    "positive_text3_en = u'''My daughter Lisa lives in Berlin'''\n",
    "positive_text4_en = u'''My daughter Lisa is moving to London next month.'''\n",
    "\n",
    "negative_text1_en = u'''her brother'''\n",
    "negative_text2_en = u'''his father John'''\n",
    "\n",
    "result = chunk_sentence(pos_tag_sentence(positive_text4_en))\n",
    "result"
   ]
  },
  {
   "cell_type": "code",
   "execution_count": null,
   "metadata": {},
   "outputs": [],
   "source": []
  }
 ],
 "metadata": {
  "kernelspec": {
   "display_name": "Python 3",
   "language": "python",
   "name": "python3"
  },
  "language_info": {
   "codemirror_mode": {
    "name": "ipython",
    "version": 3
   },
   "file_extension": ".py",
   "mimetype": "text/x-python",
   "name": "python",
   "nbconvert_exporter": "python",
   "pygments_lexer": "ipython3",
   "version": "3.6.4"
  }
 },
 "nbformat": 4,
 "nbformat_minor": 2
}
