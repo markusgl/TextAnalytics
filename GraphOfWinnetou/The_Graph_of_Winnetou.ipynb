{
 "cells": [
  {
   "cell_type": "code",
   "execution_count": 37,
   "metadata": {},
   "outputs": [],
   "source": [
    "import re\n",
    "import csv\n",
    "import json\n",
    "import pandas as pd\n",
    "\n",
    "from nltk.tokenize import word_tokenize\n",
    "from py2neo import Graph, Node, Relationship, NodeMatcher\n",
    "from igraph import Graph as IGraph"
   ]
  },
  {
   "cell_type": "markdown",
   "metadata": {},
   "source": [
    "### Read the raw book data"
   ]
  },
  {
   "cell_type": "code",
   "execution_count": 2,
   "metadata": {},
   "outputs": [],
   "source": [
    "with open('./data/Winnetou_Band3.txt', 'r', encoding='utf-8') as f:\n",
    "    raw_book_data = f.read()"
   ]
  },
  {
   "cell_type": "markdown",
   "metadata": {},
   "source": [
    "### Prepare the raw book text\n",
    "* remove double blank lines\n",
    "* skip the header lines (first 6 lines)\n",
    "* remove non-word characters\n",
    "* remove two or more consecutive whitespaces"
   ]
  },
  {
   "cell_type": "code",
   "execution_count": 3,
   "metadata": {},
   "outputs": [],
   "source": [
    "book_data = raw_book_data.replace('\\n\\n', ' ')  # remove blank lines\n",
    "# skip the first 6 lines because they only contain meta info\n",
    "\n",
    "clean_data = ''\n",
    "for i, row in enumerate(book_data.splitlines()):\n",
    "    if i > 5:\n",
    "        clean_data += str(row)\n",
    "\n",
    "clean_data = re.sub(r'\\W', ' ', clean_data) # remove non-word characters\n",
    "clean_data = re.sub(r'\\s{2,}', ' ', clean_data)  # remove two or more consecutive whitespaces"
   ]
  },
  {
   "cell_type": "code",
   "execution_count": 4,
   "metadata": {
    "scrolled": true
   },
   "outputs": [
    {
     "data": {
      "text/plain": [
       "'Ich hatte seit dem frühen Morgen eine tüchtige Strecke zurückgelegt Jetzt fühlte ich mich einigermaßen ermüdet und von den kräftigen Strahlen der hoch im Zenit stehenden Sonne belästigt daher beschloß ich Rast zu halten und mein Mittagsmahl zu mir zu nehmen Die Prairie dehnte sich eine Bodenwelle nach der andern bildend in unendlicher Weite vor mir aus Seit fünf Tagen wo unsere Gesellschaft durch einen zahlreichen Trupp Ogellallahs zersprengt worden war hatte ich weder ein nennenswertes Tier noch die Spur eines Menschen bemerkt und begann nun endlich mich nach irgend einem vernünftigen Wesen zu sehnen an welchem ich erproben konnte ob mir nicht vielleicht infolge des lange anhaltenden Schweigens die Sprache verloren gegangen sei Einen Bach oder ein sonstiges Wasser gab es hier nicht Wald oder Buschwerk ebensowenig ich brauchte also nicht lange zu wählen und konnte Halt machen wo es mir eben beliebte Ich sprang in einem Wellentale zur Erde hobbelte Trapperausdruck für mit dem Lasso die '"
      ]
     },
     "execution_count": 4,
     "metadata": {},
     "output_type": "execute_result"
    }
   ],
   "source": [
    "clean_data[:1000] # print the first 1000 signs"
   ]
  },
  {
   "cell_type": "markdown",
   "metadata": {},
   "source": [
    "## List of names consisting multiple words"
   ]
  },
  {
   "cell_type": "code",
   "execution_count": 5,
   "metadata": {},
   "outputs": [],
   "source": [
    "mult_word_names = ['Fred Buller', 'Gustel Ebersbach', 'Ebersbachs Gustel', 'Don Fernando', 'Donna Elvira de Gonzalez',\n",
    "                  'Donna Elvira', 'Elvira de Gonzalez', 'Sennor Henrico Gonzalez', 'Sennor Henrico', 'Henrico Gonzalez',\n",
    "                   'Samuel Haller', 'Sam Hawkens', 'Vater Hillmann', 'alte Hillmann', 'jungen Hillmann',\n",
    "                   'junge Hillmann', 'Frau Willys', 'Juwelier Marshall', 'Bernard Marshall', 'Bernard Marshall',\n",
    "                   'Bill Meinert', 'Fred Morgan', 'Patrik Morgan', 'Old Shatterhand', 'Old Firehand', 'Pidas Squaw',\n",
    "                   'Fred Walker']"
   ]
  },
  {
   "cell_type": "markdown",
   "metadata": {},
   "source": [
    "### Replace the whitespaces inside names words with hyphen"
   ]
  },
  {
   "cell_type": "code",
   "execution_count": 6,
   "metadata": {},
   "outputs": [
    {
     "data": {
      "text/plain": [
       "'Ich hatte seit dem frühen Morgen eine tüchtige Strecke zurückgelegt Jetzt fühlte ich mich einigermaßen ermüdet und von den kräftigen Strahlen der hoch im Zenit stehenden Sonne belästigt daher beschloß ich Rast zu halten und mein Mittagsmahl zu mir zu nehmen Die Prairie dehnte sich eine Bodenwelle nach der andern bildend in unendlicher Weite vor mir aus Seit fünf Tagen wo unsere Gesellschaft durch einen zahlreichen Trupp Ogellallahs zersprengt worden war hatte ich weder ein nennenswertes Tier noch die Spur eines Menschen bemerkt und begann nun endlich mich nach irgend einem vernünftigen Wesen zu sehnen an welchem ich erproben konnte ob mir nicht vielleicht infolge des lange anhaltenden Schweigens die Sprache verloren gegangen sei Einen Bach oder ein sonstiges Wasser gab es hier nicht Wald oder Buschwerk ebensowenig ich brauchte also nicht lange zu wählen und konnte Halt machen wo es mir eben beliebte Ich sprang in einem Wellentale zur Erde hobbelte Trapperausdruck für mit dem Lasso die '"
      ]
     },
     "execution_count": 6,
     "metadata": {},
     "output_type": "execute_result"
    }
   ],
   "source": [
    "for name in mult_word_names:\n",
    "    tokens = word_tokenize(name)\n",
    "    replace_name = \"\"\n",
    "    for i, token in enumerate(tokens):\n",
    "        if i > 0:\n",
    "            replace_name += '-' + token\n",
    "        else:\n",
    "            replace_name += token\n",
    "\n",
    "    clean_data = re.sub(name, replace_name, clean_data)\n",
    "clean_data[:1000]"
   ]
  },
  {
   "cell_type": "code",
   "execution_count": 7,
   "metadata": {},
   "outputs": [],
   "source": [
    "# manually created list with persons\n",
    "persons_dict = {'Alma': ['Alma'],\n",
    "                'Bob': ['Bob'],\n",
    "                'Buller': ['Fred-Buller', 'Buller'],\n",
    "                'Capitano': ['Capitano'],\n",
    "                'Clay': ['Clay'],\n",
    "                'Conchez': ['Conchez'],\n",
    "                'Auguste': ['Gustel-Ebersbach', 'Ebersbachs-Gustel', 'Ebersbach'],\n",
    "                'Eulalia': ['Eulalia'],\n",
    "                'Fernando': ['Don-Fernando'],\n",
    "                'Gates': ['Gates'],\n",
    "                'ElviraG.': ['Donna-Elvira-de-Gonzalez', 'Donna-Elvira', 'Elvira-de-Gonzalez'],\n",
    "                'HenricG.': ['Sennor-Henrico-Gonzalez', 'Sennor-Henrico', 'Henrico-Gonzalez'],\n",
    "                'Haller': ['Samuel-Haller', 'Haller'],\n",
    "                'SamHawkens': ['Sam-Hawkens', 'Sam', 'Sams'],\n",
    "                'Hi-Iah-dih': ['Hi-Iah-dih'],\n",
    "                'V.Hillmann': ['Vater-Hillmann', 'alte-Hillmann', 'Hillmann'],\n",
    "                'W.Hillmann': ['Willy', 'jungen-Hillmann', 'junge-Hillmann'],\n",
    "                'Fr.HillmannJung': ['Frau-Willys'],\n",
    "                'Hoblyn': ['Hoblyn'],\n",
    "                'Holfert': ['Holfert'],\n",
    "                'Inta': ['Inta'],\n",
    "                'Kakho-oto': ['Kakho-oto'],\n",
    "                'Ka-wo-mien': ['Ka-wo-mien'],\n",
    "                'Ko-itse': ['Ko-itse'],\n",
    "                'Ko-tu-cho': ['Ko-tu-cho'],\n",
    "                'Ma-ram': ['Ma-ram'],\n",
    "                'A.Marshall': ['Juwelier-Marshall'],\n",
    "                'B.Marshall': ['Bernard-Marshall', 'Bernard-Marshall', 'Bernards', 'Marshall'],\n",
    "                'Ma-ti-ru': ['Ma-ti-ru'],\n",
    "                'B.Meinert': ['Bill-Meinert'],\n",
    "                'F.Morgan': ['Fred-Morgan', 'Morgan'],\n",
    "                'P.Morgan': ['Patrik-Morgan'],\n",
    "                'Ohiamann': ['Ohiomann'],\n",
    "                'Ohlers': ['Ohlers'],\n",
    "                'OldShatterhand': ['Old-Shatterhand', 'Shatterhand'],\n",
    "                'OldFirehand': ['Old-Firehand'],\n",
    "                'Pida': ['Pida'],\n",
    "                'PidasSquaw': ['Pidas-Squaw'],\n",
    "                'Rudge': ['Rudge'],\n",
    "                'Sanchez': ['Sanchez'],\n",
    "                'Sans-ear': ['Sans-ear'],\n",
    "                'Santer': ['Santer'],\n",
    "                'Shelley': ['Shelley'],\n",
    "                'Summer': ['Summer'],\n",
    "                'Sus-Homascha': ['Sus-Homascha'],\n",
    "                'Tangua': ['Tangua'],\n",
    "                'Til-Lata': ['Til-Lata'],\n",
    "                'To-kei-chun': ['To-kei-chun'],\n",
    "                'F.Walker': ['Fred-Walker', 'Walker'],\n",
    "                'Williams': ['Williams'],\n",
    "                'Winnetou': ['Winnetou'],\n",
    "                'Yato-Ka': ['Yato-Ka']\n",
    "                }"
   ]
  },
  {
   "cell_type": "code",
   "execution_count": 8,
   "metadata": {},
   "outputs": [],
   "source": [
    "relationship_dict = {}\n",
    "#relationships_df = pd.DataFrame(columns=['Source', 'Target', 'Weight'])\n",
    "\n",
    "tokenized_text = word_tokenize(clean_data)\n",
    "substring_length = 15"
   ]
  },
  {
   "cell_type": "code",
   "execution_count": null,
   "metadata": {},
   "outputs": [],
   "source": []
  },
  {
   "cell_type": "code",
   "execution_count": 9,
   "metadata": {},
   "outputs": [],
   "source": [
    "def _search_persons(tokenized_string, primary_person=None):\n",
    "    for key, value in persons_dict.items():\n",
    "        for i, token in enumerate(tokenized_string):\n",
    "            if token in value and key != primary_person:\n",
    "                    dict_key = primary_person + '_' + key\n",
    "                    if dict_key in relationship_dict.keys():\n",
    "                        relationship_dict[dict_key] += 1\n",
    "                    else:\n",
    "                        relationship_dict[dict_key] = 1"
   ]
  },
  {
   "cell_type": "code",
   "execution_count": 10,
   "metadata": {},
   "outputs": [],
   "source": [
    "for key, value in persons_dict.items():\n",
    "    for i, token in enumerate(tokenized_text):\n",
    "        if token in value:\n",
    "            found_person = key\n",
    "            tmp_substring = tokenized_text[i - substring_length:i] + tokenized_text[i+1:i + substring_length]\n",
    "            _search_persons(tmp_substring, found_person)\n"
   ]
  },
  {
   "cell_type": "markdown",
   "metadata": {},
   "source": [
    "### Draw with networkx"
   ]
  },
  {
   "cell_type": "code",
   "execution_count": 11,
   "metadata": {
    "scrolled": true
   },
   "outputs": [
    {
     "data": {
      "text/plain": [
       "{'Alma_Eulalia': 4,\n",
       " 'Alma_Fernando': 2,\n",
       " 'Alma_HenricG.': 1,\n",
       " 'Bob_SamHawkens': 11,\n",
       " 'Bob_Williams': 2,\n",
       " 'Bob_Hoblyn': 3,\n",
       " 'Bob_Holfert': 3,\n",
       " 'Bob_Winnetou': 7,\n",
       " 'Bob_Eulalia': 1,\n",
       " 'Bob_F.Morgan': 1,\n",
       " 'Buller_B.Marshall': 1,\n",
       " 'Capitano_Williams': 2,\n",
       " 'Capitano_Hoblyn': 5,\n",
       " 'Capitano_SamHawkens': 1,\n",
       " 'Capitano_Conchez': 7,\n",
       " 'Capitano_Winnetou': 3,\n",
       " 'Clay_Gates': 10,\n",
       " 'Clay_Summer': 15,\n",
       " 'Clay_Santer': 2,\n",
       " 'Clay_Pida': 1,\n",
       " 'Clay_OldShatterhand': 1,\n",
       " 'Conchez_Capitano': 7,\n",
       " 'Conchez_Hoblyn': 4,\n",
       " 'Conchez_Winnetou': 1,\n",
       " 'Eulalia_Alma': 5,\n",
       " 'Eulalia_Fernando': 11,\n",
       " 'Eulalia_Bob': 1,\n",
       " 'Fernando_Eulalia': 11,\n",
       " 'Fernando_Alma': 2,\n",
       " 'Gates_Clay': 10,\n",
       " 'Gates_Summer': 10,\n",
       " 'Gates_Santer': 12,\n",
       " 'Gates_Pida': 2,\n",
       " 'Gates_OldShatterhand': 1,\n",
       " 'HenricG._Alma': 1,\n",
       " 'HenricG._B.Marshall': 1,\n",
       " 'Haller_OldShatterhand': 1,\n",
       " 'Haller_OldFirehand': 1,\n",
       " 'Haller_Winnetou': 4,\n",
       " 'Haller_SamHawkens': 2,\n",
       " 'Haller_F.Walker': 1,\n",
       " 'SamHawkens_F.Morgan': 5,\n",
       " 'SamHawkens_Bob': 11,\n",
       " 'SamHawkens_B.Marshall': 6,\n",
       " 'SamHawkens_Williams': 1,\n",
       " 'SamHawkens_P.Morgan': 3,\n",
       " 'SamHawkens_Capitano': 1,\n",
       " 'SamHawkens_Winnetou': 19,\n",
       " 'SamHawkens_Hoblyn': 2,\n",
       " 'SamHawkens_Buller': 1,\n",
       " 'SamHawkens_Haller': 2,\n",
       " 'SamHawkens_Pida': 2,\n",
       " 'V.Hillmann_Winnetou': 2,\n",
       " 'W.Hillmann_Fr.HillmannJung': 1,\n",
       " 'W.Hillmann_B.Meinert': 1,\n",
       " 'Fr.HillmannJung_W.Hillmann': 1,\n",
       " 'Hoblyn_Williams': 1,\n",
       " 'Hoblyn_Bob': 4,\n",
       " 'Hoblyn_Capitano': 5,\n",
       " 'Hoblyn_Conchez': 4,\n",
       " 'Hoblyn_SamHawkens': 2,\n",
       " 'Hoblyn_Winnetou': 1,\n",
       " 'Holfert_B.Marshall': 5,\n",
       " 'Holfert_Bob': 3,\n",
       " 'Holfert_Winnetou': 2,\n",
       " 'Holfert_F.Morgan': 2,\n",
       " 'Inta_Santer': 1,\n",
       " 'Inta_Winnetou': 1,\n",
       " 'B.Marshall_SamHawkens': 5,\n",
       " 'B.Marshall_Holfert': 5,\n",
       " 'B.Marshall_F.Morgan': 2,\n",
       " 'B.Marshall_Williams': 1,\n",
       " 'B.Marshall_Winnetou': 1,\n",
       " 'B.Marshall_HenricG.': 1,\n",
       " 'B.Marshall_Buller': 1,\n",
       " 'B.Meinert_W.Hillmann': 1,\n",
       " 'B.Meinert_Winnetou': 1,\n",
       " 'F.Morgan_SamHawkens': 5,\n",
       " 'F.Morgan_B.Marshall': 2,\n",
       " 'F.Morgan_Holfert': 2,\n",
       " 'F.Morgan_Bob': 1,\n",
       " 'P.Morgan_SamHawkens': 3,\n",
       " 'Ohlers_Rudge': 2,\n",
       " 'OldShatterhand_Haller': 1,\n",
       " 'OldShatterhand_OldFirehand': 4,\n",
       " 'OldShatterhand_Winnetou': 13,\n",
       " 'OldShatterhand_Williams': 1,\n",
       " 'OldShatterhand_F.Walker': 3,\n",
       " 'OldShatterhand_Santer': 13,\n",
       " 'OldShatterhand_Pida': 8,\n",
       " 'OldShatterhand_Tangua': 4,\n",
       " 'OldShatterhand_Clay': 1,\n",
       " 'OldShatterhand_Gates': 1,\n",
       " 'OldShatterhand_Summer': 1,\n",
       " 'OldFirehand_Haller': 1,\n",
       " 'OldFirehand_OldShatterhand': 4,\n",
       " 'OldFirehand_Winnetou': 3,\n",
       " 'OldFirehand_F.Walker': 1,\n",
       " 'Pida_Tangua': 8,\n",
       " 'Pida_Santer': 13,\n",
       " 'Pida_OldShatterhand': 7,\n",
       " 'Pida_SamHawkens': 2,\n",
       " 'Pida_Clay': 1,\n",
       " 'Pida_Gates': 1,\n",
       " 'Pida_Summer': 1,\n",
       " 'Pida_PidasSquaw': 1,\n",
       " 'Pida_Winnetou': 1,\n",
       " 'PidasSquaw_Pida': 1,\n",
       " 'Rudge_Ohlers': 2,\n",
       " 'Santer_Tangua': 9,\n",
       " 'Santer_Clay': 4,\n",
       " 'Santer_Gates': 11,\n",
       " 'Santer_Winnetou': 4,\n",
       " 'Santer_OldShatterhand': 12,\n",
       " 'Santer_Pida': 12,\n",
       " 'Santer_Summer': 2,\n",
       " 'Santer_Inta': 1,\n",
       " 'Summer_Clay': 15,\n",
       " 'Summer_Gates': 10,\n",
       " 'Summer_Santer': 2,\n",
       " 'Summer_Pida': 1,\n",
       " 'Summer_OldShatterhand': 1,\n",
       " 'Tangua_Santer': 9,\n",
       " 'Tangua_Winnetou': 1,\n",
       " 'Tangua_Pida': 8,\n",
       " 'Tangua_OldShatterhand': 6,\n",
       " 'F.Walker_OldShatterhand': 3,\n",
       " 'F.Walker_OldFirehand': 1,\n",
       " 'F.Walker_Winnetou': 12,\n",
       " 'F.Walker_Haller': 1,\n",
       " 'Williams_Bob': 2,\n",
       " 'Williams_SamHawkens': 1,\n",
       " 'Williams_OldShatterhand': 1,\n",
       " 'Williams_Capitano': 2,\n",
       " 'Williams_Hoblyn': 1,\n",
       " 'Williams_B.Marshall': 1,\n",
       " 'Winnetou_Haller': 4,\n",
       " 'Winnetou_OldShatterhand': 13,\n",
       " 'Winnetou_OldFirehand': 3,\n",
       " 'Winnetou_SamHawkens': 18,\n",
       " 'Winnetou_Holfert': 2,\n",
       " 'Winnetou_Capitano': 3,\n",
       " 'Winnetou_Conchez': 1,\n",
       " 'Winnetou_Bob': 8,\n",
       " 'Winnetou_Hoblyn': 1,\n",
       " 'Winnetou_B.Marshall': 1,\n",
       " 'Winnetou_F.Walker': 12,\n",
       " 'Winnetou_V.Hillmann': 2,\n",
       " 'Winnetou_B.Meinert': 1,\n",
       " 'Winnetou_Santer': 4,\n",
       " 'Winnetou_Tangua': 1,\n",
       " 'Winnetou_Pida': 1}"
      ]
     },
     "execution_count": 11,
     "metadata": {},
     "output_type": "execute_result"
    }
   ],
   "source": [
    "relationship_dict"
   ]
  },
  {
   "cell_type": "code",
   "execution_count": 12,
   "metadata": {},
   "outputs": [
    {
     "name": "stdout",
     "output_type": "stream",
     "text": [
      "Source: Alma, Target: Eulalia, Weight 4\n",
      "Source: Bob, Target: SamHawkens, Weight 11\n",
      "Source: Bob, Target: Hoblyn, Weight 3\n",
      "Source: Bob, Target: Holfert, Weight 3\n",
      "Source: Bob, Target: Winnetou, Weight 7\n",
      "Source: Capitano, Target: Hoblyn, Weight 5\n",
      "Source: Capitano, Target: Conchez, Weight 7\n",
      "Source: Capitano, Target: Winnetou, Weight 3\n",
      "Source: Clay, Target: Gates, Weight 10\n",
      "Source: Clay, Target: Summer, Weight 15\n",
      "Source: Conchez, Target: Capitano, Weight 7\n",
      "Source: Conchez, Target: Hoblyn, Weight 4\n",
      "Source: Eulalia, Target: Alma, Weight 5\n",
      "Source: Eulalia, Target: Fernando, Weight 11\n",
      "Source: Fernando, Target: Eulalia, Weight 11\n",
      "Source: Gates, Target: Clay, Weight 10\n",
      "Source: Gates, Target: Summer, Weight 10\n",
      "Source: Gates, Target: Santer, Weight 12\n",
      "Source: Haller, Target: Winnetou, Weight 4\n",
      "Source: SamHawkens, Target: F.Morgan, Weight 5\n",
      "Source: SamHawkens, Target: Bob, Weight 11\n",
      "Source: SamHawkens, Target: B.Marshall, Weight 6\n",
      "Source: SamHawkens, Target: P.Morgan, Weight 3\n",
      "Source: SamHawkens, Target: Winnetou, Weight 19\n",
      "Source: Hoblyn, Target: Bob, Weight 4\n",
      "Source: Hoblyn, Target: Capitano, Weight 5\n",
      "Source: Hoblyn, Target: Conchez, Weight 4\n",
      "Source: Holfert, Target: B.Marshall, Weight 5\n",
      "Source: Holfert, Target: Bob, Weight 3\n",
      "Source: B.Marshall, Target: SamHawkens, Weight 5\n",
      "Source: B.Marshall, Target: Holfert, Weight 5\n",
      "Source: F.Morgan, Target: SamHawkens, Weight 5\n",
      "Source: P.Morgan, Target: SamHawkens, Weight 3\n",
      "Source: OldShatterhand, Target: OldFirehand, Weight 4\n",
      "Source: OldShatterhand, Target: Winnetou, Weight 13\n",
      "Source: OldShatterhand, Target: F.Walker, Weight 3\n",
      "Source: OldShatterhand, Target: Santer, Weight 13\n",
      "Source: OldShatterhand, Target: Pida, Weight 8\n",
      "Source: OldShatterhand, Target: Tangua, Weight 4\n",
      "Source: OldFirehand, Target: OldShatterhand, Weight 4\n",
      "Source: OldFirehand, Target: Winnetou, Weight 3\n",
      "Source: Pida, Target: Tangua, Weight 8\n",
      "Source: Pida, Target: Santer, Weight 13\n",
      "Source: Pida, Target: OldShatterhand, Weight 7\n",
      "Source: Santer, Target: Tangua, Weight 9\n",
      "Source: Santer, Target: Clay, Weight 4\n",
      "Source: Santer, Target: Gates, Weight 11\n",
      "Source: Santer, Target: Winnetou, Weight 4\n",
      "Source: Santer, Target: OldShatterhand, Weight 12\n",
      "Source: Santer, Target: Pida, Weight 12\n",
      "Source: Summer, Target: Clay, Weight 15\n",
      "Source: Summer, Target: Gates, Weight 10\n",
      "Source: Tangua, Target: Santer, Weight 9\n",
      "Source: Tangua, Target: Pida, Weight 8\n",
      "Source: Tangua, Target: OldShatterhand, Weight 6\n",
      "Source: F.Walker, Target: OldShatterhand, Weight 3\n",
      "Source: F.Walker, Target: Winnetou, Weight 12\n",
      "Source: Winnetou, Target: Haller, Weight 4\n",
      "Source: Winnetou, Target: OldShatterhand, Weight 13\n",
      "Source: Winnetou, Target: OldFirehand, Weight 3\n",
      "Source: Winnetou, Target: SamHawkens, Weight 18\n",
      "Source: Winnetou, Target: Capitano, Weight 3\n",
      "Source: Winnetou, Target: Bob, Weight 8\n",
      "Source: Winnetou, Target: F.Walker, Weight 12\n",
      "Source: Winnetou, Target: Santer, Weight 4\n"
     ]
    }
   ],
   "source": [
    "# draw graph with networkx\n",
    "import networkx as nx\n",
    "import matplotlib.pyplot as plt\n",
    "ng = nx.Graph()\n",
    "tmp_list = []\n",
    "\n",
    "for key, value in relationship_dict.items():\n",
    "    if value > 2:  # only weights over 2 will be recognized as interaction\n",
    "        tmp_list = key.split('_')\n",
    "        tmp_list.append(value)\n",
    "\n",
    "        print(\"Source: {}, Target: {}, Weight {}\".format(tmp_list[0], tmp_list[1], tmp_list[2]))\n",
    "        ng.add_edge(tmp_list[0], tmp_list[1], weight=int(tmp_list[2]))\n",
    "    "
   ]
  },
  {
   "cell_type": "markdown",
   "metadata": {},
   "source": [
    "## Draw Network Graph with NetworkX "
   ]
  },
  {
   "cell_type": "code",
   "execution_count": 23,
   "metadata": {
    "scrolled": true
   },
   "outputs": [
    {
     "data": {
      "image/png": "[encoded data removed]",
      "text/plain": [
       "<Figure size 432x288 with 1 Axes>"
      ]
     },
     "metadata": {},
     "output_type": "display_data"
    }
   ],
   "source": [
    "from networkx import nx_pydot\n",
    "import os\n",
    "os.environ[\"PATH\"] += os.pathsep + 'C:/Program Files (x86)/Graphviz2.38/bin/'\n",
    "\n",
    "e_small = [(u, v) for (u, v, d) in ng.edges(data=True) if d['weight'] <= 3]\n",
    "e_middle = [(u, v) for (u, v, d) in ng.edges(data=True) if d['weight'] <= 6]\n",
    "e_large = [(u, v) for (u, v, d) in ng.edges(data=True) if d['weight'] > 6]\n",
    "#pos = nx.spring_layout(ng)  # positions for all nodes\n",
    "pos = nx.nx_pydot.graphviz_layout(ng, prog='dot')\n",
    "\n",
    "# nodes\n",
    "nx.draw_networkx_nodes(ng, pos, node_size=300)\n",
    "\n",
    "# edges\n",
    "nx.draw_networkx_edges(ng, pos, edgelist=e_small, width=1)\n",
    "nx.draw_networkx_edges(ng, pos, edgelist=e_middle, width=2)\n",
    "nx.draw_networkx_edges(ng, pos, edgelist=e_large, width=6)\n",
    "\n",
    "# labels\n",
    "nx.draw_networkx_labels(ng, pos, font_size=11, font_family='sans-serif')\n",
    "\n",
    "#plt.axis('off')  # disable axis\n",
    "plt.show()\n"
   ]
  },
  {
   "cell_type": "markdown",
   "metadata": {},
   "source": [
    "### Save to Neo4j database"
   ]
  },
  {
   "cell_type": "code",
   "execution_count": 38,
   "metadata": {
    "scrolled": true
   },
   "outputs": [],
   "source": [
    "with open('neo4j_creds.json') as f:\n",
    "    data = json.load(f)\n",
    "username = data['username']\n",
    "password = data['password']\n",
    "graph = Graph(host=\"localhost\", username=username, password=password)\n",
    "\n",
    "def add_node_by_name(name):\n",
    "    node = Node(\"Character\", name=name)\n",
    "    graph.create(node)\n",
    "\n",
    "    return node\n",
    "\n",
    "def get_node_by_name(name):\n",
    "    matcher = NodeMatcher(graph)\n",
    "    node = matcher.match('Character', name=name).first()\n",
    "\n",
    "    return node\n",
    "\n",
    "def add_relationship(from_person, to_person, weight):\n",
    "    graph.create(Relationship(from_person, \"INTERACTS\", to_person, weight=int(weight)))\n",
    "\n",
    "        \n",
    "tmp_list = []\n",
    "for key, value in relationship_dict.items():\n",
    "    if value > 2:  # only weights over 2 will be recognized as interaction\n",
    "        tmp_list = key.split('_')\n",
    "        source = tmp_list[0]\n",
    "        target = tmp_list[1]\n",
    "        weight = value\n",
    "        \n",
    "        first_node = get_node_by_name(source)\n",
    "        second_node = get_node_by_name(target)\n",
    "\n",
    "        if not first_node:\n",
    "            first_node = add_node_by_name(source)\n",
    "        if not second_node:\n",
    "            second_node = add_node_by_name(target)\n",
    "\n",
    "        add_relationship(first_node, second_node, weight=int(weight))\n"
   ]
  },
  {
   "cell_type": "markdown",
   "metadata": {},
   "source": [
    "### Add pagerank and communities property to nodes (vertices)"
   ]
  },
  {
   "cell_type": "code",
   "execution_count": null,
   "metadata": {},
   "outputs": [],
   "source": [
    "def add_pagerank():\n",
    "    \"\"\"\n",
    "    add rankig to each node using google pagerank algorithm\n",
    "    \"\"\"\n",
    "\n",
    "    query = '''\n",
    "    MATCH (c1:Character)-[r:INTERACTS]->(c2:Character)\n",
    "    RETURN c1.name, c2.name, r.weight AS weight\n",
    "    '''\n",
    "    ig = IGraph.TupleList(graph.run(query), weights=True)\n",
    "\n",
    "    pg = ig.pagerank()\n",
    "    pgvs = []\n",
    "    for p in zip(ig.vs, pg):\n",
    "        print(p)\n",
    "        pgvs.append({\"name\": p[0][\"name\"], \"pg\": p[1]})\n",
    "\n",
    "    write_clusters_query = '''\n",
    "    UNWIND {nodes} AS n\n",
    "    MATCH (c:Character) WHERE c.name = n.name\n",
    "    SET c.pagerank = n.pg\n",
    "    '''\n",
    "\n",
    "    graph.run(write_clusters_query, nodes=pgvs)\n",
    "\n",
    "def add_communites():\n",
    "    \"\"\"\n",
    "    add community membership to each node using walktrap algorithm implemented in igraph\n",
    "    \"\"\"\n",
    "\n",
    "    query = '''\n",
    "    MATCH (c1:Character)-[r:INTERACTS]->(c2:Character)\n",
    "    RETURN c1.name, c2.name, r.weight AS weight\n",
    "    '''\n",
    "    ig = IGraph.TupleList(graph.run(query), weights=True)\n",
    "\n",
    "    clusters = IGraph.community_walktrap(ig, weights=\"weight\").as_clustering()\n",
    "\n",
    "    nodes = [{\"name\": node[\"name\"]} for node in ig.vs]\n",
    "    for node in nodes:\n",
    "        idx = ig.vs.find(name=node[\"name\"]).index\n",
    "        node[\"community\"] = clusters.membership[idx]\n",
    "\n",
    "    write_clusters_query = '''\n",
    "    UNWIND {nodes} AS n\n",
    "    MATCH (c:Character) WHERE c.name = n.name\n",
    "    SET c.community = toInt(n.community)\n",
    "    '''\n",
    "\n",
    "    graph.run(write_clusters_query, nodes=nodes)"
   ]
  }
 ],
 "metadata": {
  "kernelspec": {
   "display_name": "Python 3",
   "language": "python",
   "name": "python3"
  },
  "language_info": {
   "codemirror_mode": {
    "name": "ipython",
    "version": 3
   },
   "file_extension": ".py",
   "mimetype": "text/x-python",
   "name": "python",
   "nbconvert_exporter": "python",
   "pygments_lexer": "ipython3",
   "version": "3.6.4"
  }
 },
 "nbformat": 4,
 "nbformat_minor": 2
}
