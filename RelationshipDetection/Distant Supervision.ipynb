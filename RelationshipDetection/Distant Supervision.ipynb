{
 "cells": [
  {
   "cell_type": "markdown",
   "metadata": {},
   "source": [
    "## Approach (inspired by Jurafsky et al. 2009):"
   ]
  },
  {
   "cell_type": "markdown",
   "metadata": {},
   "source": [
    "1. Create seed pattern for relationships (_child-of_, _parent-of_)\n",
    "2. Run NER-Tagger on large text\n",
    "3. Extract training sentences\n",
    "4. Create feature vectors\n",
    "5. Train model\n"
   ]
  },
  {
   "cell_type": "code",
   "execution_count": 28,
   "metadata": {},
   "outputs": [
    {
     "name": "stderr",
     "output_type": "stream",
     "text": [
      "c:\\program files\\python\\lib\\site-packages\\nltk\\tag\\stanford.py:183: DeprecationWarning: \n",
      "The StanfordTokenizer will be deprecated in version 3.2.5.\n",
      "Please use \u001b[91mnltk.tag.corenlp.CoreNLPPOSTagger\u001b[0m or \u001b[91mnltk.tag.corenlp.CoreNLPNERTagger\u001b[0m instead.\n",
      "  super(StanfordNERTagger, self).__init__(*args, **kwargs)\n"
     ]
    }
   ],
   "source": [
    "import re\n",
    "\n",
    "from nltk.tokenize import word_tokenize, sent_tokenize\n",
    "from nltk.tag import pos_tag\n",
    "from nltk.tag import StanfordNERTagger\n",
    "\n",
    "model = '../models/dewac_175m_600.crf.ser.gz'\n",
    "#model = '../models/hgc_175m_600.crf.ser.gz'\n",
    "#model = '../models/german.conll.germeval2014.hgc_175m_600.crf.ser.gz'\n",
    "\n",
    "st = StanfordNERTagger(model,\n",
    "                       '../models/stanford-ner.jar',\n",
    "                       encoding='utf-8')"
   ]
  },
  {
   "cell_type": "code",
   "execution_count": 1,
   "metadata": {},
   "outputs": [],
   "source": [
    "relationship_list = ['vater', 'mutter', 'sohn', 'tochter', 'bruder', 'schwester', 'enkel', 'enkelin', 'nichte', \n",
    "                     'neffe', 'onkel', 'tante']"
   ]
  },
  {
   "cell_type": "code",
   "execution_count": 2,
   "metadata": {},
   "outputs": [],
   "source": [
    "me_list = ['ich', 'meine', 'mein']"
   ]
  },
  {
   "cell_type": "code",
   "execution_count": 11,
   "metadata": {},
   "outputs": [],
   "source": [
    "relationship_tuples = [('REL', 'PME', 'PER'), ('REL', 'PER', 'PME'), ('REL', 'PER', 'PER')]"
   ]
  },
  {
   "cell_type": "code",
   "execution_count": 32,
   "metadata": {},
   "outputs": [],
   "source": [
    "training_text = u'''Meine Enkelin Lisa und mein Enkel Lukas fliegen morgen nach London. Sie sind zum ersten Mal in England. \n",
    "Meine Tochter Christina und mein Sohn Luis fahren nach Berlin. Ich bin geboren zu York im Jahre 1632, als Kind angesehener Leute, die ursprünglich nicht aus jener Gegend stammten. \n",
    "Mein Vater, ein Ausländer, aus Bremen gebürtig, hatte sich zuerst in Hull niedergelassen, war dort als Kaufmann zu \n",
    "hübschem Vermögen gekommen und dann, nachdem er sein Geschäft aufgegeben hatte, nach York gezogen. \n",
    "Hier heiratete er meine Mutter, eine geborene Robinson.\n",
    "Ich hatte zwei ältere Brüder. Der eine von ihnen, welcher als Oberstleutnant bei einem englischen, \n",
    "früher von dem berühmten Oberst Lockhart befehligten Infanterieregiment in Flandern diente, \n",
    "fiel in der Schlacht bei Dünkirchen. Was aus dem jüngeren geworden ist, habe ich ebenso wenig in Erfahrung bringen können, \n",
    "als meine Eltern je Kenntnisse von meinen eignen Schicksalen erhalten haben.'''"
   ]
  },
  {
   "cell_type": "markdown",
   "metadata": {},
   "source": [
    "#### Tag named entities using Stanford NER and manually created list\n",
    "Entity types:\n",
    "* PER: Person (I-PER) recognized by Stanford NER tagger\n",
    "* REL: Relation some kinds of German named relationhips following the manually created *relationship_list*\n",
    "* PME: 'Person-Me'; the user mentioning him-/herself as specified in the *me_list*\n",
    "\n",
    "#### Add training instances to the corresponding relationship tuples"
   ]
  },
  {
   "cell_type": "code",
   "execution_count": 36,
   "metadata": {},
   "outputs": [
    {
     "data": {
      "text/plain": [
       "{('PME',\n",
       "  'REL',\n",
       "  'PER',\n",
       "  'PME',\n",
       "  'REL',\n",
       "  'PER'): ['Meine Enkelin Lisa und mein Enkel Lukas fliegen morgen nach London ', 'Meine Tochter Christina und mein Sohn Luis fahren nach Berlin '],\n",
       " ('PME',\n",
       "  'PME'): ['Was aus dem jüngeren geworden ist habe ich ebenso wenig in Erfahrung bringen können als meine Eltern je Kenntnisse von meinen eignen Schicksalen erhalten haben ']}"
      ]
     },
     "execution_count": 36,
     "metadata": {},
     "output_type": "execute_result"
    }
   ],
   "source": [
    "training_dict = {}\n",
    "\n",
    "for sentence in sent_tokenize(training_text):\n",
    "    ner_tuples = st.tag(sentence.split())\n",
    "    rel_tuples = ()\n",
    "    \n",
    "    for ner_tuple in ner_tuples:        \n",
    "        if 'I-PER' in ner_tuple:\n",
    "            rel_tuples += ('PER',)\n",
    "        elif ner_tuple[0].lower() in relationship_list:\n",
    "            rel_tuples += ('REL',)\n",
    "        elif ner_tuple[0].lower() in me_list:\n",
    "            rel_tuples += ('PME',)\n",
    "    \n",
    "    if len(rel_tuples) >= 2:\n",
    "        clean_sentence = re.sub(r'\\W', ' ', sentence) # remove non-word characters\n",
    "        clean_sentence = re.sub(r'\\s{2,}', ' ', clean_sentence)  # remove two or more consecutive whitespaces\n",
    "        if rel_tuples in training_dict.keys():\n",
    "            curr_values = training_dict[rel_tuples]\n",
    "            curr_values.append(clean_sentence)\n",
    "        else:\n",
    "            curr_values = [clean_sentence]\n",
    "            \n",
    "        training_dict[rel_tuples] = curr_values\n",
    "        \n",
    "training_dict"
   ]
  },
  {
   "cell_type": "markdown",
   "metadata": {},
   "source": [
    "### Extract training features (lexical and syntactic)\n",
    "* sequence of words between two entities\n",
    "* POS-Tags of theses words\n",
    "* Flag indicating which entity came first in sentence\n",
    "* k-words left of entity 1 (M1)\n",
    "* k-words right of entity 2 (M2)"
   ]
  },
  {
   "cell_type": "code",
   "execution_count": 38,
   "metadata": {},
   "outputs": [],
   "source": [
    "class Feature:\n",
    "    def __init__(M1, M2, nextword, path):\n",
    "        this.M1 = M1\n",
    "        this.M2 = M2\n",
    "        this.nextword = nextword\n",
    "        this.path = path        \n"
   ]
  },
  {
   "cell_type": "code",
   "execution_count": null,
   "metadata": {},
   "outputs": [],
   "source": [
    "features = []\n",
    "\n",
    "for key, value in relationship_dict.items():\n",
    "     \n",
    "    "
   ]
  }
 ],
 "metadata": {
  "kernelspec": {
   "display_name": "Python 3",
   "language": "python",
   "name": "python3"
  },
  "language_info": {
   "codemirror_mode": {
    "name": "ipython",
    "version": 3
   },
   "file_extension": ".py",
   "mimetype": "text/x-python",
   "name": "python",
   "nbconvert_exporter": "python",
   "pygments_lexer": "ipython3",
   "version": "3.6.4"
  }
 },
 "nbformat": 4,
 "nbformat_minor": 2
}
