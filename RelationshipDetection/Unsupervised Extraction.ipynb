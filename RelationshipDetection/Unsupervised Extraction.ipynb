{
 "cells": [
  {
   "cell_type": "markdown",
   "metadata": {},
   "source": [
    "## Approach (based on https://web.stanford.edu/~jurafsky/slp3/ - Jurafsky 2018)\n",
    "1. POS tagging and entity chunking\n",
    "2. For each verb in *s*, find the longest sequence of words *w* that start with a verb and satisfy syntactic and lexical constraints, merging adjacent matches\n",
    "3. For each phrase *w*, find the nearest noun phrase *x* to the left which is not a relative pronoun, wh-word or existential \"there\". Find the nearest noun phrase *y* to the right.\n",
    "4. Assign confidence *c* to the relation *r=(x,w,y)* using confidence classifier and return it.\n",
    "\n",
    "A relation is only accepted if it meets syntactic and lexical contraints."
   ]
  },
  {
   "cell_type": "code",
   "execution_count": 1,
   "metadata": {},
   "outputs": [],
   "source": [
    "import spacy\n",
    "import os\n",
    "import re\n",
    "import nltk\n",
    "\n",
    "from nltk.tokenize import sent_tokenize, word_tokenize\n",
    "\n",
    "# for plotting the dependency tree\n",
    "path_to_gs = \"C:/Program Files/gs/gs9.25/bin\"\n",
    "os.environ['PATH'] += os.pathsep + path_to_gs\n",
    "\n",
    "# loading german spacy model\n",
    "#nlp = spacy.load('de_core_news_sm')\n",
    "nlp = spacy.load('en')"
   ]
  },
  {
   "cell_type": "markdown",
   "metadata": {},
   "source": [
    "### Grammar for Lexical contraints"
   ]
  },
  {
   "cell_type": "code",
   "execution_count": 36,
   "metadata": {},
   "outputs": [],
   "source": [
    "# for spaCy POS Tags\n",
    "# V | VP | VW*P\n",
    "grammar = r\"\"\"NP: {<DT>?<JJ>*<PROPN>}\n",
    "              V: {<VERB>}\n",
    "              W: {<NOUN|ADJ|ADV|PROPN|DET>}\n",
    "              P: {<ADP|PART|PUNCT>}\n",
    "              REL: {<V><W>*<P>|<V><P>|<V>}\n",
    "              \"\"\""
   ]
  },
  {
   "cell_type": "code",
   "execution_count": 114,
   "metadata": {},
   "outputs": [],
   "source": [
    "utterance = 'United has a hub in Chicago, which is the headquarter of United Continental Holdings. \\\n",
    "             Tim Cook is the CEO of Apple.\\\n",
    "             Bill Gates is the founder of Microsoft.'"
   ]
  },
  {
   "cell_type": "code",
   "execution_count": 38,
   "metadata": {},
   "outputs": [],
   "source": [
    "utterance_long = u'''Meine kleine Enkelin Lisa und mein Enkel Lukas fliegen morgen nach London. Sie sind zum ersten Mal in England. \n",
    "Peter und Maria gehen morgen ins Kino. Ich und mein Sohn gehen heute zum Fußball. \n",
    "Ich gehe mit Johann in den Zoo.'''"
   ]
  },
  {
   "cell_type": "code",
   "execution_count": 116,
   "metadata": {},
   "outputs": [
    {
     "data": {
      "text/plain": [
       "['United has a hub in Chicago, which is the headquarter of United Continental Holdings.',\n",
       " 'Tim Cook is the CEO of Apple.',\n",
       " 'Bill Gates is the founder of Microsoft.']"
      ]
     },
     "execution_count": 116,
     "metadata": {},
     "output_type": "execute_result"
    }
   ],
   "source": [
    "sentences = sent_tokenize(utterance)\n",
    "sentences"
   ]
  },
  {
   "cell_type": "code",
   "execution_count": 118,
   "metadata": {},
   "outputs": [
    {
     "data": {
      "text/plain": [
       "[[('United', 'PROPN'),\n",
       "  ('has', 'VERB'),\n",
       "  ('a', 'DET'),\n",
       "  ('hub', 'NOUN'),\n",
       "  ('in', 'ADP'),\n",
       "  ('Chicago', 'PROPN'),\n",
       "  (',', 'PUNCT'),\n",
       "  ('which', 'ADJ'),\n",
       "  ('is', 'VERB'),\n",
       "  ('the', 'DET'),\n",
       "  ('headquarter', 'NOUN'),\n",
       "  ('of', 'ADP'),\n",
       "  ('United', 'PROPN'),\n",
       "  ('Continental', 'PROPN'),\n",
       "  ('Holdings', 'PROPN'),\n",
       "  ('.', 'PUNCT')],\n",
       " [('Tim', 'PROPN'),\n",
       "  ('Cook', 'PROPN'),\n",
       "  ('is', 'VERB'),\n",
       "  ('the', 'DET'),\n",
       "  ('CEO', 'PROPN'),\n",
       "  ('of', 'ADP'),\n",
       "  ('Apple', 'PROPN'),\n",
       "  ('.', 'PUNCT')],\n",
       " [('Bill', 'PROPN'),\n",
       "  ('Gates', 'PROPN'),\n",
       "  ('is', 'VERB'),\n",
       "  ('the', 'DET'),\n",
       "  ('founder', 'NOUN'),\n",
       "  ('of', 'ADP'),\n",
       "  ('Microsoft', 'PROPN'),\n",
       "  ('.', 'PUNCT')]]"
      ]
     },
     "execution_count": 118,
     "metadata": {},
     "output_type": "execute_result"
    }
   ],
   "source": [
    "pos_tagged_sentences = []\n",
    "\n",
    "for sentence in sentences:\n",
    "    doc = nlp(sentence)\n",
    "    \n",
    "    pos_tagged_sentence = []\n",
    "    for token in doc:\n",
    "        pos_tuple = (token.text, token.pos_)\n",
    "        pos_tagged_sentence.append(pos_tuple)\n",
    "        \n",
    "    pos_tagged_sentences.append(pos_tagged_sentence)\n",
    "    \n",
    "pos_tagged_sentences"
   ]
  },
  {
   "cell_type": "code",
   "execution_count": 125,
   "metadata": {},
   "outputs": [
    {
     "data": {
      "image/png": "[encoded data removed]",
      "text/plain": [
       "Tree('S', [Tree('NP', [('United', 'PROPN')]), Tree('REL', [Tree('V', [('has', 'VERB')]), Tree('W', [('a', 'DET')]), Tree('W', [('hub', 'NOUN')]), Tree('P', [('in', 'ADP')])]), Tree('NP', [('Chicago', 'PROPN')]), Tree('P', [(',', 'PUNCT')]), Tree('W', [('which', 'ADJ')]), Tree('REL', [Tree('V', [('is', 'VERB')]), Tree('W', [('the', 'DET')]), Tree('W', [('headquarter', 'NOUN')]), Tree('P', [('of', 'ADP')])]), Tree('NP', [('United', 'PROPN')]), Tree('NP', [('Continental', 'PROPN')]), Tree('NP', [('Holdings', 'PROPN')]), Tree('P', [('.', 'PUNCT')])])"
      ]
     },
     "execution_count": 125,
     "metadata": {},
     "output_type": "execute_result"
    }
   ],
   "source": [
    "cp = nltk.RegexpParser(grammar)\n",
    "cp.parse(pos_tagged_sentences[0])"
   ]
  },
  {
   "cell_type": "code",
   "execution_count": 126,
   "metadata": {},
   "outputs": [
    {
     "data": {
      "image/png": "[encoded data removed]",
      "text/plain": [
       "Tree('S', [Tree('NP', [('Tim', 'PROPN')]), Tree('NP', [('Cook', 'PROPN')]), Tree('REL', [Tree('V', [('is', 'VERB')])]), Tree('W', [('the', 'DET')]), Tree('NP', [('CEO', 'PROPN')]), Tree('P', [('of', 'ADP')]), Tree('NP', [('Apple', 'PROPN')]), Tree('P', [('.', 'PUNCT')])])"
      ]
     },
     "execution_count": 126,
     "metadata": {},
     "output_type": "execute_result"
    }
   ],
   "source": [
    "cp = nltk.RegexpParser(grammar)\n",
    "cp.parse(pos_tagged_sentences[1])"
   ]
  },
  {
   "cell_type": "code",
   "execution_count": 127,
   "metadata": {
    "scrolled": true
   },
   "outputs": [
    {
     "data": {
      "text/plain": [
       "[Tree('S', [Tree('NP', [('United', 'PROPN')]), Tree('REL', [Tree('V', [('has', 'VERB')]), Tree('W', [('a', 'DET')]), Tree('W', [('hub', 'NOUN')]), Tree('P', [('in', 'ADP')])]), Tree('NP', [('Chicago', 'PROPN')]), Tree('P', [(',', 'PUNCT')]), Tree('W', [('which', 'ADJ')]), Tree('REL', [Tree('V', [('is', 'VERB')]), Tree('W', [('the', 'DET')]), Tree('W', [('headquarter', 'NOUN')]), Tree('P', [('of', 'ADP')])]), Tree('NP', [('United', 'PROPN')]), Tree('NP', [('Continental', 'PROPN')]), Tree('NP', [('Holdings', 'PROPN')]), Tree('P', [('.', 'PUNCT')])]),\n",
       " Tree('S', [Tree('NP', [('Tim', 'PROPN')]), Tree('NP', [('Cook', 'PROPN')]), Tree('REL', [Tree('V', [('is', 'VERB')])]), Tree('W', [('the', 'DET')]), Tree('NP', [('CEO', 'PROPN')]), Tree('P', [('of', 'ADP')]), Tree('NP', [('Apple', 'PROPN')]), Tree('P', [('.', 'PUNCT')])]),\n",
       " Tree('S', [Tree('NP', [('Bill', 'PROPN')]), Tree('NP', [('Gates', 'PROPN')]), Tree('REL', [Tree('V', [('is', 'VERB')]), Tree('W', [('the', 'DET')]), Tree('W', [('founder', 'NOUN')]), Tree('P', [('of', 'ADP')])]), Tree('NP', [('Microsoft', 'PROPN')]), Tree('P', [('.', 'PUNCT')])])]"
      ]
     },
     "execution_count": 127,
     "metadata": {},
     "output_type": "execute_result"
    }
   ],
   "source": [
    "cp = nltk.RegexpParser(grammar)\n",
    "sentence_trees = []\n",
    "\n",
    "for sentence in pos_tagged_sentences:\n",
    "    sentence_trees.append(cp.parse(sentence))\n",
    "\n",
    "sentence_trees"
   ]
  },
  {
   "cell_type": "markdown",
   "metadata": {},
   "source": [
    "### find the nearest noun phrase to REL"
   ]
  },
  {
   "cell_type": "code",
   "execution_count": 128,
   "metadata": {},
   "outputs": [
    {
     "data": {
      "text/plain": [
       "[[Tree('NP', [('United', 'PROPN')]),\n",
       "  Tree('REL', [Tree('V', [('has', 'VERB')]), Tree('W', [('a', 'DET')]), Tree('W', [('hub', 'NOUN')]), Tree('P', [('in', 'ADP')])]),\n",
       "  Tree('NP', [('Chicago', 'PROPN')])],\n",
       " [Tree('NP', [('Chicago', 'PROPN')]),\n",
       "  Tree('REL', [Tree('V', [('is', 'VERB')]), Tree('W', [('the', 'DET')]), Tree('W', [('headquarter', 'NOUN')]), Tree('P', [('of', 'ADP')])]),\n",
       "  Tree('NP', [('United', 'PROPN')])],\n",
       " [Tree('NP', [('Cook', 'PROPN')]),\n",
       "  Tree('REL', [Tree('V', [('is', 'VERB')])]),\n",
       "  Tree('NP', [('CEO', 'PROPN')])],\n",
       " [Tree('NP', [('Gates', 'PROPN')]),\n",
       "  Tree('REL', [Tree('V', [('is', 'VERB')]), Tree('W', [('the', 'DET')]), Tree('W', [('founder', 'NOUN')]), Tree('P', [('of', 'ADP')])]),\n",
       "  Tree('NP', [('Microsoft', 'PROPN')])]]"
      ]
     },
     "execution_count": 128,
     "metadata": {},
     "output_type": "execute_result"
    }
   ],
   "source": [
    "relations = []\n",
    "\n",
    "for tree in sentence_trees:\n",
    "    for i, node in enumerate(tree):\n",
    "        if node.label() == 'REL':\n",
    "            rel = node\n",
    "            \n",
    "            # find the nearest NP to the left of REL\n",
    "            for j in range(i-1, -1, -1):\n",
    "                if tree[j].label() == 'NP':\n",
    "                    #print(f'left NP {j}: {tree[j]}')\n",
    "                    left_noun = tree[j]\n",
    "                    break\n",
    "            # find the nearest NP to the right of REL\n",
    "            for j in range(i+1, len(tree), 1):\n",
    "                if tree[j].label() == 'NP':\n",
    "                    #print(f'right NP {j}: {tree[j]}')\n",
    "                    right_noun = tree[j]\n",
    "                    break\n",
    "    \n",
    "            relations.append([left_noun, rel, right_noun])   \n",
    "\n",
    "relations"
   ]
  },
  {
   "cell_type": "code",
   "execution_count": 129,
   "metadata": {},
   "outputs": [
    {
     "data": {
      "text/plain": [
       "[[['United'], ['has', 'a', 'hub', 'in'], ['Chicago']],\n",
       " [['Chicago'], ['is', 'the', 'headquarter', 'of'], ['United']],\n",
       " [['Cook'], ['is'], ['CEO']],\n",
       " [['Gates'], ['is', 'the', 'founder', 'of'], ['Microsoft']]]"
      ]
     },
     "execution_count": 129,
     "metadata": {},
     "output_type": "execute_result"
    }
   ],
   "source": [
    "relation_tuples = []\n",
    "for relation in relations:\n",
    "    relation_tuple = []\n",
    "    for tree in relation:\n",
    "        words = [w for w, t in tree.leaves()]\n",
    "        relation_tuple.append(words)\n",
    "\n",
    "    relation_tuples.append(relation_tuple)\n",
    "\n",
    "relation_tuples"
   ]
  },
  {
   "cell_type": "markdown",
   "metadata": {},
   "source": [
    "## Draw relationships as network with networkx"
   ]
  },
  {
   "cell_type": "code",
   "execution_count": 130,
   "metadata": {},
   "outputs": [],
   "source": [
    "import os\n",
    "import networkx as nx\n",
    "import matplotlib.pyplot as plt\n",
    "\n",
    "from networkx import nx_pydot\n",
    "\n",
    "os.environ[\"PATH\"] += os.pathsep + 'C:/Program Files (x86)/Graphviz2.38/bin/'"
   ]
  },
  {
   "cell_type": "code",
   "execution_count": 131,
   "metadata": {},
   "outputs": [
    {
     "name": "stdout",
     "output_type": "stream",
     "text": [
      "Source: United, Target: Chicago, Weight: 1\n",
      "Source: Chicago, Target: United, Weight: 1\n",
      "Source: Cook, Target: CEO, Weight: 1\n",
      "Source: Gates, Target: Microsoft, Weight: 1\n"
     ]
    }
   ],
   "source": [
    "ng = nx.Graph()\n",
    "\n",
    "for relation in relation_tuples:\n",
    "    source = relation[0][0]\n",
    "    target = relation[2][0]\n",
    "    print(f\"Source: {source}, Target: {target}, Weight: {1}\")\n",
    "    ng.add_edge(source, target, weight=1)\n"
   ]
  },
  {
   "cell_type": "code",
   "execution_count": 135,
   "metadata": {},
   "outputs": [
    {
     "data": {
      "image/png": "[encoded data removed]",
      "text/plain": [
       "<Figure size 432x288 with 1 Axes>"
      ]
     },
     "metadata": {},
     "output_type": "display_data"
    }
   ],
   "source": [
    "e_small = [(u, v) for (u, v, d) in ng.edges(data=True) if d['weight'] <= 3]\n",
    "e_middle = [(u, v) for (u, v, d) in ng.edges(data=True) if d['weight'] <= 6]\n",
    "e_large = [(u, v) for (u, v, d) in ng.edges(data=True) if d['weight'] > 6]\n",
    "#pos = nx.spring_layout(ng)  # positions for all nodes\n",
    "pos = nx.nx_pydot.graphviz_layout(ng, prog='dot')\n",
    "\n",
    "# nodes\n",
    "nx.draw_networkx_nodes(ng, pos, node_size=300)\n",
    "\n",
    "# edges\n",
    "nx.draw_networkx_edges(ng, pos, edgelist=e_small, width=1)\n",
    "nx.draw_networkx_edges(ng, pos, edgelist=e_middle, width=2)\n",
    "nx.draw_networkx_edges(ng, pos, edgelist=e_large, width=6)\n",
    "\n",
    "# labels\n",
    "nx.draw_networkx_labels(ng, pos, font_size=11, font_family='sans-serif')\n",
    "\n",
    "plt.axis('off')  # disable axis\n",
    "plt.show()"
   ]
  },
  {
   "cell_type": "markdown",
   "metadata": {},
   "source": [
    "## TODO: tune NP chunking"
   ]
  },
  {
   "cell_type": "code",
   "execution_count": null,
   "metadata": {},
   "outputs": [],
   "source": []
  }
 ],
 "metadata": {
  "kernelspec": {
   "display_name": "Python 3",
   "language": "python",
   "name": "python3"
  },
  "language_info": {
   "codemirror_mode": {
    "name": "ipython",
    "version": 3
   },
   "file_extension": ".py",
   "mimetype": "text/x-python",
   "name": "python",
   "nbconvert_exporter": "python",
   "pygments_lexer": "ipython3",
   "version": "3.6.4"
  }
 },
 "nbformat": 4,
 "nbformat_minor": 2
}
