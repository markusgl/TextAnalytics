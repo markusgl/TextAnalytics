{
 "cells": [
  {
   "cell_type": "markdown",
   "metadata": {},
   "source": [
    "## Approach\n",
    "* search for NE ins text column\n",
    "* for each NE search for related NE via head column\n",
    "* iterate through head-text unitl NE found"
   ]
  },
  {
   "cell_type": "code",
   "execution_count": 1,
   "metadata": {},
   "outputs": [],
   "source": [
    "import spacy\n",
    "import nltk\n",
    "import re\n",
    "import pandas as pd\n",
    "\n",
    "from spacy import displacy\n",
    "from spacy.matcher import Matcher"
   ]
  },
  {
   "cell_type": "code",
   "execution_count": 68,
   "metadata": {},
   "outputs": [],
   "source": [
    "nlp = spacy.load('de')\n",
    "#text = u'''Meine kleine Enkelin Lisa und mein Enkel Lukas fliegen morgen nach London.'''\n",
    "#text = u'''Herbert ist der Vater von Hans'''\n",
    "text = u'''Peter und Maria gehen morgen ins Kino'''\n",
    "#text = u'''Herbert sein Sohn und ich gehen heute ins Kino'''\n",
    "#text = u'''Ich gehe mit Johann in den Zoo'''\n",
    "#text = u'''Hans und sein Sohn Hubert gehen in den Zoo.'''\n",
    "#text = u'''Hans, welcher der Sohn von Hubert ist, geht mit Peter ins Kino.'''\n",
    "#text = u'''Hubert ist der Vater von Hans.'''\n",
    "#text = u'''Peter und Michael gehen ins Kino.'''"
   ]
  },
  {
   "cell_type": "code",
   "execution_count": 69,
   "metadata": {},
   "outputs": [],
   "source": [
    "text_long = u'''Meine kleine Enkelin Lisa und mein Enkel Lukas fliegen morgen nach London. Sie sind zum ersten Mal in England. \n",
    "        Peter und Maria gehen morgen ins Kino. Ich und mein Sohn gehen heute zum Fußball. \n",
    "        Ich gehe mit Johann in den Zoo. Hans und sein Sohn Hubert.'''"
   ]
  },
  {
   "cell_type": "code",
   "execution_count": 70,
   "metadata": {
    "scrolled": false
   },
   "outputs": [
    {
     "data": {
      "text/plain": [
       "['Peter und Maria gehen morgen ins Kino']"
      ]
     },
     "execution_count": 70,
     "metadata": {},
     "output_type": "execute_result"
    }
   ],
   "source": [
    "sentences = nltk.sent_tokenize(text)\n",
    "sentences"
   ]
  },
  {
   "cell_type": "markdown",
   "metadata": {},
   "source": [
    "## Build Data Frame with NLP features"
   ]
  },
  {
   "cell_type": "code",
   "execution_count": 71,
   "metadata": {},
   "outputs": [],
   "source": [
    "feature_columns = ['ne', 'ne_type', 'ne_pos', 'ne_dep', 'ne_head', 'ne_deppath', 'ne_children']\n",
    "features = pd.DataFrame(columns=feature_columns)"
   ]
  },
  {
   "cell_type": "code",
   "execution_count": 72,
   "metadata": {},
   "outputs": [
    {
     "data": {
      "text/html": [
       "<svg xmlns=\"http://www.w3.org/2000/svg\" xmlns:xlink=\"http://www.w3.org/1999/xlink\" id=\"0\" class=\"displacy\" width=\"1275\" height=\"399.5\" style=\"max-width: none; height: 399.5px; color: #000000; background: #ffffff; font-family: Arial\">\n",
       "<text class=\"displacy-token\" fill=\"currentColor\" text-anchor=\"middle\" y=\"309.5\">\n",
       "    <tspan class=\"displacy-word\" fill=\"currentColor\" x=\"50\">Peter</tspan>\n",
       "    <tspan class=\"displacy-tag\" dy=\"2em\" fill=\"currentColor\" x=\"50\">PROPN</tspan>\n",
       "</text>\n",
       "\n",
       "<text class=\"displacy-token\" fill=\"currentColor\" text-anchor=\"middle\" y=\"309.5\">\n",
       "    <tspan class=\"displacy-word\" fill=\"currentColor\" x=\"225\">und</tspan>\n",
       "    <tspan class=\"displacy-tag\" dy=\"2em\" fill=\"currentColor\" x=\"225\">CONJ</tspan>\n",
       "</text>\n",
       "\n",
       "<text class=\"displacy-token\" fill=\"currentColor\" text-anchor=\"middle\" y=\"309.5\">\n",
       "    <tspan class=\"displacy-word\" fill=\"currentColor\" x=\"400\">Maria</tspan>\n",
       "    <tspan class=\"displacy-tag\" dy=\"2em\" fill=\"currentColor\" x=\"400\">PROPN</tspan>\n",
       "</text>\n",
       "\n",
       "<text class=\"displacy-token\" fill=\"currentColor\" text-anchor=\"middle\" y=\"309.5\">\n",
       "    <tspan class=\"displacy-word\" fill=\"currentColor\" x=\"575\">gehen</tspan>\n",
       "    <tspan class=\"displacy-tag\" dy=\"2em\" fill=\"currentColor\" x=\"575\">VERB</tspan>\n",
       "</text>\n",
       "\n",
       "<text class=\"displacy-token\" fill=\"currentColor\" text-anchor=\"middle\" y=\"309.5\">\n",
       "    <tspan class=\"displacy-word\" fill=\"currentColor\" x=\"750\">morgen</tspan>\n",
       "    <tspan class=\"displacy-tag\" dy=\"2em\" fill=\"currentColor\" x=\"750\">ADV</tspan>\n",
       "</text>\n",
       "\n",
       "<text class=\"displacy-token\" fill=\"currentColor\" text-anchor=\"middle\" y=\"309.5\">\n",
       "    <tspan class=\"displacy-word\" fill=\"currentColor\" x=\"925\">ins</tspan>\n",
       "    <tspan class=\"displacy-tag\" dy=\"2em\" fill=\"currentColor\" x=\"925\">ADP</tspan>\n",
       "</text>\n",
       "\n",
       "<text class=\"displacy-token\" fill=\"currentColor\" text-anchor=\"middle\" y=\"309.5\">\n",
       "    <tspan class=\"displacy-word\" fill=\"currentColor\" x=\"1100\">Kino</tspan>\n",
       "    <tspan class=\"displacy-tag\" dy=\"2em\" fill=\"currentColor\" x=\"1100\">NOUN</tspan>\n",
       "</text>\n",
       "\n",
       "<g class=\"displacy-arrow\">\n",
       "    <path class=\"displacy-arc\" id=\"arrow-0-0\" stroke-width=\"2px\" d=\"M70,264.5 C70,2.0 575.0,2.0 575.0,264.5\" fill=\"none\" stroke=\"currentColor\"/>\n",
       "    <text dy=\"1.25em\" style=\"font-size: 0.8em; letter-spacing: 1px\">\n",
       "        <textPath xlink:href=\"#arrow-0-0\" class=\"displacy-label\" startOffset=\"50%\" fill=\"currentColor\" text-anchor=\"middle\">sb</textPath>\n",
       "    </text>\n",
       "    <path class=\"displacy-arrowhead\" d=\"M70,266.5 L62,254.5 78,254.5\" fill=\"currentColor\"/>\n",
       "</g>\n",
       "\n",
       "<g class=\"displacy-arrow\">\n",
       "    <path class=\"displacy-arc\" id=\"arrow-0-1\" stroke-width=\"2px\" d=\"M70,264.5 C70,177.0 215.0,177.0 215.0,264.5\" fill=\"none\" stroke=\"currentColor\"/>\n",
       "    <text dy=\"1.25em\" style=\"font-size: 0.8em; letter-spacing: 1px\">\n",
       "        <textPath xlink:href=\"#arrow-0-1\" class=\"displacy-label\" startOffset=\"50%\" fill=\"currentColor\" text-anchor=\"middle\">cd</textPath>\n",
       "    </text>\n",
       "    <path class=\"displacy-arrowhead\" d=\"M215.0,266.5 L223.0,254.5 207.0,254.5\" fill=\"currentColor\"/>\n",
       "</g>\n",
       "\n",
       "<g class=\"displacy-arrow\">\n",
       "    <path class=\"displacy-arc\" id=\"arrow-0-2\" stroke-width=\"2px\" d=\"M245,264.5 C245,177.0 390.0,177.0 390.0,264.5\" fill=\"none\" stroke=\"currentColor\"/>\n",
       "    <text dy=\"1.25em\" style=\"font-size: 0.8em; letter-spacing: 1px\">\n",
       "        <textPath xlink:href=\"#arrow-0-2\" class=\"displacy-label\" startOffset=\"50%\" fill=\"currentColor\" text-anchor=\"middle\">cj</textPath>\n",
       "    </text>\n",
       "    <path class=\"displacy-arrowhead\" d=\"M390.0,266.5 L398.0,254.5 382.0,254.5\" fill=\"currentColor\"/>\n",
       "</g>\n",
       "\n",
       "<g class=\"displacy-arrow\">\n",
       "    <path class=\"displacy-arc\" id=\"arrow-0-3\" stroke-width=\"2px\" d=\"M595,264.5 C595,177.0 740.0,177.0 740.0,264.5\" fill=\"none\" stroke=\"currentColor\"/>\n",
       "    <text dy=\"1.25em\" style=\"font-size: 0.8em; letter-spacing: 1px\">\n",
       "        <textPath xlink:href=\"#arrow-0-3\" class=\"displacy-label\" startOffset=\"50%\" fill=\"currentColor\" text-anchor=\"middle\">mo</textPath>\n",
       "    </text>\n",
       "    <path class=\"displacy-arrowhead\" d=\"M740.0,266.5 L748.0,254.5 732.0,254.5\" fill=\"currentColor\"/>\n",
       "</g>\n",
       "\n",
       "<g class=\"displacy-arrow\">\n",
       "    <path class=\"displacy-arc\" id=\"arrow-0-4\" stroke-width=\"2px\" d=\"M595,264.5 C595,89.5 920.0,89.5 920.0,264.5\" fill=\"none\" stroke=\"currentColor\"/>\n",
       "    <text dy=\"1.25em\" style=\"font-size: 0.8em; letter-spacing: 1px\">\n",
       "        <textPath xlink:href=\"#arrow-0-4\" class=\"displacy-label\" startOffset=\"50%\" fill=\"currentColor\" text-anchor=\"middle\">mo</textPath>\n",
       "    </text>\n",
       "    <path class=\"displacy-arrowhead\" d=\"M920.0,266.5 L928.0,254.5 912.0,254.5\" fill=\"currentColor\"/>\n",
       "</g>\n",
       "\n",
       "<g class=\"displacy-arrow\">\n",
       "    <path class=\"displacy-arc\" id=\"arrow-0-5\" stroke-width=\"2px\" d=\"M945,264.5 C945,177.0 1090.0,177.0 1090.0,264.5\" fill=\"none\" stroke=\"currentColor\"/>\n",
       "    <text dy=\"1.25em\" style=\"font-size: 0.8em; letter-spacing: 1px\">\n",
       "        <textPath xlink:href=\"#arrow-0-5\" class=\"displacy-label\" startOffset=\"50%\" fill=\"currentColor\" text-anchor=\"middle\">nk</textPath>\n",
       "    </text>\n",
       "    <path class=\"displacy-arrowhead\" d=\"M1090.0,266.5 L1098.0,254.5 1082.0,254.5\" fill=\"currentColor\"/>\n",
       "</g>\n",
       "</svg>"
      ],
      "text/plain": [
       "<IPython.core.display.HTML object>"
      ]
     },
     "metadata": {},
     "output_type": "display_data"
    },
    {
     "data": {
      "text/html": [
       "<div>\n",
       "<style scoped>\n",
       "    .dataframe tbody tr th:only-of-type {\n",
       "        vertical-align: middle;\n",
       "    }\n",
       "\n",
       "    .dataframe tbody tr th {\n",
       "        vertical-align: top;\n",
       "    }\n",
       "\n",
       "    .dataframe thead th {\n",
       "        text-align: right;\n",
       "    }\n",
       "</style>\n",
       "<table border=\"1\" class=\"dataframe\">\n",
       "  <thead>\n",
       "    <tr style=\"text-align: right;\">\n",
       "      <th></th>\n",
       "      <th>ne</th>\n",
       "      <th>ne_type</th>\n",
       "      <th>ne_pos</th>\n",
       "      <th>ne_dep</th>\n",
       "      <th>ne_head</th>\n",
       "      <th>ne_deppath</th>\n",
       "      <th>ne_children</th>\n",
       "    </tr>\n",
       "  </thead>\n",
       "  <tbody>\n",
       "    <tr>\n",
       "      <th>0</th>\n",
       "      <td>peter</td>\n",
       "      <td>PER</td>\n",
       "      <td>PROPN</td>\n",
       "      <td>sb</td>\n",
       "      <td>gehen</td>\n",
       "      <td>[[Peter, sb, gehen]]</td>\n",
       "      <td>[und]</td>\n",
       "    </tr>\n",
       "    <tr>\n",
       "      <th>1</th>\n",
       "      <td>und</td>\n",
       "      <td>None</td>\n",
       "      <td>CONJ</td>\n",
       "      <td>cd</td>\n",
       "      <td>peter</td>\n",
       "      <td>[]</td>\n",
       "      <td>[Maria]</td>\n",
       "    </tr>\n",
       "    <tr>\n",
       "      <th>2</th>\n",
       "      <td>maria</td>\n",
       "      <td>PER</td>\n",
       "      <td>PROPN</td>\n",
       "      <td>cj</td>\n",
       "      <td>und</td>\n",
       "      <td>[[Maria, cj, und]]</td>\n",
       "      <td>[]</td>\n",
       "    </tr>\n",
       "    <tr>\n",
       "      <th>3</th>\n",
       "      <td>gehen</td>\n",
       "      <td>None</td>\n",
       "      <td>VERB</td>\n",
       "      <td>ROOT</td>\n",
       "      <td>gehen</td>\n",
       "      <td>[]</td>\n",
       "      <td>[Peter, morgen, ins]</td>\n",
       "    </tr>\n",
       "    <tr>\n",
       "      <th>4</th>\n",
       "      <td>morgen</td>\n",
       "      <td>None</td>\n",
       "      <td>ADV</td>\n",
       "      <td>mo</td>\n",
       "      <td>gehen</td>\n",
       "      <td>[]</td>\n",
       "      <td>[]</td>\n",
       "    </tr>\n",
       "    <tr>\n",
       "      <th>5</th>\n",
       "      <td>ins</td>\n",
       "      <td>None</td>\n",
       "      <td>ADP</td>\n",
       "      <td>mo</td>\n",
       "      <td>gehen</td>\n",
       "      <td>[]</td>\n",
       "      <td>[Kino]</td>\n",
       "    </tr>\n",
       "    <tr>\n",
       "      <th>6</th>\n",
       "      <td>kino</td>\n",
       "      <td>None</td>\n",
       "      <td>NOUN</td>\n",
       "      <td>nk</td>\n",
       "      <td>ins</td>\n",
       "      <td>[[Kino, nk, ins]]</td>\n",
       "      <td>[]</td>\n",
       "    </tr>\n",
       "  </tbody>\n",
       "</table>\n",
       "</div>"
      ],
      "text/plain": [
       "       ne ne_type ne_pos ne_dep ne_head            ne_deppath  \\\n",
       "0   peter     PER  PROPN     sb   gehen  [[Peter, sb, gehen]]   \n",
       "1     und    None   CONJ     cd   peter                    []   \n",
       "2   maria     PER  PROPN     cj     und    [[Maria, cj, und]]   \n",
       "3   gehen    None   VERB   ROOT   gehen                    []   \n",
       "4  morgen    None    ADV     mo   gehen                    []   \n",
       "5     ins    None    ADP     mo   gehen                    []   \n",
       "6    kino    None   NOUN     nk     ins     [[Kino, nk, ins]]   \n",
       "\n",
       "            ne_children  \n",
       "0                 [und]  \n",
       "1               [Maria]  \n",
       "2                    []  \n",
       "3  [Peter, morgen, ins]  \n",
       "4                    []  \n",
       "5                [Kino]  \n",
       "6                    []  "
      ]
     },
     "execution_count": 72,
     "metadata": {},
     "output_type": "execute_result"
    }
   ],
   "source": [
    "for sentence in sentences:\n",
    "    #sentence = re.sub('\\W', ' ', sentence)\n",
    "    #sentence = re.sub('\\s{2,}', ' ', sentence)\n",
    "    doc = nlp(sentence)\n",
    "    \n",
    "    tokens = []\n",
    "    for token in doc:\n",
    "        ne = token.text\n",
    "        ne_dep = token.dep_\n",
    "        head = token.head.text\n",
    "        pos = token.pos_\n",
    "        children = [child for child in token.children]\n",
    "        #lemma = token.lemma_.lower()\n",
    "        dep_path = []\n",
    "        for chunk in doc.noun_chunks:\n",
    "            if chunk.root.text == ne:\n",
    "                dep_path.append([chunk.root.text, chunk.root.dep_, chunk.root.head.text])\n",
    "        #print(token.text, token.dep_, token.head.text, token.head.pos_,\n",
    "         # [child for child in token.children])\n",
    "        data = {'ne': ne.lower(), 'ne_type': None, 'ne_pos': pos, 'ne_dep': ne_dep, 'ne_head': head.lower(), \n",
    "                'ne_deppath': dep_path, 'ne_children': children}\n",
    "        training_ex = pd.Series(data, index=feature_columns)\n",
    "        features = features.append(training_ex, ignore_index=True)\n",
    "        \n",
    "    for ent in doc.ents:\n",
    "        features.loc[features['ne'] == ent.text.lower(), 'ne_type'] = ent.label_\n",
    "        \n",
    "    displacy.render(doc, style='dep', jupyter=True)\n",
    "features\n",
    "    "
   ]
  },
  {
   "cell_type": "markdown",
   "metadata": {},
   "source": [
    "## Extract Relationships\n",
    "#### Apporach:\n",
    "* search for NEs (according to entity list) in ne-column in the data frame\n",
    "* if found\n",
    "    * get all rows with the same *ne_head* value\n",
    "    * search for NEs in these rows inside the *ne* column\n",
    "* if found, assume relationship between these NEs\n",
    "* if no NE found, assume transitive relation\n",
    "    * get all rows with *ne* value in *ne_head* column\n",
    "    * search for NEs in thes rows inside the *ne* column"
   ]
  },
  {
   "cell_type": "code",
   "execution_count": 8,
   "metadata": {},
   "outputs": [],
   "source": [
    "relationships = ['vater', 'mutter', 'sohn', 'tochter', 'bruder', 'schwester', 'enkel', 'enkelin', 'nichte',\n",
    "            'neffe', 'onkel', 'tante']\n",
    "me_entities = ['ich', 'mein', 'meine', 'meinen', 'meines']"
   ]
  },
  {
   "cell_type": "code",
   "execution_count": 9,
   "metadata": {},
   "outputs": [
    {
     "ename": "NameError",
     "evalue": "name 'possible_rel' is not defined",
     "output_type": "error",
     "traceback": [
      "\u001b[1;31m---------------------------------------------------------------------------\u001b[0m",
      "\u001b[1;31mNameError\u001b[0m                                 Traceback (most recent call last)",
      "\u001b[1;32m<ipython-input-9-4fd3bf88d89d>\u001b[0m in \u001b[0;36m<module>\u001b[1;34m()\u001b[0m\n\u001b[1;32m----> 1\u001b[1;33m direct_rels = possible_rel[(possible_rel['ne_type'] == 'PER') | (possible_rel['ne'].isin(me_entities)) \n\u001b[0m\u001b[0;32m      2\u001b[0m                                    & ~possible_rel['ne'].isin([exclude_elem])]\n\u001b[0;32m      3\u001b[0m \u001b[0mdirect_rels\u001b[0m\u001b[1;33m\u001b[0m\u001b[0m\n",
      "\u001b[1;31mNameError\u001b[0m: name 'possible_rel' is not defined"
     ]
    }
   ],
   "source": [
    "direct_rels = possible_rel[(possible_rel['ne_type'] == 'PER') | (possible_rel['ne'].isin(me_entities)) \n",
    "                                   & ~possible_rel['ne'].isin([exclude_elem])]\n",
    "direct_rels"
   ]
  },
  {
   "cell_type": "code",
   "execution_count": null,
   "metadata": {},
   "outputs": [],
   "source": []
  },
  {
   "cell_type": "code",
   "execution_count": 10,
   "metadata": {},
   "outputs": [
    {
     "name": "stdout",
     "output_type": "stream",
     "text": [
      "(hans)-['KNOWS']->(peter)\n",
      "(hans)-[mit]->(peter)\n",
      "(hans)-['KNOWS']->(peter)\n",
      "(hans)-[mit]->(peter)\n",
      "(hans)-['KNOWS']->(peter)\n",
      "(hans)-[mit]->(peter)\n",
      "(hans)-['KNOWS']->(peter)\n",
      "(hans)-[mit]->(peter)\n"
     ]
    },
    {
     "data": {
      "text/plain": [
       "['ins', 'kino', 'kino', '.', 'welcher', 'welcher']"
      ]
     },
     "execution_count": 10,
     "metadata": {},
     "output_type": "execute_result"
    }
   ],
   "source": [
    "rel_list = []\n",
    "def iterate(exclude_elem, head):\n",
    "    possible_rel = features[(features['ne_head'] == head) & ~features['ne'].isin([exclude_elem])\n",
    "                                & ~features['ne_dep'].isin(['ROOT'])]\n",
    "\n",
    "    # check if column 'ne' of possible_rel contains one or more named entities (real world entites)\n",
    "    direct_rels = possible_rel[(possible_rel['ne_type'] == 'PER') | (possible_rel['ne'].isin(me_entities)) \n",
    "                                   & ~possible_rel['ne'].isin([exclude_elem])]\n",
    "    \n",
    "    if len(direct_rels) > 0:\n",
    "        for ent in direct_rels.iterrows():\n",
    "            entity = ent[1]['ne']\n",
    "\n",
    "            if rel_list:\n",
    "                relationship = [word for word in rel_list if word in relationships]\n",
    "                if relationship:\n",
    "                    print(f\"({exclude_elem})-[{relationship}]->({entity})\")\n",
    "                else:\n",
    "                    print(f\"({exclude_elem})-['KNOWS']->({entity})\")\n",
    "            else:\n",
    "                print(f\"({exclude_elem})-[{head}]->({entity})\")\n",
    "\n",
    "            rel_list.clear()\n",
    "\n",
    "\n",
    "    else:  # if no direct relationship between names was found iterate possible transitive rels\n",
    "        for row in possible_rel.iterrows():\n",
    "            entity = row[1]['ne']\n",
    "\n",
    "            #if row[1]['ne_dep'] != 'root':  # look for transitive relationship\n",
    "            rel_list.append(entity)\n",
    "            iterate(exclude_elem, entity)\n",
    "\n",
    "\n",
    "for i, row in enumerate(features['ne'].iteritems()):\n",
    "    elem = row[1].lower()\n",
    "    rel = []\n",
    "    if elem in me_entities or features['ne_type'][i] == 'PER':\n",
    "        head = features['ne_head'][i].lower()\n",
    "        #print(f'{elem} {head}')\n",
    "        iterate(elem, head)\n",
    "\n",
    "rel_list"
   ]
  },
  {
   "cell_type": "code",
   "execution_count": null,
   "metadata": {},
   "outputs": [],
   "source": [
    " "
   ]
  }
 ],
 "metadata": {
  "kernelspec": {
   "display_name": "Python 3",
   "language": "python",
   "name": "python3"
  },
  "language_info": {
   "codemirror_mode": {
    "name": "ipython",
    "version": 3
   },
   "file_extension": ".py",
   "mimetype": "text/x-python",
   "name": "python",
   "nbconvert_exporter": "python",
   "pygments_lexer": "ipython3",
   "version": "3.6.4"
  }
 },
 "nbformat": 4,
 "nbformat_minor": 2
}
