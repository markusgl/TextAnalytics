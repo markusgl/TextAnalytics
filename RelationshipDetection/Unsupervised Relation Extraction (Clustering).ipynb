{
 "cells": [
  {
   "cell_type": "markdown",
   "metadata": {
    "scrolled": true
   },
   "source": [
    "## Approach (based on Eichler et al. 2008)\n",
    "* Find at leas two NEs in a sentence\n",
    "* Extract simplified dependency tree (skeleton) from each NE element to the root element (by default the VERB)\n",
    "* Extract information based on the dependency types"
   ]
  },
  {
   "cell_type": "code",
   "execution_count": 184,
   "metadata": {},
   "outputs": [],
   "source": [
    "import spacy\n",
    "import nltk\n",
    "import re\n",
    "import pandas as pd\n",
    "\n",
    "from spacy import displacy\n",
    "from spacy.matcher import Matcher\n",
    "from spacy.symbols import nsubj, pobj, obj, VERB, PERSON"
   ]
  },
  {
   "cell_type": "code",
   "execution_count": 254,
   "metadata": {},
   "outputs": [],
   "source": [
    "#nlp = spacy.load('en')\n",
    "nlp = spacy.load('de')\n",
    "#text = u'''Meine kleine Enkelin Lisa und mein Enkel Lukas fliegen morgen nach London.'''\n",
    "#text = u'''Herbert ist der Vater von Hans'''\n",
    "#text = u'''Peter und Maria gehen morgen ins Kino'''\n",
    "#text = u'''Herbert sein Sohn und ich gehen heute ins Kino'''\n",
    "text = u'''Sein Sohn Hans und ich gehen heute ins Kino'''\n",
    "#text = u'''Subsequent members of the Hohenzollern family ruled until 1918 in Berlin, first as electors of Brandenburg.'''"
   ]
  },
  {
   "cell_type": "code",
   "execution_count": 255,
   "metadata": {},
   "outputs": [
    {
     "data": {
      "text/plain": [
       "'Sein Sohn Hans und ich gehen heute ins Kino'"
      ]
     },
     "execution_count": 255,
     "metadata": {},
     "output_type": "execute_result"
    }
   ],
   "source": [
    "text = re.sub(r'\\W', ' ', text)\n",
    "text = re.sub(r'\\s{2}', ' ', text)\n",
    "text"
   ]
  },
  {
   "cell_type": "code",
   "execution_count": 256,
   "metadata": {
    "scrolled": false
   },
   "outputs": [
    {
     "data": {
      "text/html": [
       "<svg xmlns=\"http://www.w3.org/2000/svg\" xmlns:xlink=\"http://www.w3.org/1999/xlink\" id=\"0\" class=\"displacy\" width=\"1625\" height=\"312.0\" style=\"max-width: none; height: 312.0px; color: #000000; background: #ffffff; font-family: Arial\">\n",
       "<text class=\"displacy-token\" fill=\"currentColor\" text-anchor=\"middle\" y=\"222.0\">\n",
       "    <tspan class=\"displacy-word\" fill=\"currentColor\" x=\"50\">Sein</tspan>\n",
       "    <tspan class=\"displacy-tag\" dy=\"2em\" fill=\"currentColor\" x=\"50\">DET</tspan>\n",
       "</text>\n",
       "\n",
       "<text class=\"displacy-token\" fill=\"currentColor\" text-anchor=\"middle\" y=\"222.0\">\n",
       "    <tspan class=\"displacy-word\" fill=\"currentColor\" x=\"225\">Sohn</tspan>\n",
       "    <tspan class=\"displacy-tag\" dy=\"2em\" fill=\"currentColor\" x=\"225\">NOUN</tspan>\n",
       "</text>\n",
       "\n",
       "<text class=\"displacy-token\" fill=\"currentColor\" text-anchor=\"middle\" y=\"222.0\">\n",
       "    <tspan class=\"displacy-word\" fill=\"currentColor\" x=\"400\">Hans</tspan>\n",
       "    <tspan class=\"displacy-tag\" dy=\"2em\" fill=\"currentColor\" x=\"400\">PROPN</tspan>\n",
       "</text>\n",
       "\n",
       "<text class=\"displacy-token\" fill=\"currentColor\" text-anchor=\"middle\" y=\"222.0\">\n",
       "    <tspan class=\"displacy-word\" fill=\"currentColor\" x=\"575\">und</tspan>\n",
       "    <tspan class=\"displacy-tag\" dy=\"2em\" fill=\"currentColor\" x=\"575\">CONJ</tspan>\n",
       "</text>\n",
       "\n",
       "<text class=\"displacy-token\" fill=\"currentColor\" text-anchor=\"middle\" y=\"222.0\">\n",
       "    <tspan class=\"displacy-word\" fill=\"currentColor\" x=\"750\">ich</tspan>\n",
       "    <tspan class=\"displacy-tag\" dy=\"2em\" fill=\"currentColor\" x=\"750\">PRON</tspan>\n",
       "</text>\n",
       "\n",
       "<text class=\"displacy-token\" fill=\"currentColor\" text-anchor=\"middle\" y=\"222.0\">\n",
       "    <tspan class=\"displacy-word\" fill=\"currentColor\" x=\"925\">gehen</tspan>\n",
       "    <tspan class=\"displacy-tag\" dy=\"2em\" fill=\"currentColor\" x=\"925\">VERB</tspan>\n",
       "</text>\n",
       "\n",
       "<text class=\"displacy-token\" fill=\"currentColor\" text-anchor=\"middle\" y=\"222.0\">\n",
       "    <tspan class=\"displacy-word\" fill=\"currentColor\" x=\"1100\">heute</tspan>\n",
       "    <tspan class=\"displacy-tag\" dy=\"2em\" fill=\"currentColor\" x=\"1100\">ADV</tspan>\n",
       "</text>\n",
       "\n",
       "<text class=\"displacy-token\" fill=\"currentColor\" text-anchor=\"middle\" y=\"222.0\">\n",
       "    <tspan class=\"displacy-word\" fill=\"currentColor\" x=\"1275\">ins</tspan>\n",
       "    <tspan class=\"displacy-tag\" dy=\"2em\" fill=\"currentColor\" x=\"1275\">ADP</tspan>\n",
       "</text>\n",
       "\n",
       "<text class=\"displacy-token\" fill=\"currentColor\" text-anchor=\"middle\" y=\"222.0\">\n",
       "    <tspan class=\"displacy-word\" fill=\"currentColor\" x=\"1450\">Kino</tspan>\n",
       "    <tspan class=\"displacy-tag\" dy=\"2em\" fill=\"currentColor\" x=\"1450\">NOUN</tspan>\n",
       "</text>\n",
       "\n",
       "<g class=\"displacy-arrow\">\n",
       "    <path class=\"displacy-arc\" id=\"arrow-0-0\" stroke-width=\"2px\" d=\"M70,177.0 C70,89.5 220.0,89.5 220.0,177.0\" fill=\"none\" stroke=\"currentColor\"/>\n",
       "    <text dy=\"1.25em\" style=\"font-size: 0.8em; letter-spacing: 1px\">\n",
       "        <textPath xlink:href=\"#arrow-0-0\" class=\"displacy-label\" startOffset=\"50%\" fill=\"currentColor\" text-anchor=\"middle\">nk</textPath>\n",
       "    </text>\n",
       "    <path class=\"displacy-arrowhead\" d=\"M70,179.0 L62,167.0 78,167.0\" fill=\"currentColor\"/>\n",
       "</g>\n",
       "\n",
       "<g class=\"displacy-arrow\">\n",
       "    <path class=\"displacy-arc\" id=\"arrow-0-1\" stroke-width=\"2px\" d=\"M245,177.0 C245,89.5 395.0,89.5 395.0,177.0\" fill=\"none\" stroke=\"currentColor\"/>\n",
       "    <text dy=\"1.25em\" style=\"font-size: 0.8em; letter-spacing: 1px\">\n",
       "        <textPath xlink:href=\"#arrow-0-1\" class=\"displacy-label\" startOffset=\"50%\" fill=\"currentColor\" text-anchor=\"middle\">nk</textPath>\n",
       "    </text>\n",
       "    <path class=\"displacy-arrowhead\" d=\"M395.0,179.0 L403.0,167.0 387.0,167.0\" fill=\"currentColor\"/>\n",
       "</g>\n",
       "\n",
       "<g class=\"displacy-arrow\">\n",
       "    <path class=\"displacy-arc\" id=\"arrow-0-2\" stroke-width=\"2px\" d=\"M245,177.0 C245,2.0 575.0,2.0 575.0,177.0\" fill=\"none\" stroke=\"currentColor\"/>\n",
       "    <text dy=\"1.25em\" style=\"font-size: 0.8em; letter-spacing: 1px\">\n",
       "        <textPath xlink:href=\"#arrow-0-2\" class=\"displacy-label\" startOffset=\"50%\" fill=\"currentColor\" text-anchor=\"middle\">cd</textPath>\n",
       "    </text>\n",
       "    <path class=\"displacy-arrowhead\" d=\"M575.0,179.0 L583.0,167.0 567.0,167.0\" fill=\"currentColor\"/>\n",
       "</g>\n",
       "\n",
       "<g class=\"displacy-arrow\">\n",
       "    <path class=\"displacy-arc\" id=\"arrow-0-3\" stroke-width=\"2px\" d=\"M770,177.0 C770,89.5 920.0,89.5 920.0,177.0\" fill=\"none\" stroke=\"currentColor\"/>\n",
       "    <text dy=\"1.25em\" style=\"font-size: 0.8em; letter-spacing: 1px\">\n",
       "        <textPath xlink:href=\"#arrow-0-3\" class=\"displacy-label\" startOffset=\"50%\" fill=\"currentColor\" text-anchor=\"middle\">sb</textPath>\n",
       "    </text>\n",
       "    <path class=\"displacy-arrowhead\" d=\"M770,179.0 L762,167.0 778,167.0\" fill=\"currentColor\"/>\n",
       "</g>\n",
       "\n",
       "<g class=\"displacy-arrow\">\n",
       "    <path class=\"displacy-arc\" id=\"arrow-0-4\" stroke-width=\"2px\" d=\"M595,177.0 C595,2.0 925.0,2.0 925.0,177.0\" fill=\"none\" stroke=\"currentColor\"/>\n",
       "    <text dy=\"1.25em\" style=\"font-size: 0.8em; letter-spacing: 1px\">\n",
       "        <textPath xlink:href=\"#arrow-0-4\" class=\"displacy-label\" startOffset=\"50%\" fill=\"currentColor\" text-anchor=\"middle\">cj</textPath>\n",
       "    </text>\n",
       "    <path class=\"displacy-arrowhead\" d=\"M925.0,179.0 L933.0,167.0 917.0,167.0\" fill=\"currentColor\"/>\n",
       "</g>\n",
       "\n",
       "<g class=\"displacy-arrow\">\n",
       "    <path class=\"displacy-arc\" id=\"arrow-0-5\" stroke-width=\"2px\" d=\"M945,177.0 C945,89.5 1095.0,89.5 1095.0,177.0\" fill=\"none\" stroke=\"currentColor\"/>\n",
       "    <text dy=\"1.25em\" style=\"font-size: 0.8em; letter-spacing: 1px\">\n",
       "        <textPath xlink:href=\"#arrow-0-5\" class=\"displacy-label\" startOffset=\"50%\" fill=\"currentColor\" text-anchor=\"middle\">mo</textPath>\n",
       "    </text>\n",
       "    <path class=\"displacy-arrowhead\" d=\"M1095.0,179.0 L1103.0,167.0 1087.0,167.0\" fill=\"currentColor\"/>\n",
       "</g>\n",
       "\n",
       "<g class=\"displacy-arrow\">\n",
       "    <path class=\"displacy-arc\" id=\"arrow-0-6\" stroke-width=\"2px\" d=\"M945,177.0 C945,2.0 1275.0,2.0 1275.0,177.0\" fill=\"none\" stroke=\"currentColor\"/>\n",
       "    <text dy=\"1.25em\" style=\"font-size: 0.8em; letter-spacing: 1px\">\n",
       "        <textPath xlink:href=\"#arrow-0-6\" class=\"displacy-label\" startOffset=\"50%\" fill=\"currentColor\" text-anchor=\"middle\">mo</textPath>\n",
       "    </text>\n",
       "    <path class=\"displacy-arrowhead\" d=\"M1275.0,179.0 L1283.0,167.0 1267.0,167.0\" fill=\"currentColor\"/>\n",
       "</g>\n",
       "\n",
       "<g class=\"displacy-arrow\">\n",
       "    <path class=\"displacy-arc\" id=\"arrow-0-7\" stroke-width=\"2px\" d=\"M1295,177.0 C1295,89.5 1445.0,89.5 1445.0,177.0\" fill=\"none\" stroke=\"currentColor\"/>\n",
       "    <text dy=\"1.25em\" style=\"font-size: 0.8em; letter-spacing: 1px\">\n",
       "        <textPath xlink:href=\"#arrow-0-7\" class=\"displacy-label\" startOffset=\"50%\" fill=\"currentColor\" text-anchor=\"middle\">nk</textPath>\n",
       "    </text>\n",
       "    <path class=\"displacy-arrowhead\" d=\"M1445.0,179.0 L1453.0,167.0 1437.0,167.0\" fill=\"currentColor\"/>\n",
       "</g>\n",
       "</svg>"
      ],
      "text/plain": [
       "<IPython.core.display.HTML object>"
      ]
     },
     "metadata": {},
     "output_type": "display_data"
    }
   ],
   "source": [
    "doc = nlp(text)\n",
    "displacy.render(doc, style='dep', jupyter=True)"
   ]
  },
  {
   "cell_type": "code",
   "execution_count": 257,
   "metadata": {},
   "outputs": [
    {
     "data": {
      "text/html": [
       "<div>\n",
       "<style scoped>\n",
       "    .dataframe tbody tr th:only-of-type {\n",
       "        vertical-align: middle;\n",
       "    }\n",
       "\n",
       "    .dataframe tbody tr th {\n",
       "        vertical-align: top;\n",
       "    }\n",
       "\n",
       "    .dataframe thead th {\n",
       "        text-align: right;\n",
       "    }\n",
       "</style>\n",
       "<table border=\"1\" class=\"dataframe\">\n",
       "  <thead>\n",
       "    <tr style=\"text-align: right;\">\n",
       "      <th></th>\n",
       "      <th>ne</th>\n",
       "      <th>ne_type</th>\n",
       "      <th>ne_dep</th>\n",
       "      <th>ne_head</th>\n",
       "      <th>ne_pos</th>\n",
       "      <th>children</th>\n",
       "    </tr>\n",
       "  </thead>\n",
       "  <tbody>\n",
       "    <tr>\n",
       "      <th>0</th>\n",
       "      <td>sein</td>\n",
       "      <td>None</td>\n",
       "      <td>nk</td>\n",
       "      <td>sohn</td>\n",
       "      <td>DET</td>\n",
       "      <td>[]</td>\n",
       "    </tr>\n",
       "    <tr>\n",
       "      <th>1</th>\n",
       "      <td>sohn</td>\n",
       "      <td>None</td>\n",
       "      <td>ROOT</td>\n",
       "      <td>sohn</td>\n",
       "      <td>NOUN</td>\n",
       "      <td>[Sein, Hans, und]</td>\n",
       "    </tr>\n",
       "    <tr>\n",
       "      <th>2</th>\n",
       "      <td>hans</td>\n",
       "      <td>PER</td>\n",
       "      <td>nk</td>\n",
       "      <td>sohn</td>\n",
       "      <td>PROPN</td>\n",
       "      <td>[]</td>\n",
       "    </tr>\n",
       "    <tr>\n",
       "      <th>3</th>\n",
       "      <td>und</td>\n",
       "      <td>None</td>\n",
       "      <td>cd</td>\n",
       "      <td>sohn</td>\n",
       "      <td>CONJ</td>\n",
       "      <td>[gehen]</td>\n",
       "    </tr>\n",
       "    <tr>\n",
       "      <th>4</th>\n",
       "      <td>ich</td>\n",
       "      <td>None</td>\n",
       "      <td>sb</td>\n",
       "      <td>gehen</td>\n",
       "      <td>PRON</td>\n",
       "      <td>[]</td>\n",
       "    </tr>\n",
       "    <tr>\n",
       "      <th>5</th>\n",
       "      <td>gehen</td>\n",
       "      <td>None</td>\n",
       "      <td>cj</td>\n",
       "      <td>und</td>\n",
       "      <td>VERB</td>\n",
       "      <td>[ich, heute, ins]</td>\n",
       "    </tr>\n",
       "    <tr>\n",
       "      <th>6</th>\n",
       "      <td>heute</td>\n",
       "      <td>None</td>\n",
       "      <td>mo</td>\n",
       "      <td>gehen</td>\n",
       "      <td>ADV</td>\n",
       "      <td>[]</td>\n",
       "    </tr>\n",
       "    <tr>\n",
       "      <th>7</th>\n",
       "      <td>ins</td>\n",
       "      <td>None</td>\n",
       "      <td>mo</td>\n",
       "      <td>gehen</td>\n",
       "      <td>ADP</td>\n",
       "      <td>[Kino]</td>\n",
       "    </tr>\n",
       "    <tr>\n",
       "      <th>8</th>\n",
       "      <td>kino</td>\n",
       "      <td>None</td>\n",
       "      <td>nk</td>\n",
       "      <td>ins</td>\n",
       "      <td>NOUN</td>\n",
       "      <td>[]</td>\n",
       "    </tr>\n",
       "  </tbody>\n",
       "</table>\n",
       "</div>"
      ],
      "text/plain": [
       "      ne ne_type ne_dep ne_head ne_pos           children\n",
       "0   sein    None     nk    sohn    DET                 []\n",
       "1   sohn    None   ROOT    sohn   NOUN  [Sein, Hans, und]\n",
       "2   hans     PER     nk    sohn  PROPN                 []\n",
       "3    und    None     cd    sohn   CONJ            [gehen]\n",
       "4    ich    None     sb   gehen   PRON                 []\n",
       "5  gehen    None     cj     und   VERB  [ich, heute, ins]\n",
       "6  heute    None     mo   gehen    ADV                 []\n",
       "7    ins    None     mo   gehen    ADP             [Kino]\n",
       "8   kino    None     nk     ins   NOUN                 []"
      ]
     },
     "execution_count": 257,
     "metadata": {},
     "output_type": "execute_result"
    }
   ],
   "source": [
    "import pandas as pd\n",
    "feature_columns = ['ne', 'ne_type', 'ne_dep', 'ne_head', 'ne_pos', 'children']\n",
    "features = pd.DataFrame(columns=feature_columns)\n",
    "  \n",
    "tokens = []\n",
    "for token in doc:\n",
    "    ne = token.text\n",
    "    ne_dep = token.dep_\n",
    "    head = token.head.text\n",
    "    pos = token.pos_\n",
    "    children = [child for child in token.children]\n",
    "    #lemma = token.lemma_.lower()\n",
    "    #print(token.text, token.dep_, token.head.text, token.head.pos_,\n",
    "     # [child for child in token.children])\n",
    "    data = {'ne': ne.lower(), 'ne_type': None, 'ne_dep': ne_dep,'ne_head': head.lower(), 'ne_pos': pos, 'children': children}\n",
    "    training_ex = pd.Series(data, index=feature_columns)\n",
    "    features = features.append(training_ex, ignore_index=True)\n",
    "\n",
    "for ent in doc.ents:\n",
    "    features.loc[features['ne'] == ent.text.lower(), 'ne_type'] = ent.label_\n",
    "\n",
    "features"
   ]
  },
  {
   "cell_type": "markdown",
   "metadata": {},
   "source": [
    "### Build skeleton\n",
    "iterate dependecies back from NE"
   ]
  },
  {
   "cell_type": "code",
   "execution_count": 258,
   "metadata": {},
   "outputs": [
    {
     "name": "stdout",
     "output_type": "stream",
     "text": [
      "Sein Sohn Hans Sohn ROOT Sohn\n",
      "ich ich sb gehen\n",
      "Kino Kino nk ins\n"
     ]
    }
   ],
   "source": [
    "for chunk in doc.noun_chunks:\n",
    "    print(chunk.text, chunk.root.text, chunk.root.dep_,\n",
    "          chunk.root.head.text)"
   ]
  },
  {
   "cell_type": "code",
   "execution_count": 259,
   "metadata": {},
   "outputs": [
    {
     "name": "stdout",
     "output_type": "stream",
     "text": [
      "Hans PER\n"
     ]
    },
    {
     "data": {
      "text/plain": [
       "['Hans']"
      ]
     },
     "execution_count": 259,
     "metadata": {},
     "output_type": "execute_result"
    }
   ],
   "source": [
    "ne_list = []\n",
    "\n",
    "for ent in doc.ents:\n",
    "    print(ent.text, ent.label_)\n",
    "    #if ent.label_ == 'PERSON' or ent.label_ == 'GPE': # en\n",
    "    #if ent.label_ == 'PER':  # de\n",
    "    ne_list.append(ent.text)\n",
    "    \n",
    "ne_list"
   ]
  },
  {
   "cell_type": "code",
   "execution_count": 262,
   "metadata": {},
   "outputs": [],
   "source": [
    "\n",
    "class Node:\n",
    "    name = None\n",
    "    ancestors = []\n",
    "    root = None\n",
    "    "
   ]
  },
  {
   "cell_type": "code",
   "execution_count": 263,
   "metadata": {},
   "outputs": [
    {
     "name": "stdout",
     "output_type": "stream",
     "text": [
      "Sohn\n",
      "gehen\n",
      "und\n",
      "Sohn\n",
      "{Sohn: [], Hans: [], ich: [[gehen, 'cj'], [und, 'cd']]}\n"
     ]
    },
    {
     "data": {
      "text/plain": [
       "[<__main__.Node at 0x26c9ec4b6a0>,\n",
       " <__main__.Node at 0x26c9ec4b128>,\n",
       " <__main__.Node at 0x26c9ec4bfd0>]"
      ]
     },
     "execution_count": 263,
     "metadata": {},
     "output_type": "execute_result"
    }
   ],
   "source": [
    "root = [token for token in doc if token.head == token][0]\n",
    "entity_dict = {}\n",
    "nodes = []\n",
    "\n",
    "#print(list(root.lefts))[0]\n",
    "for token in doc:\n",
    "    ancestors = []\n",
    "    node = Node()\n",
    "    if token.text in ne_list:\n",
    "        node.name = token.text\n",
    "        for ancestor in token.ancestors:\n",
    "            \n",
    "            if ancestor == root:\n",
    "                node.root = ancestor.text\n",
    "                \n",
    "            else:\n",
    "                ancestors.append([ancestor, ancestor.dep_])\n",
    "        \n",
    "        nodes.append(node)            \n",
    "        entity_dict[token] = ancestors\n",
    "\n",
    "print(entity_dict)\n",
    "nodes"
   ]
  },
  {
   "cell_type": "code",
   "execution_count": 158,
   "metadata": {},
   "outputs": [
    {
     "name": "stdout",
     "output_type": "stream",
     "text": [
      "[[ist, 'ROOT']]\n",
      "[[von, 'pg'], [Vater, 'sb'], [ist, 'ROOT']]\n"
     ]
    }
   ],
   "source": [
    "root = [token for token in doc if token.head == token][0]\n",
    "for node in nodes:\n",
    "    for a in \n",
    "    print(f'{node.name}')\n",
    "    \n"
   ]
  },
  {
   "cell_type": "code",
   "execution_count": null,
   "metadata": {},
   "outputs": [],
   "source": [
    "from networkx import nx_pydot\n",
    "import os\n",
    "os.environ[\"PATH\"] += os.pathsep + 'C:/Program Files (x86)/Graphviz2.38/bin/'\n",
    "\n",
    "ng.add_edge(source, target, weight=int(w))\n",
    "\n",
    "e_small = [(u, v) for (u, v, d) in ng.edges(data=True) if d['weight'] <= 3]\n",
    "e_middle = [(u, v) for (u, v, d) in ng.edges(data=True) if d['weight'] <= 6]\n",
    "e_large = [(u, v) for (u, v, d) in ng.edges(data=True) if d['weight'] > 6]\n",
    "#pos = nx.spring_layout(ng)  # positions for all nodes\n",
    "pos = nx.nx_pydot.graphviz_layout(ng, prog='dot')\n",
    "\n",
    "# nodes\n",
    "nx.draw_networkx_nodes(ng, pos, node_size=300)\n",
    "\n",
    "# edges\n",
    "nx.draw_networkx_edges(ng, pos, edgelist=e_small, width=1)\n",
    "nx.draw_networkx_edges(ng, pos, edgelist=e_middle, width=2)\n",
    "nx.draw_networkx_edges(ng, pos, edgelist=e_large, width=6)\n",
    "\n",
    "# labels\n",
    "nx.draw_networkx_labels(ng, pos, font_size=11, font_family='sans-serif')\n",
    "\n",
    "plt.axis('off')  # disable axis\n",
    "plt.show()\n"
   ]
  },
  {
   "cell_type": "markdown",
   "metadata": {},
   "source": [
    "### select subject and object"
   ]
  },
  {
   "cell_type": "markdown",
   "metadata": {},
   "source": [
    "for english texts extract verb correspondants"
   ]
  },
  {
   "cell_type": "code",
   "execution_count": 127,
   "metadata": {
    "scrolled": true
   },
   "outputs": [
    {
     "name": "stdout",
     "output_type": "stream",
     "text": [
      "Herbert\n",
      "ist\n",
      "der\n",
      "Vater\n",
      "von\n",
      "Hans\n",
      "set() set()\n"
     ]
    }
   ],
   "source": [
    "subjects = set()\n",
    "objects = set()\n",
    "de_objects = ['oa', 'oc', 'og', 'op']\n",
    "\n",
    "for elem in doc:\n",
    "    if elem.dep == nsubj and elem.head.pos == VERB:\n",
    "        subjects.add(elem.text)\n",
    "        \n",
    "    if elem.dep == pobj and elem.head.pos == VERB:\n",
    "        objects.add(elem.text)\n",
    "        \n",
    "\n",
    "print(subjects, objects)"
   ]
  },
  {
   "cell_type": "markdown",
   "metadata": {},
   "source": [
    "#### search subject, predicate and object"
   ]
  },
  {
   "cell_type": "code",
   "execution_count": 145,
   "metadata": {},
   "outputs": [
    {
     "name": "stdout",
     "output_type": "stream",
     "text": [
      "{'Vater'} {'von'}\n"
     ]
    }
   ],
   "source": [
    "subjects = set()\n",
    "objects = set()\n",
    "de_objects = ['oa', 'oc', 'og', 'op', 'pg']\n",
    "\n",
    "\n",
    "for elem in doc:\n",
    "    if elem.dep_ == 'sb':\n",
    "        subjects.add(elem.text)\n",
    "    \n",
    "    if elem.dep_ in de_objects:\n",
    "        objects.add(elem.text)\n",
    "        \n",
    "\n",
    "print(subjects, objects)"
   ]
  },
  {
   "cell_type": "code",
   "execution_count": null,
   "metadata": {},
   "outputs": [],
   "source": []
  }
 ],
 "metadata": {
  "kernelspec": {
   "display_name": "Python 3",
   "language": "python",
   "name": "python3"
  },
  "language_info": {
   "codemirror_mode": {
    "name": "ipython",
    "version": 3
   },
   "file_extension": ".py",
   "mimetype": "text/x-python",
   "name": "python",
   "nbconvert_exporter": "python",
   "pygments_lexer": "ipython3",
   "version": "3.6.4"
  }
 },
 "nbformat": 4,
 "nbformat_minor": 2
}
