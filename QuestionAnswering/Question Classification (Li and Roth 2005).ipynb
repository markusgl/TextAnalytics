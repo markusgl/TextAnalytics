{
 "cells": [
  {
   "cell_type": "markdown",
   "metadata": {},
   "source": [
    "## Question Classification (QC)\n",
    "Goal: Classify question to predefined classes (multi-class classification) for further processing and downstream tasks such as question answering. Classes can be *definition*, *reason*, *person* etc.  \n",
    "\n",
    "E.g. the question *What Canadian city has the largest population?* expects a single entity of the type *city* as answer.\n",
    "The question *What is a prism?* does expect a definition, while the question *Why is the sun yellow?* expects a reason."
   ]
  },
  {
   "cell_type": "markdown",
   "metadata": {},
   "source": [
    "### Examples questions"
   ]
  },
  {
   "cell_type": "code",
   "execution_count": 2,
   "metadata": {},
   "outputs": [],
   "source": [
    "q1 = u'''Wie gehe ich mit einem Demenzkranken bei Tod der Mutter um?'''\n",
    "q2 = u'''Ausnutzung der Demenz zur finanziellen Bereicherung'''\n",
    "q3 = u'''Wie könnte ich anders auf die immer gleiche Frage reagieren?'''\n",
    "q4 = u'''Wie kann man Fremde auf Demenz hinweisen?'''\n",
    "q5 = u'''Meine Mutter verweigert Hilfe bei der Pflege'''"
   ]
  },
  {
   "cell_type": "markdown",
   "metadata": {},
   "source": [
    "### Feature Extraction"
   ]
  },
  {
   "cell_type": "code",
   "execution_count": null,
   "metadata": {},
   "outputs": [],
   "source": [
    "from flair.data import Sentence\n",
    "from flair.embeddings import WordEmbeddings, FlairEmbeddings, BertEmbeddings\n",
    "from torch import nn"
   ]
  },
  {
   "cell_type": "code",
   "execution_count": null,
   "metadata": {},
   "outputs": [],
   "source": [
    "# TODO"
   ]
  }
 ],
 "metadata": {
  "kernelspec": {
   "display_name": "Python 3",
   "language": "python",
   "name": "python3"
  },
  "language_info": {
   "codemirror_mode": {
    "name": "ipython",
    "version": 3
   },
   "file_extension": ".py",
   "mimetype": "text/x-python",
   "name": "python",
   "nbconvert_exporter": "python",
   "pygments_lexer": "ipython3",
   "version": "3.6.4"
  }
 },
 "nbformat": 4,
 "nbformat_minor": 2
}
