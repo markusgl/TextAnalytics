{
 "cells": [
  {
   "cell_type": "markdown",
   "metadata": {},
   "source": [
    "## Shortest path relation extraction with word embeddings\n",
    "Approach:\n",
    "* Locate Named Entities in the sentece\n",
    "* Extract dependency path of the sentence using the spaCy dependy parser\n",
    "* Build an undirected network graph of the dependencies in the sentece\n",
    "* Search for the shortest path between every two entities and assume them as related to be each other\n",
    "* Computer feature vector (word embedding) for shortest path feature\n",
    "* Cluster the entities depending on features"
   ]
  },
  {
   "cell_type": "code",
   "execution_count": 107,
   "metadata": {},
   "outputs": [],
   "source": [
    "import enum\n",
    "import networkx as nx\n",
    "import spacy\n",
    "import matplotlib.pyplot as plt\n",
    "import logging\n",
    "import pandas as pd\n",
    "import numpy as np\n",
    "\n",
    "from networkx.exception import NodeNotFound, NetworkXNoPath\n",
    "from gensim.models import KeyedVectors\n",
    "\n",
    "nlp = spacy.load('de')\n",
    "model = KeyedVectors.load_word2vec_format('../models/german.model', binary=True)"
   ]
  },
  {
   "cell_type": "code",
   "execution_count": 57,
   "metadata": {},
   "outputs": [],
   "source": [
    "relationship_list = ['vater', 'mutter', 'sohn', 'tochter', 'bruder', 'schwester', 'enkel', 'enkelin', 'nichte',\n",
    "                     'neffe', 'onkel', 'tante']\n",
    "me_list = ['ich', 'meine', 'mein', 'meiner', 'meinem', 'meinen']"
   ]
  },
  {
   "cell_type": "code",
   "execution_count": 164,
   "metadata": {},
   "outputs": [],
   "source": [
    "#text = u'''Herbert ist der Vater von Hans'''\n",
    "#text = u'''Peter und Maria gehen morgen ins Kino'''\n",
    "#text = u'''Herbert sein Sohn und ich gehen heute ins Kino'''\n",
    "# text = u'''Ich gehe mit Johann in den Zoo'''\n",
    "#text = u'''Hans und sein Sohn Hubert gehen in den Zoo.'''\n",
    "text = u'''Hans, welcher der Sohn von Hubert ist, geht mit Peter ins Kino.'''\n",
    "#text = u'''Meine kleine Enkelin Lisa und mein Enkel Lukas fliegen morgen nach London.'''\n",
    "#text = u'''Ich fahre mit meinen Enkeln Lukas und Lisa in den Urlaub.'''\n",
    "#text = u'''Potesters seized several pumping stations, holding 127 Shell workers hostage.'''\n",
    "#text = u'''Troops recently have raided churches, warning ministers to stop preaching.'''"
   ]
  },
  {
   "cell_type": "markdown",
   "metadata": {},
   "source": [
    "## Named Entity Recognition"
   ]
  },
  {
   "cell_type": "code",
   "execution_count": 165,
   "metadata": {},
   "outputs": [],
   "source": [
    "doc = nlp(text)"
   ]
  },
  {
   "cell_type": "code",
   "execution_count": 166,
   "metadata": {},
   "outputs": [
    {
     "data": {
      "text/plain": [
       "['hans', 'sohn', 'hubert', 'peter']"
      ]
     },
     "execution_count": 166,
     "metadata": {},
     "output_type": "execute_result"
    }
   ],
   "source": [
    "entities = []\n",
    "for ent in doc.ents:\n",
    "    if ent.label_ == 'PER':\n",
    "        entities.append(ent.text.lower())\n",
    "\n",
    "for token in doc:\n",
    "    if token.text.lower() in me_list:\n",
    "        entities.append(token.text.lower())\n",
    "\n",
    "entities"
   ]
  },
  {
   "cell_type": "markdown",
   "metadata": {},
   "source": [
    "## Build undirected graph"
   ]
  },
  {
   "cell_type": "code",
   "execution_count": 167,
   "metadata": {},
   "outputs": [],
   "source": [
    "edges = []\n",
    "for token in doc:\n",
    "    for child in token.children:\n",
    "        edges.append((f'{token.lower_}',\n",
    "                      f'{child.lower_}'))\n",
    "\n",
    "graph = nx.Graph(edges)"
   ]
  },
  {
   "cell_type": "code",
   "execution_count": 168,
   "metadata": {},
   "outputs": [
    {
     "data": {
      "image/png": "[encoded data removed]",
      "text/plain": [
       "<Figure size 432x288 with 1 Axes>"
      ]
     },
     "metadata": {},
     "output_type": "display_data"
    }
   ],
   "source": [
    "# nx.draw_networkx(graph, node_size=100, ode_color=range(len(graph)))\n",
    "pos = nx.spring_layout(graph)  # positions for all nodes\n",
    "# nodes\n",
    "nx.draw_networkx_nodes(graph, pos, node_size=200)\n",
    "# edges\n",
    "nx.draw_networkx_edges(graph, pos, width=1)\n",
    "# labels\n",
    "nx.draw_networkx_labels(graph, pos, font_size=12, font_family='sans-serif')\n",
    "\n",
    "plt.axis('off')  # disable axis\n",
    "plt.show()"
   ]
  },
  {
   "cell_type": "markdown",
   "metadata": {},
   "source": [
    "## Shortest Path\n",
    "Find shortest path between every found two entities"
   ]
  },
  {
   "cell_type": "code",
   "execution_count": 169,
   "metadata": {},
   "outputs": [
    {
     "data": {
      "text/plain": [
       "{'hans-sohn': ['hans', 'ist', 'sohn'],\n",
       " 'hans-hubert': ['hans', 'ist', 'sohn', 'von', 'hubert'],\n",
       " 'hans-peter': ['hans', 'geht', 'mit', 'peter'],\n",
       " 'sohn-hubert': ['sohn', 'von', 'hubert'],\n",
       " 'sohn-peter': ['sohn', 'ist', 'hans', 'geht', 'mit', 'peter'],\n",
       " 'hubert-peter': ['hubert',\n",
       "  'von',\n",
       "  'sohn',\n",
       "  'ist',\n",
       "  'hans',\n",
       "  'geht',\n",
       "  'mit',\n",
       "  'peter']}"
      ]
     },
     "execution_count": 169,
     "metadata": {},
     "output_type": "execute_result"
    }
   ],
   "source": [
    "path_dict = {}\n",
    "for i, first_entity in enumerate(entities):\n",
    "    for j in range(i+1, len(entities)):\n",
    "        second_entity = entities[j]\n",
    "        if not i == j and second_entity not in me_list:        \n",
    "            try:\n",
    "                shortest_path = nx.shortest_path(graph, source=first_entity, target=second_entity)\n",
    "                key = first_entity + '-' + second_entity\n",
    "                path_dict[key] = shortest_path\n",
    "            except NodeNotFound as err:\n",
    "                logging.warning(f'Node not found: {err}')\n",
    "            except NetworkXNoPath as err:\n",
    "                logging.warning(f'No path found: {err}')\n",
    "\n",
    "path_dict"
   ]
  },
  {
   "cell_type": "code",
   "execution_count": 170,
   "metadata": {},
   "outputs": [],
   "source": [
    "feature_columns = ['m1', 'm2', 'm1_pos', 'm2_pos', 'before_m1', 'after_m2', 'between_words', \n",
    "                   'short_path', 'm1_head', 'm2_head']\n",
    "\n",
    "features = pd.DataFrame(columns=feature_columns)"
   ]
  },
  {
   "cell_type": "code",
   "execution_count": 171,
   "metadata": {},
   "outputs": [],
   "source": [
    "features_list = []  # for TF-IDF vectorization\n",
    "#ners = []\n",
    "\n",
    "# check for named entity 'PER' or 'PME' in each sentence\n",
    "#for ner_tuple in ner_tuples:\n",
    "#    if 'I-PER' in ner_tuple:\n",
    "#        ners.append(ner_tuple)\n",
    "#    elif ner_tuple[0].lower() in me_list:\n",
    "#        ners.append((ner_tuple[0], 'PME'))\n",
    "#    elif ner_tuple[0].lower() in relationship_list:\n",
    "#        ners.append((ner_tuple[0], 'SOC'))\n",
    "\n",
    "for sentence in sent_tokenize(text):\n",
    "    sentence = re.sub(r'\\W', ' ', sentence)\n",
    "    sentence = re.sub(r'\\s{2,}', ' ', sentence)\n",
    "    sentence = sentence.lower()\n",
    "    doc = nlp(sentence)\n",
    "    \n",
    "    for key, value in path_dict.items():\n",
    "        # extract entities\n",
    "        m1 = key.split('-')[0]\n",
    "        m2 = key.split('-')[1]\n",
    "\n",
    "        short_path = value\n",
    "\n",
    "        # POS tagging and head\n",
    "        for token in doc:\n",
    "            if token.text.lower() == m1:\n",
    "                m1_pos_tag = token.pos_\n",
    "                m1_head = token.head.text\n",
    "                #m1_children = [child for child in token.children]\n",
    "            elif token.text.lower() == m2:\n",
    "                m2_pos_tag = token.pos_\n",
    "                m2_head = token.head.text\n",
    "                #m2_children = [child for child in token.children]\n",
    "\n",
    "        # Dependecy parsing\n",
    "        #dep_path = []\n",
    "        #for chunk in doc.noun_chunks:\n",
    "        #    if chunk.root.text.lower() == m1 or chunk.root.text.lower() == m2:\n",
    "        #        dep_path.append([chunk.root.text, chunk.root.dep_, chunk.root.head.text])  \n",
    "\n",
    "        # Between words\n",
    "        start_position_m1 = sentence.find(m1)\n",
    "        start_position_m2 = sentence.find(m2)\n",
    "\n",
    "        # verify if the words were found in the sentence\n",
    "        if not start_position_m1 == -1 and not start_position_m2 == -1:\n",
    "            start_position_between = start_position_m1 + len(m1) + 1\n",
    "            end_position_between = start_position_m2\n",
    "\n",
    "            between = sentence[start_position_between:end_position_between]\n",
    "            between_words = []\n",
    "            for word in word_tokenize(between):\n",
    "                between_words.append(word)\n",
    "\n",
    "            beforeM1 = sentence[:start_position_m1 - 1]\n",
    "            afterM2 = sentence[start_position_m2 + len(m2):]\n",
    "\n",
    "            beforeM1_list = word_tokenize(beforeM1)\n",
    "            afterM2_list = word_tokenize(afterM2)\n",
    "\n",
    "            data = {'m1': m1, 'm2': m2, 'm1_pos': m1_pos_tag, 'm2_pos': m2_pos_tag,\n",
    "                    'before_m1': beforeM1_list, 'after_m2': afterM2_list,\n",
    "                    'between_words': between_words, 'short_path': short_path,\n",
    "                     'm1_head': m1_head, 'm2_head': m2_head}\n",
    "\n",
    "            training_example = pd.Series(data, index=feature_columns)\n",
    "            features = features.append(training_example, ignore_index=True)\n",
    "            #context = [beforeM1, between, afterM2]\n",
    "            #features_list.append(context)\n",
    "\n",
    "#features_list"
   ]
  },
  {
   "cell_type": "code",
   "execution_count": 172,
   "metadata": {
    "scrolled": true
   },
   "outputs": [
    {
     "data": {
      "text/html": [
       "<div>\n",
       "<style scoped>\n",
       "    .dataframe tbody tr th:only-of-type {\n",
       "        vertical-align: middle;\n",
       "    }\n",
       "\n",
       "    .dataframe tbody tr th {\n",
       "        vertical-align: top;\n",
       "    }\n",
       "\n",
       "    .dataframe thead th {\n",
       "        text-align: right;\n",
       "    }\n",
       "</style>\n",
       "<table border=\"1\" class=\"dataframe\">\n",
       "  <thead>\n",
       "    <tr style=\"text-align: right;\">\n",
       "      <th></th>\n",
       "      <th>m1</th>\n",
       "      <th>m2</th>\n",
       "      <th>m1_pos</th>\n",
       "      <th>m2_pos</th>\n",
       "      <th>before_m1</th>\n",
       "      <th>after_m2</th>\n",
       "      <th>between_words</th>\n",
       "      <th>short_path</th>\n",
       "      <th>m1_head</th>\n",
       "      <th>m2_head</th>\n",
       "    </tr>\n",
       "  </thead>\n",
       "  <tbody>\n",
       "    <tr>\n",
       "      <th>0</th>\n",
       "      <td>hans</td>\n",
       "      <td>sohn</td>\n",
       "      <td>VERB</td>\n",
       "      <td>ADJ</td>\n",
       "      <td>[hans, welcher, der, sohn, von, hubert, ist, g...</td>\n",
       "      <td>[von, hubert, ist, geht, mit, peter, ins, kino]</td>\n",
       "      <td>[welcher, der]</td>\n",
       "      <td>[hans, ist, sohn]</td>\n",
       "      <td>ist</td>\n",
       "      <td>welcher</td>\n",
       "    </tr>\n",
       "    <tr>\n",
       "      <th>1</th>\n",
       "      <td>hans</td>\n",
       "      <td>hubert</td>\n",
       "      <td>VERB</td>\n",
       "      <td>VERB</td>\n",
       "      <td>[hans, welcher, der, sohn, von, hubert, ist, g...</td>\n",
       "      <td>[ist, geht, mit, peter, ins, kino]</td>\n",
       "      <td>[welcher, der, sohn, von]</td>\n",
       "      <td>[hans, ist, sohn, von, hubert]</td>\n",
       "      <td>ist</td>\n",
       "      <td>von</td>\n",
       "    </tr>\n",
       "    <tr>\n",
       "      <th>2</th>\n",
       "      <td>hans</td>\n",
       "      <td>peter</td>\n",
       "      <td>VERB</td>\n",
       "      <td>ADJ</td>\n",
       "      <td>[hans, welcher, der, sohn, von, hubert, ist, g...</td>\n",
       "      <td>[ins, kino]</td>\n",
       "      <td>[welcher, der, sohn, von, hubert, ist, geht, mit]</td>\n",
       "      <td>[hans, geht, mit, peter]</td>\n",
       "      <td>ist</td>\n",
       "      <td>mit</td>\n",
       "    </tr>\n",
       "    <tr>\n",
       "      <th>3</th>\n",
       "      <td>sohn</td>\n",
       "      <td>hubert</td>\n",
       "      <td>ADJ</td>\n",
       "      <td>VERB</td>\n",
       "      <td>[hans, welcher, der]</td>\n",
       "      <td>[ist, geht, mit, peter, ins, kino]</td>\n",
       "      <td>[von]</td>\n",
       "      <td>[sohn, von, hubert]</td>\n",
       "      <td>welcher</td>\n",
       "      <td>von</td>\n",
       "    </tr>\n",
       "    <tr>\n",
       "      <th>4</th>\n",
       "      <td>sohn</td>\n",
       "      <td>peter</td>\n",
       "      <td>ADJ</td>\n",
       "      <td>ADJ</td>\n",
       "      <td>[hans, welcher, der]</td>\n",
       "      <td>[ins, kino]</td>\n",
       "      <td>[von, hubert, ist, geht, mit]</td>\n",
       "      <td>[sohn, ist, hans, geht, mit, peter]</td>\n",
       "      <td>welcher</td>\n",
       "      <td>mit</td>\n",
       "    </tr>\n",
       "  </tbody>\n",
       "</table>\n",
       "</div>"
      ],
      "text/plain": [
       "     m1      m2 m1_pos m2_pos  \\\n",
       "0  hans    sohn   VERB    ADJ   \n",
       "1  hans  hubert   VERB   VERB   \n",
       "2  hans   peter   VERB    ADJ   \n",
       "3  sohn  hubert    ADJ   VERB   \n",
       "4  sohn   peter    ADJ    ADJ   \n",
       "\n",
       "                                           before_m1  \\\n",
       "0  [hans, welcher, der, sohn, von, hubert, ist, g...   \n",
       "1  [hans, welcher, der, sohn, von, hubert, ist, g...   \n",
       "2  [hans, welcher, der, sohn, von, hubert, ist, g...   \n",
       "3                               [hans, welcher, der]   \n",
       "4                               [hans, welcher, der]   \n",
       "\n",
       "                                          after_m2  \\\n",
       "0  [von, hubert, ist, geht, mit, peter, ins, kino]   \n",
       "1               [ist, geht, mit, peter, ins, kino]   \n",
       "2                                      [ins, kino]   \n",
       "3               [ist, geht, mit, peter, ins, kino]   \n",
       "4                                      [ins, kino]   \n",
       "\n",
       "                                       between_words  \\\n",
       "0                                     [welcher, der]   \n",
       "1                          [welcher, der, sohn, von]   \n",
       "2  [welcher, der, sohn, von, hubert, ist, geht, mit]   \n",
       "3                                              [von]   \n",
       "4                      [von, hubert, ist, geht, mit]   \n",
       "\n",
       "                            short_path  m1_head  m2_head  \n",
       "0                    [hans, ist, sohn]      ist  welcher  \n",
       "1       [hans, ist, sohn, von, hubert]      ist      von  \n",
       "2             [hans, geht, mit, peter]      ist      mit  \n",
       "3                  [sohn, von, hubert]  welcher      von  \n",
       "4  [sohn, ist, hans, geht, mit, peter]  welcher      mit  "
      ]
     },
     "execution_count": 172,
     "metadata": {},
     "output_type": "execute_result"
    }
   ],
   "source": [
    "features.head()"
   ]
  },
  {
   "cell_type": "code",
   "execution_count": 173,
   "metadata": {
    "scrolled": true
   },
   "outputs": [],
   "source": [
    "vector_feature_columns = ['m1', 'm2', 'short_path_vector']\n",
    "vector_features = pd.DataFrame(columns=vector_feature_columns)"
   ]
  },
  {
   "cell_type": "markdown",
   "metadata": {},
   "source": [
    "## sum word embeddings"
   ]
  },
  {
   "cell_type": "code",
   "execution_count": 174,
   "metadata": {
    "scrolled": false
   },
   "outputs": [
    {
     "data": {
      "text/html": [
       "<div>\n",
       "<style scoped>\n",
       "    .dataframe tbody tr th:only-of-type {\n",
       "        vertical-align: middle;\n",
       "    }\n",
       "\n",
       "    .dataframe tbody tr th {\n",
       "        vertical-align: top;\n",
       "    }\n",
       "\n",
       "    .dataframe thead th {\n",
       "        text-align: right;\n",
       "    }\n",
       "</style>\n",
       "<table border=\"1\" class=\"dataframe\">\n",
       "  <thead>\n",
       "    <tr style=\"text-align: right;\">\n",
       "      <th></th>\n",
       "      <th>m1</th>\n",
       "      <th>m2</th>\n",
       "      <th>short_path_vector</th>\n",
       "    </tr>\n",
       "  </thead>\n",
       "  <tbody>\n",
       "    <tr>\n",
       "      <th>0</th>\n",
       "      <td>hans</td>\n",
       "      <td>sohn</td>\n",
       "      <td>NaN</td>\n",
       "    </tr>\n",
       "    <tr>\n",
       "      <th>1</th>\n",
       "      <td>hans</td>\n",
       "      <td>hubert</td>\n",
       "      <td>NaN</td>\n",
       "    </tr>\n",
       "    <tr>\n",
       "      <th>2</th>\n",
       "      <td>hans</td>\n",
       "      <td>peter</td>\n",
       "      <td>NaN</td>\n",
       "    </tr>\n",
       "    <tr>\n",
       "      <th>3</th>\n",
       "      <td>sohn</td>\n",
       "      <td>hubert</td>\n",
       "      <td>NaN</td>\n",
       "    </tr>\n",
       "    <tr>\n",
       "      <th>4</th>\n",
       "      <td>sohn</td>\n",
       "      <td>peter</td>\n",
       "      <td>NaN</td>\n",
       "    </tr>\n",
       "    <tr>\n",
       "      <th>5</th>\n",
       "      <td>hubert</td>\n",
       "      <td>peter</td>\n",
       "      <td>NaN</td>\n",
       "    </tr>\n",
       "  </tbody>\n",
       "</table>\n",
       "</div>"
      ],
      "text/plain": [
       "       m1      m2 short_path_vector\n",
       "0    hans    sohn               NaN\n",
       "1    hans  hubert               NaN\n",
       "2    hans   peter               NaN\n",
       "3    sohn  hubert               NaN\n",
       "4    sohn   peter               NaN\n",
       "5  hubert   peter               NaN"
      ]
     },
     "execution_count": 174,
     "metadata": {},
     "output_type": "execute_result"
    }
   ],
   "source": [
    "embedding_vectors = []\n",
    "# get vector length\n",
    "vector_len = len(model.wv['hallo'])\n",
    "\n",
    "for row in features.iterrows():\n",
    "    m1 = row[1]['m1']\n",
    "    m2 = row[1]['m2']\n",
    "    short_path = row[1]['short_path']\n",
    "    \n",
    "    # get the word embedding representation for each word in the shortest path\n",
    "    #row_embeddings = np.empty(len(short_path))\n",
    "    row_embeddings = []\n",
    "    \n",
    "    for word in short_path:\n",
    "        try:\n",
    "            row_embeddings.append(model.wv[word])\n",
    "        except KeyError as err:\n",
    "            row_embeddings.append(np.zeros(vector_len))\n",
    "    \n",
    "    #print(sum(row_embeddings))\n",
    "    embedding_vectors.append(sum(row_embeddings))\n",
    "    vector_data = {'m1': m1, 'm2': m2, 'short_path_embedding_vector': sum(row_embeddings)}\n",
    "    training_example = pd.Series(vector_data, index=vector_feature_columns)\n",
    "    vector_features = vector_features.append(training_example, ignore_index=True)\n",
    "\n",
    "# summarize vectors    \n",
    "#row_embeddings.sum()\n",
    "vector_features\n"
   ]
  },
  {
   "cell_type": "markdown",
   "metadata": {},
   "source": [
    "## create tuples of vector for plotting"
   ]
  },
  {
   "cell_type": "code",
   "execution_count": 181,
   "metadata": {},
   "outputs": [
    {
     "data": {
      "text/plain": [
       "['hans-sohn',\n",
       " 'hans-hubert',\n",
       " 'hans-peter',\n",
       " 'sohn-hubert',\n",
       " 'sohn-peter',\n",
       " 'hubert-peter']"
      ]
     },
     "execution_count": 181,
     "metadata": {},
     "output_type": "execute_result"
    }
   ],
   "source": [
    "tuples = ()\n",
    "for vector in embedding_vectors:\n",
    "    if not tuples:\n",
    "        tuples = (vector, )\n",
    "    else:\n",
    "        tuples = tuples + (vector, )\n",
    "tuples\n",
    "list(path_dict.keys())"
   ]
  },
  {
   "cell_type": "markdown",
   "metadata": {},
   "source": [
    "## Plot vectors"
   ]
  },
  {
   "cell_type": "code",
   "execution_count": 182,
   "metadata": {},
   "outputs": [
    {
     "data": {
      "image/png": "[encoded data removed]",
      "text/plain": [
       "<Figure size 432x288 with 1 Axes>"
      ]
     },
     "metadata": {},
     "output_type": "display_data"
    }
   ],
   "source": [
    "from sklearn.decomposition import PCA\n",
    "import matplotlib.pyplot as plt\n",
    "\n",
    "X = np.vstack(tuples)\n",
    "pca = PCA(n_components=2)\n",
    "result = pca.fit_transform(X)\n",
    "\n",
    "plt.scatter(result[:, 0], result[:, 1])\n",
    "words = list(path_dict.keys())\n",
    "for i, word in enumerate(words):\n",
    "    plt.annotate(word, xy=(result[i, 0], result[i, 1]))\n",
    "plt.show()"
   ]
  },
  {
   "cell_type": "markdown",
   "metadata": {},
   "source": [
    "## Clustering"
   ]
  },
  {
   "cell_type": "code",
   "execution_count": 185,
   "metadata": {},
   "outputs": [
    {
     "data": {
      "text/plain": [
       "array([0, 0, 1, 0, 1, 1], dtype=int64)"
      ]
     },
     "execution_count": 185,
     "metadata": {},
     "output_type": "execute_result"
    }
   ],
   "source": [
    "from sklearn.cluster import AgglomerativeClustering\n",
    "\n",
    "clustering = AgglomerativeClustering().fit(X)\n",
    "clustering.labels_\n"
   ]
  },
  {
   "cell_type": "code",
   "execution_count": null,
   "metadata": {},
   "outputs": [],
   "source": []
  }
 ],
 "metadata": {
  "kernelspec": {
   "display_name": "Python 3",
   "language": "python",
   "name": "python3"
  },
  "language_info": {
   "codemirror_mode": {
    "name": "ipython",
    "version": 3
   },
   "file_extension": ".py",
   "mimetype": "text/x-python",
   "name": "python",
   "nbconvert_exporter": "python",
   "pygments_lexer": "ipython3",
   "version": "3.6.4"
  }
 },
 "nbformat": 4,
 "nbformat_minor": 2
}
