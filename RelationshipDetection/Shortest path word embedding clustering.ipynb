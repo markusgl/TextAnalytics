{
 "cells": [
  {
   "cell_type": "markdown",
   "metadata": {},
   "source": [
    "## Shortest path relation extraction with word embeddings\n",
    "Approach:\n",
    "1. Search for Named Entities of type PERSON in sentence\n",
    "2. Build undirected graph of the dependecy path\n",
    "3. Search shortest path between each entity tuple\n",
    "4. Store words appearing on shortest path\n",
    "5. Get word embedding representation for each word on the shortest path (SP vectors)\n",
    "6. Sum SP vectors to a single vector\n",
    "7. Cluster vectors using hierarchical agglomerative clustering (HAC)"
   ]
  },
  {
   "cell_type": "code",
   "execution_count": 1,
   "metadata": {},
   "outputs": [
    {
     "name": "stderr",
     "output_type": "stream",
     "text": [
      "c:\\program files\\python\\lib\\site-packages\\gensim\\utils.py:1197: UserWarning: detected Windows; aliasing chunkize to chunkize_serial\n",
      "  warnings.warn(\"detected Windows; aliasing chunkize to chunkize_serial\")\n"
     ]
    }
   ],
   "source": [
    "import enum\n",
    "import networkx as nx\n",
    "import spacy\n",
    "import matplotlib.pyplot as plt\n",
    "import logging\n",
    "import pandas as pd\n",
    "import numpy as np\n",
    "import re\n",
    "\n",
    "from networkx.exception import NodeNotFound, NetworkXNoPath\n",
    "from gensim.models import KeyedVectors\n",
    "from nltk.tokenize import sent_tokenize, word_tokenize\n",
    "from nltk.corpus import stopwords"
   ]
  },
  {
   "cell_type": "markdown",
   "metadata": {},
   "source": [
    "## Evaluation text"
   ]
  },
  {
   "cell_type": "markdown",
   "metadata": {},
   "source": [
    "### 1. Self-created data"
   ]
  },
  {
   "cell_type": "markdown",
   "metadata": {},
   "source": [
    "#### (DE)"
   ]
  },
  {
   "cell_type": "code",
   "execution_count": 23,
   "metadata": {},
   "outputs": [],
   "source": [
    "lang = 'DE'\n",
    "utterance1 = u'''Herbert ist der Vater von Hans'''\n",
    "utterance2 = u'''Peter und Maria gehen morgen ins Kino'''\n",
    "utterance3 = u'''Herbert sein Sohn und ich gehen heute ins Kino'''\n",
    "utterance4 = u'''Ich gehe mit Johann in den Zoo'''\n",
    "utterance5 = u'''Hans und sein Sohn Hubert gehen in den Zoo.'''\n",
    "utterance6 = u'''Hans, welcher der Sohn von Hubert ist, geht mit Peter ins Kino.'''\n",
    "utterance7 = u'''Meine kleine Enkelin Lisa und mein Enkel Lukas fliegen morgen nach London.'''\n",
    "utterance8 = u'''Ich fahre mit meinen Enkeln Lukas und Lisa in den Urlaub.'''\n",
    "utterance9 = u'''Potesters seized several pumping stations, holding 127 Shell workers hostage.'''\n",
    "utterance10 = u'''Troops recently have raided churches, warning ministers to stop preaching.'''\n",
    "multi_utterances = u'''Homer und sein Sohn Peter gehen mit Milhouse ins Kino. Ich gehe mit Bart laufen.\n",
    "Meine Enkelin Lisa und mein Enkel Peter fliegen morgen nach London. Ned Flanders ist der Vater von Rod und Todd. \n",
    "Homer fährt mit seiner Tochter Lisa zum See. Homer fährt mit seiner Tochter Lisa zum See. Ich habe 3 Geschwister. \n",
    "Ich habe einen Bruder.'''\n",
    "\n",
    "text = multi_utterances"
   ]
  },
  {
   "cell_type": "markdown",
   "metadata": {},
   "source": [
    "#### (EN)"
   ]
  },
  {
   "cell_type": "code",
   "execution_count": 80,
   "metadata": {},
   "outputs": [],
   "source": [
    "lang = 'EN'\n",
    "utterance1 = u'''my boyfriend and i are moving into an apartment together next week. i've a children and a dogs.\n",
    "                my sister Lindsey lives in New York. She works as a journalist. \n",
    "                i love going to the park with my three children and my wife.'''\n",
    "utterance2 = u'''My sister Lindsey lives in New York.'''\n",
    "utterance3 = u'''my father is an electrician. my father is a farmer.'''\n",
    "utterance4 = u'''my boyfriend and i are moving into an apartment together next week.'''\n",
    "utterance5 = u'''i've a children and a dogs.'''\n",
    "utterance6 = u'''Hi! You're Homer's sister-in-law, right? I remember you, but I don't remember you being so beau'''\n",
    "utterance7 = u'''Barack Obama is married to Michele Obama.'''\n",
    "utterance8 = u'''I have two children. My daughter lives in Berlin, my son is studying in Munich.'''\n",
    "utterance9 = u'''Peter is the fater of Tom.'''\n",
    "utterance10 = u'''Peter, Tom's father, will pick us up today.'''\n",
    "utterance11 = u'''My daughter Lisa is moving to London next month.'''\n",
    "\n",
    "text = utterance11"
   ]
  },
  {
   "cell_type": "markdown",
   "metadata": {},
   "source": [
    "### 2. Conversation Data from ConvAI coropus (EN)"
   ]
  },
  {
   "cell_type": "markdown",
   "metadata": {},
   "source": [
    "#### First have a look at the data set and create a dataframe"
   ]
  },
  {
   "cell_type": "code",
   "execution_count": 2,
   "metadata": {},
   "outputs": [
    {
     "ename": "KeyError",
     "evalue": "'sender_class'",
     "output_type": "error",
     "traceback": [
      "\u001b[1;31m---------------------------------------------------------------------------\u001b[0m",
      "\u001b[1;31mKeyError\u001b[0m                                  Traceback (most recent call last)",
      "\u001b[1;32m<ipython-input-2-abefd2946da3>\u001b[0m in \u001b[0;36m<module>\u001b[1;34m()\u001b[0m\n\u001b[0;32m     10\u001b[0m \u001b[1;32mfor\u001b[0m \u001b[0mrow\u001b[0m \u001b[1;32min\u001b[0m \u001b[0mdata\u001b[0m\u001b[1;33m:\u001b[0m\u001b[1;33m\u001b[0m\u001b[0m\n\u001b[0;32m     11\u001b[0m     \u001b[1;32mfor\u001b[0m \u001b[0mdialog\u001b[0m \u001b[1;32min\u001b[0m \u001b[0mrow\u001b[0m\u001b[1;33m[\u001b[0m\u001b[1;34m'dialog'\u001b[0m\u001b[1;33m]\u001b[0m\u001b[1;33m:\u001b[0m\u001b[1;33m\u001b[0m\u001b[0m\n\u001b[1;32m---> 12\u001b[1;33m         \u001b[0msender\u001b[0m \u001b[1;33m=\u001b[0m \u001b[0mdialog\u001b[0m\u001b[1;33m[\u001b[0m\u001b[1;34m'sender_class'\u001b[0m\u001b[1;33m]\u001b[0m\u001b[1;33m\u001b[0m\u001b[0m\n\u001b[0m\u001b[0;32m     13\u001b[0m         \u001b[0mtext\u001b[0m \u001b[1;33m=\u001b[0m \u001b[0mdialog\u001b[0m\u001b[1;33m[\u001b[0m\u001b[1;34m'text'\u001b[0m\u001b[1;33m]\u001b[0m\u001b[1;33m\u001b[0m\u001b[0m\n\u001b[0;32m     14\u001b[0m \u001b[1;33m\u001b[0m\u001b[0m\n",
      "\u001b[1;31mKeyError\u001b[0m: 'sender_class'"
     ]
    }
   ],
   "source": [
    "import json\n",
    "from pprint import pprint\n",
    "\n",
    "with open('data/convai/export_2018-07-04_train.json', 'r') as f:\n",
    "    data = json.load(f)\n",
    "\n",
    "df_columns = ['sender', 'text']\n",
    "df = pd.DataFrame(columns=df_columns)\n",
    "\n",
    "for row in data:\n",
    "    for dialog in row['dialog']:\n",
    "        sender = dialog['sender_class']\n",
    "        text = dialog['text']\n",
    "\n",
    "        data = {'sender': sender, 'text': text}\n",
    "        df = df.append(data, ignore_index=True)\n",
    "\n",
    "df[:50]"
   ]
  },
  {
   "cell_type": "markdown",
   "metadata": {},
   "source": [
    "#### Extract human dialogs and store to text file"
   ]
  },
  {
   "cell_type": "code",
   "execution_count": 11,
   "metadata": {
    "scrolled": false
   },
   "outputs": [],
   "source": [
    "lang = 'EN'\n",
    "\n",
    "human_conv = df.loc[df['sender'] == 'Human']\n",
    "\n",
    "corpus = ''\n",
    "for row in human_conv['text']:\n",
    "    corpus += row.replace('\\n', '') + ' '\n",
    "  \n",
    "text = corpus[:5000]"
   ]
  },
  {
   "cell_type": "markdown",
   "metadata": {},
   "source": [
    "### 3. Simpsons conversations (EN)"
   ]
  },
  {
   "cell_type": "code",
   "execution_count": 69,
   "metadata": {},
   "outputs": [],
   "source": [
    "lang = 'EN'\n",
    "with open('data/simpsons_conversations.txt', 'r', encoding='utf-8') as f:\n",
    "    data = f.read()\n",
    "    data = data.replace('\\n', ' ')\n",
    "    \n",
    "corpus = data[5000:10000]   "
   ]
  },
  {
   "cell_type": "markdown",
   "metadata": {},
   "source": [
    "### 4. Book of Genesis (EN)"
   ]
  },
  {
   "cell_type": "code",
   "execution_count": 18,
   "metadata": {},
   "outputs": [],
   "source": [
    "lang = 'EN'\n",
    "with open('data/NETBible_Genesis.txt', 'r', encoding='utf-8') as f:\n",
    "    data = f.read()\n",
    "    \n",
    "corpus = data[:1000]"
   ]
  },
  {
   "cell_type": "markdown",
   "metadata": {},
   "source": [
    "### 5. Robinson Crusoe (DE)"
   ]
  },
  {
   "cell_type": "code",
   "execution_count": 45,
   "metadata": {},
   "outputs": [
    {
     "data": {
      "text/plain": [
       "'Was für andere Gründe, sagte er, als die bloße Vorliebe für ein unstetes Leben, können dich bewegen, Vaterhaus und Heimat verlassen zu wollen, wo du dein gutes Unterkommen hast und bei Fleiß und Ausdauer in ruhigem und behaglichem Leben dein Glück machen kannst.\\nSie ist weder dem Elend und der Mühsal der nur von Händearbeit lebenden Menschenklasse ausgesetzt, noch wird sie von dem Hochmuth, der Ueppigkeit, dem Ehrgeiz und dem Neid, die in den höheren Sphären der Menschenwelt zu Hause sind, heimgesucht. Am besten, fügte er hinzu, kannst du die Glückseligkeit des Mittelstandes daraus erkennen, daß er von Allen, die ihm nicht angehören, beneidet wird.\\nAuch der Weise bezeugt, daß jener Stand der des wahren Glückes ist, indem er betet: Armuth und Reichthum gib mir nicht.\\nHabe nur darauf Acht, fuhr mein Vater fort, so wirst du finden, daß das Elend der Menschheit zumeist an die höheren und niederen Schichten der Gesellschaft vertheilt ist.\\nDieser Weg führt vielmehr in gelassener Behaglichkei'"
      ]
     },
     "execution_count": 45,
     "metadata": {},
     "output_type": "execute_result"
    }
   ],
   "source": [
    "lang = 'DE'\n",
    "with open('data/Robinson_Crusoe_conversations.txt', 'r', encoding='utf-8') as f:\n",
    "    data = f.read()\n",
    "    \n",
    "corpus = data[:1000]\n",
    "corpus"
   ]
  },
  {
   "cell_type": "markdown",
   "metadata": {},
   "source": [
    "### 6. Winnetou Band 1 (DE)"
   ]
  },
  {
   "cell_type": "code",
   "execution_count": 65,
   "metadata": {
    "scrolled": true
   },
   "outputs": [
    {
     "data": {
      "text/plain": [
       "'\\ufeffDiese Zurückhaltung schien ihm aber keineswegs lieb zu sein; ich erinnere mich noch heut des zornigen Gesichtes, welches er mir eines Abends, als ich zu ihm kam, zeigte, und des Tones, in welchem er mich empfing, ohne auf mein ›good evening‹ zu antworten: Wo habt Ihr denn gestern gesteckt, Sir? Zu Hause. Und vorgestern? Auch zu Hause. Macht mir doch nichts weis! Es ist wahr, Mr. Henry. Pshaw!\\nSolche grüne Vögel, wie Ihr einer seid, bleiben nicht im Neste hocken; die stecken die Schnäbel überall hin, nur da nicht, wo sie hingehören! Und wo gehöre ich hin, wenn es Euch beliebt, es mir zu sagen? Hierher zu mir, verstanden!\\nHabe Euch schon lange einmal nach etwas fragen wollen. Warum habt Ihr es nicht getan? Weil ich nicht wollte.\\nHört Ihr es? Und wann wollt Ihr denn? Heute vielleicht. So fragt getrost nur zu, forderte ich ihn auf, indem ich mich hoch auf die Schraubenbank setzte, an welcher er arbeitete.\\nAls ob ich so ein Greenhorn, wie Ihr seid, erst um Erlaubnis fragen müßte, wenn ich mit ihm reden will! Greenhorn? antwortete ich, die Stirn in Falten ziehend, denn ich fühlte mich bedeutend verletzt.\\nIch will annehmen, Mr. Henry, daß dieses Wort Euch ohne Absicht und nur so herausgefahren ist! Bildet Euch doch nichts ein, Sir!\\nIhr könnt ja nicht einmal schießen! Er sagte dies in einem außerordentlich verächtlichen Tone und mit einer solchen Bestimmtheit, als ob er seiner Sache förmlich sicher sei.\\nHm! antwortete ich lächelnd.\\nIst dies vielleicht die Frage, welche Ihr mir vorlegen wolltet? Ja, die ist es.\\nNun antwortet doch einmal! Gebt mir ein gutes Gewehr in die Hand, so will ich antworten, eher nicht. Da legte er den Büchsenlauf, an welchem er schraubte, weg, stand auf, trat nahe an mich heran, fixierte mich mit verwunderten Augen und rief aus: Ein Gewehr in die Hand, Sir?\\nMeine Gewehre kommen nur in solche Hände, in denen ich mit ihnen Ehre einlegen kann! Solche hab ich, nickte ich ihm zu.\\nKönnte mich wirklich wild machen mit seiner Dreistigkeit! Ich ließ ihn gewähren, denn ich kannte ihn, zog eine Zigarre hervor und brannte sie an.\\nHabt Ihr denn jemals ein Gewehr in der Hand gehabt? Ich denke. Wann? Schon längst und oft. Auch angelegt und abgedrückt? Ja. Und getroffen? Natürlich! Da ließ er den Lauf, den er geprüft hatte, rasch sinken, sah mich wieder an und meinte: Ja, getroffen, natürlich, aber was? Das Ziel, ganz selbstverständlich. Was?\\nWollt Ihr mir das im Ernste aufbinden? Behaupten, aber nicht aufbinden; es ist wahr. Hol Euch der Teufel, Sir!\\nEs ist ein Bärentöter, der beste, den ich jemals in den Händen gehabt habe. Ich ging hin, langte die Büchse herab und legte sie an.\\nHalloo! rief er aus, indem er aufsprang.\\nBesitzt Ihr denn eine solche Körperkraft? Anstatt der Antwort nahm ich ihn unten bei der zugeknöpften Jacke und bei dem Hosenbund und hob ihn mit dem rechten Arm empor.\\nThunder-storm! schrie er auf.\\nIhr seid ja noch weit kräftiger als mein Bill. Euer Bill?\\nWer ist das? Er war mein Sohn, der lassen wir das!\\nIhr seid ihm ähnlich von Gestalt, habt beinahe dieselben Augen und auch denselben Zug um den Mund; darum bin ich Euch na, das geht Euch ja doch nichts an! Der Ausdruck tiefer Trauer hatte sich über sein Gesicht gebreitet; er fuhr mit der Hand über dasselbe und fuhr dann in munterem Tone fort: Aber, Sir, bei Eurer Muskelkraft ist es wirklich jammerschade, daß Ihr Euch so auf die Bücher geworfen habt.\\nHättet Euch körperlich üben sollen! Habe ich auch. Wirklich? Ja. Boxen? Wird drüben bei uns nicht getrieben.\\nAber im Turnen und Ringen mache ich mit. Reiten? Ja. Fechten? Habe ich Unterricht erteilt. Mann, schneidet nicht auf! Wollt Ihr es versuchen? Danke; habe genug von vorhin!\\nSetzt Euch wieder nieder! Er kehrte zu seiner Schraubenbank zurück, und ich tat dasselbe.\\nPlötzlich sah er von der Arbeit auf und fragte: Habt Ihr Mathematik getrieben? War eine meiner Lieblingswissenschaften. Arithmetik, Geometrie? Natürlich. Feldmesserei? Sogar außerordentlich gern.\\nBin sehr oft, ohne daß ich es notwendig hatte, mit dem Theodolit draußen herumgelaufen. Und könnt messen, wirklich messen? Ja.\\nIch habe mich sowohl an Horizontal-, als auch an Höhenmessungen oft beteiligt, obgleich ich nicht behaupten will, daß ich mich als ausgelernten Geodäten betrachte. Well sehr gut, sehr gut! Warum fragt Ihr danach, Mr. Henry? Weil ich eine Ursache dazu habe.\\nMuß vorher wissen hm, ja, muß vorher wissen, ob Ihr schießen könnt. So stellt mich auf die Probe! Werde es auch tun; ja, werde es tun; darauf könnt Ihr Euch verlassen.\\nWann beginnt Ihr morgen früh den Unterricht? Um acht Uhr. So kommt um sechs zu mir.\\nWollen hinauf auf den Schießstand gehen, wo ich meine Gewehre einschieße. Warum so früh? Weil ich nicht länger warten will.\\nJetzt genug davon, habe Anderes zu tun, was weit, weit wichtiger ist. Er schien mit dem Gewehrlaufe fertig zu sein und nahm aus einem Kasten ein polygones Eisenstück, dessen Ecken er abzufeilen begann.\\nIch war neugierig, zu erfahren, warum; darum fragte ich ihn: Soll das auch ein Gewehrteil '"
      ]
     },
     "execution_count": 65,
     "metadata": {},
     "output_type": "execute_result"
    }
   ],
   "source": [
    "lang = 'DE'\n",
    "with open('data/Winnetou_Band1_conversations.txt', 'r', encoding='utf-8') as f:\n",
    "    data = f.read()\n",
    "    \n",
    "corpus = data[:5000]\n",
    "corpus"
   ]
  },
  {
   "cell_type": "markdown",
   "metadata": {},
   "source": [
    "## Set language settings"
   ]
  },
  {
   "cell_type": "code",
   "execution_count": 47,
   "metadata": {},
   "outputs": [],
   "source": [
    "if lang == 'DE':\n",
    "    nlp = spacy.load('de') # for various nlp tasks (pos, ner, dep-path etc.)\n",
    "    flair_ner_tagger_lang = 'de-ner'\n",
    "    stop_words = set(stopwords.words('german'))\n",
    "    stemmer_lang = 'german'\n",
    "    \n",
    "    relationship_list = ['vater', 'mutter', 'papa', 'papi', 'mama', 'mami', 'sohn', 'tochter', 'bruder', 'schwester', \n",
    "                         'enkel', 'enkelin', 'nichte', 'neffe', 'großvater', 'großmutter', 'opa', 'opa', \n",
    "                         'onkel', 'tante', 'cousin', 'cousine', 'schwager', 'schwägerin', 'mann', 'frau', 'ehemann', 'ehefrau']\n",
    "    me_list = ['ich', 'mein', 'meine']\n",
    "    \n",
    "    grammar = r\"\"\"\n",
    "            PP: {<PRON><AUX><DET><ADJ>?<NOUN>}\n",
    "            NP: {<DET><ADJ>?<NOUN><PROPN>*}            \n",
    "            REL: {<PP>|<NP>}\"\"\"\n",
    "    \n",
    "elif lang == 'EN':\n",
    "    nlp = spacy.load('en')\n",
    "    flair_ner_tagger_lang = 'ner'\n",
    "    stop_words = set(stopwords.words('english'))\n",
    "    stemmer_lang = 'english'\n",
    "    \n",
    "    relationship_list = ['father', 'mother', 'dad', 'daddy', 'mom', 'mommy', 'son', 'daughter', 'brother', 'sister', \n",
    "                         'grandchild', 'grandson', 'granddaughter', 'grandfather', 'grandmother', \n",
    "                         'grampa', 'grandpa', 'grandma', 'niece', 'nephew', 'uncle', 'aunt', 'cousin'\n",
    "                        'brother-in-law', 'sister-in-law', 'husband', 'wife']\n",
    "    me_list = ['i', 'my']\n",
    "    \n",
    "    grammar = r\"\"\"\n",
    "                PP: {<PRON><VERB><DET><ADJ>?<NOUN>}\n",
    "                NP: {<DET><ADJ>?<NOUN><PROPN>*}            \n",
    "                REL: {<PP>|<NP>}\"\"\""
   ]
  },
  {
   "cell_type": "markdown",
   "metadata": {},
   "source": [
    "## Named Entity Recognition\n",
    "choose one of the two below (default=Flair)"
   ]
  },
  {
   "cell_type": "markdown",
   "metadata": {},
   "source": [
    "### 1. spaCy NER"
   ]
  },
  {
   "cell_type": "code",
   "execution_count": 48,
   "metadata": {},
   "outputs": [],
   "source": [
    "doc = nlp(text)"
   ]
  },
  {
   "cell_type": "code",
   "execution_count": 74,
   "metadata": {
    "scrolled": true
   },
   "outputs": [],
   "source": [
    "entities = []\n",
    "for ent in doc.ents:\n",
    "    if ent.label_ == 'PER':\n",
    "        entities.append(ent.text.lower())\n",
    "\n",
    "for token in doc:\n",
    "    if token.text.lower() in me_list:\n",
    "        entities.append(token.text.lower())\n"
   ]
  },
  {
   "cell_type": "markdown",
   "metadata": {},
   "source": [
    "### 2. Flair NER"
   ]
  },
  {
   "cell_type": "code",
   "execution_count": 67,
   "metadata": {},
   "outputs": [],
   "source": [
    "import nltk\n",
    "from flair.data import Sentence\n",
    "from flair.models import SequenceTagger\n",
    "from nltk.stem.wordnet import WordNetLemmatizer\n",
    "\n",
    "#nltk.download('wordnet')\n",
    "#lemmatizer = WordNetLemmatizer()\n",
    "\n",
    "# PER-PER entities\n",
    "def extract_per_to_per_entities(raw_sentence):\n",
    "    entities = []\n",
    "    \n",
    "    clean_sentence = re.sub('\\W+', ' ', raw_sentence) # remove non-word characters\n",
    "    sentence = Sentence(clean_sentence)\n",
    "    tagger = SequenceTagger.load(flair_ner_tagger_lang)\n",
    "    tagger.predict(sentence) # run NER over sentence\n",
    "    \n",
    "    # NER spans\n",
    "    for entity in sentence.get_spans('ner'):\n",
    "        print('Extracting entities...')\n",
    "        print(f'Entity: {entity}')\n",
    "\n",
    "        if entity.tag == 'PER':\n",
    "            if len(entity.tokens) > 1:  # if it is a multi word entity, replace blanks with underscores \n",
    "                entities.append(str(entity.text.lower()).replace(' ', '_'))\n",
    "            else:\n",
    "                entities.append(entity.text.lower())\n",
    "    \n",
    "    # check for personal pronoun in sentence\n",
    "    for token in sentence:\n",
    "        lemmatized_entity = lemmatizer.lemmatize(token.text.lower())\n",
    "        \n",
    "        if token.text.lower() in me_list:\n",
    "            entities.append(token.text.lower())\n",
    "                \n",
    "    # check for me or relationship\n",
    "    # Lemmatization\n",
    "    #if len(entities) == 0:\n",
    "    #    for token in sentence:\n",
    "    #        lemmatized_entity = lemmatizer.lemmatize(token.text.lower())\n",
    "\n",
    "    #        if token.text.lower() in me_list or lemmatized_entity in relationship_list:\n",
    "    #            entities.append(token.text.lower())\n",
    "\n",
    "    # NER tag for each token\n",
    "    #for token in sentence:\n",
    "    #    ner_tag = token.get_tag('ner')\n",
    "    #    print(f'{token}, {ner_tag}')\n",
    "\n",
    "    return entities"
   ]
  },
  {
   "cell_type": "markdown",
   "metadata": {},
   "source": [
    "## Build undirected graph"
   ]
  },
  {
   "cell_type": "code",
   "execution_count": 60,
   "metadata": {},
   "outputs": [],
   "source": [
    "def build_undirected_graph(sentence, plot=False):\n",
    "    doc = nlp(sentence)\n",
    "    edges = []\n",
    "    for token in doc:\n",
    "        for child in token.children:\n",
    "            edges.append((f'{token.lower_}',\n",
    "                          f'{child.lower_}'))\n",
    "    graph = nx.Graph(edges)\n",
    "    if plot:\n",
    "        plot_graph(graph)\n",
    "        \n",
    "    return graph"
   ]
  },
  {
   "cell_type": "code",
   "execution_count": 61,
   "metadata": {},
   "outputs": [],
   "source": [
    "def plot_graph(graph):\n",
    "    # nx.draw_networkx(graph, node_size=100, ode_color=range(len(graph)))\n",
    "    pos = nx.spring_layout(graph)  # positions for all nodes\n",
    "    # nodes\n",
    "    nx.draw_networkx_nodes(graph, pos, node_size=200)\n",
    "    # edges\n",
    "    nx.draw_networkx_edges(graph, pos, width=1)\n",
    "    # labels\n",
    "    nx.draw_networkx_labels(graph, pos, font_size=12, font_family='sans-serif')\n",
    "\n",
    "    plt.axis('off')  # disable axis\n",
    "    plt.show()"
   ]
  },
  {
   "cell_type": "markdown",
   "metadata": {},
   "source": [
    "## Shortest Dependency Path\n",
    "Find shortest dependency path between every found two entities in a sentence"
   ]
  },
  {
   "cell_type": "code",
   "execution_count": 76,
   "metadata": {
    "scrolled": true
   },
   "outputs": [],
   "source": [
    "path_dict = {}\n",
    "\n",
    "def search_shortest_dep_path(entities, sentence):\n",
    "    print(f'Searching shortest path between entities: {entities}')\n",
    "    graph = build_undirected_graph(sentence, plot=True)\n",
    "\n",
    "    for i, first_entity in enumerate(entities):\n",
    "        first_entity = first_entity.split('_')[0]  # use only first name of multi-word entities\n",
    "\n",
    "        for j in range(len(entities)):  # bidirectional relations\n",
    "        #for j in range(i+1, len(entities)):  # unidirectional relations\n",
    "            second_entity = entities[j]\n",
    "            second_entity = second_entity.split('_')[0]  # use only first name of multi-word entities\n",
    "            print(first_entity, second_entity)\n",
    "            \n",
    "            if not i == j and second_entity not in me_list:        \n",
    "                try:\n",
    "                    shortest_path = nx.shortest_path(graph, source=first_entity, target=second_entity)\n",
    "                    key = first_entity + '-' + second_entity\n",
    "                    #path_dict[key] = shortest_path  # include entities in sp\n",
    "                    path_dict[key] = shortest_path[1:-1]  # exclude entities in sp\n",
    "                except NodeNotFound as err:\n",
    "                    logging.warning(f'Node not found: {err}')\n",
    "                except NetworkXNoPath as err:\n",
    "                    logging.warning(f'No path found: {err}')\n",
    "    #else:\n",
    "    #    print('No persons found in sentence')\n",
    "    \n",
    "    return path_dict\n"
   ]
  },
  {
   "cell_type": "markdown",
   "metadata": {},
   "source": [
    "### Lexical analysis (based on ReVerb)"
   ]
  },
  {
   "cell_type": "code",
   "execution_count": 71,
   "metadata": {},
   "outputs": [
    {
     "data": {
      "text/plain": [
       "(None, 'daughter')"
      ]
     },
     "execution_count": 71,
     "metadata": {},
     "output_type": "execute_result"
    }
   ],
   "source": [
    "def search_rel_type(sentence):\n",
    "    for token in word_tokenize(sentence):\n",
    "        if token.lower() in relationship_list:\n",
    "            return token.lower()\n",
    "\n",
    "    return None\n",
    "\n",
    "\n",
    "def pos_tag_sentence(sentence):\n",
    "    sentence = re.sub('\\W+', ' ', sentence)\n",
    "    doc = nlp(sentence)\n",
    "\n",
    "    pos_tagged_sentence = []\n",
    "    for token in doc:\n",
    "        pos_tuple = (token.text, token.pos_)\n",
    "        pos_tagged_sentence.append(pos_tuple)\n",
    "\n",
    "    return pos_tagged_sentence\n",
    "\n",
    "\n",
    "def chunk_sentence(pos_tagged_sentence):\n",
    "    cp = nltk.RegexpParser(grammar)\n",
    "    result = cp.parse(pos_tagged_sentence)\n",
    "\n",
    "    return result\n",
    "\n",
    "\n",
    "def extract_rel(sentence):\n",
    "    me = None\n",
    "\n",
    "    relative = search_rel_type(sentence)\n",
    "    if relative:\n",
    "        chunk_tree = chunk_sentence(pos_tag_sentence(sentence))\n",
    "\n",
    "        for i, sub_tree in enumerate(chunk_tree):\n",
    "            if type(sub_tree) is nltk.tree.Tree and sub_tree.label() == 'REL':\n",
    "                me = sub_tree[0][0][0]\n",
    "\n",
    "    return me, relative\n",
    "\n",
    "\n",
    "extract_rel('My daughter lives in Berlin')"
   ]
  },
  {
   "cell_type": "markdown",
   "metadata": {},
   "source": [
    "## Extraction relations\n",
    "* if PER-PER in sentence, use shortest dependency path to extract the features in between\n",
    "* if not PER-PER in senctence, find description of a user related person through lexical analysis"
   ]
  },
  {
   "cell_type": "code",
   "execution_count": 81,
   "metadata": {},
   "outputs": [
    {
     "name": "stdout",
     "output_type": "stream",
     "text": [
      "##> Processing sentence: \"My daughter Lisa is moving to London next month.\"\n",
      "Extracting entities...\n",
      "Entity: PER-span [3]: \"Lisa\"\n",
      "Extracting entities...\n",
      "Entity: LOC-span [7]: \"London\"\n",
      "lemmatized: my\n",
      "lemmatized: daughter\n",
      "lemmatized: lisa\n",
      "lemmatized: is\n",
      "lemmatized: moving\n",
      "lemmatized: to\n",
      "lemmatized: london\n",
      "lemmatized: next\n",
      "lemmatized: month\n",
      "Entities found: ['lisa', 'my']\n",
      "Searching shortest path between entities: ['lisa', 'my']\n"
     ]
    },
    {
     "name": "stderr",
     "output_type": "stream",
     "text": [
      "c:\\program files\\python\\lib\\site-packages\\networkx\\drawing\\nx_pylab.py:611: MatplotlibDeprecationWarning: isinstance(..., numbers.Number)\n",
      "  if cb.is_numlike(alpha):\n"
     ]
    },
    {
     "data": {
      "image/png": "[encoded data removed]",
      "text/plain": [
       "<Figure size 432x288 with 1 Axes>"
      ]
     },
     "metadata": {},
     "output_type": "display_data"
    },
    {
     "name": "stdout",
     "output_type": "stream",
     "text": [
      "lisa lisa\n",
      "lisa my\n",
      "my lisa\n",
      "my my\n",
      "Paths: {'my-lindsey': ['sister'], 'my-lisa': ['daughter']}\n"
     ]
    }
   ],
   "source": [
    "for sentence in sent_tokenize(text):\n",
    "    print(f'##> Processing sentence: \"{sentence}\"')\n",
    "    entities = extract_per_to_per_entities(sentence)\n",
    "    \n",
    "    if entities:\n",
    "        print(f'Entities found: {entities}')\n",
    "        paths = search_shortest_dep_path(entities, sentence)\n",
    "        print(f'Paths: {paths}')\n",
    "    else:\n",
    "        me_rels = extract_rel(sentence)\n",
    "        print(me_rels)\n",
    "            "
   ]
  },
  {
   "cell_type": "markdown",
   "metadata": {},
   "source": [
    "## Feature Extraction"
   ]
  },
  {
   "cell_type": "code",
   "execution_count": 134,
   "metadata": {},
   "outputs": [],
   "source": [
    "feature_columns = ['m1', 'm2', 'm1_pos', 'm2_pos', 'before_m1', 'after_m2', 'between_words', \n",
    "                   'short_path', 'm1_head', 'm2_head']\n",
    "\n",
    "features = pd.DataFrame(columns=feature_columns)"
   ]
  },
  {
   "cell_type": "code",
   "execution_count": 135,
   "metadata": {},
   "outputs": [
    {
     "name": "stdout",
     "output_type": "stream",
     "text": [
      "homer und sein sohn peter gehen mit milhouse ins kino \n",
      "ich gehe mit bart laufen \n",
      "meine enkelin lisa und mein enkel peter fliegen morgen nach london \n",
      "ned flanders ist der vater von rod und todd \n",
      "homer fährt mit seiner tochter lisa zum see \n"
     ]
    }
   ],
   "source": [
    "features_list = []  # for TF-IDF vectorization\n",
    "#ners = []\n",
    "\n",
    "# check for named entity 'PER' or 'PME' in each sentence\n",
    "#for ner_tuple in ner_tuples:\n",
    "#    if 'I-PER' in ner_tuple:\n",
    "#        ners.append(ner_tuple)\n",
    "#    elif ner_tuple[0].lower() in me_list:\n",
    "#        ners.append((ner_tuple[0], 'PME'))\n",
    "#    elif ner_tuple[0].lower() in relationship_list:\n",
    "#        ners.append((ner_tuple[0], 'SOC'))\n",
    "\n",
    "for sentence in sent_tokenize(text):\n",
    "    sentence = re.sub(r'\\W+', ' ', sentence.lower()) # remove non-word characters\n",
    "    print(sentence)\n",
    "    doc = nlp(sentence)\n",
    "    \n",
    "    for key, value in path_dict.items():\n",
    "        # extract entities\n",
    "        m1 = key.split('-')[0]\n",
    "        m2 = key.split('-')[1]\n",
    "\n",
    "        short_path = value\n",
    "\n",
    "        # POS tagging and head\n",
    "        for token in doc:\n",
    "            if token.text.lower() == m1:\n",
    "                m1_pos_tag = token.pos_\n",
    "                m1_head = token.head.text\n",
    "                #m1_children = [child for child in token.children]\n",
    "            elif token.text.lower() == m2:\n",
    "                m2_pos_tag = token.pos_\n",
    "                m2_head = token.head.text\n",
    "                #m2_children = [child for child in token.children]\n",
    "\n",
    "        # Dependecy parsing\n",
    "        #dep_path = []\n",
    "        #for chunk in doc.noun_chunks:\n",
    "        #    if chunk.root.text.lower() == m1 or chunk.root.text.lower() == m2:\n",
    "        #        dep_path.append([chunk.root.text, chunk.root.dep_, chunk.root.head.text])  \n",
    "\n",
    "        # Between words\n",
    "        start_position_m1 = sentence.find(m1)\n",
    "        start_position_m2 = sentence.find(m2)\n",
    "\n",
    "        # verify if the words were found in the sentence\n",
    "        if not start_position_m1 == -1 and not start_position_m2 == -1:\n",
    "            start_position_between = start_position_m1 + len(m1) + 1\n",
    "            end_position_between = start_position_m2\n",
    "\n",
    "            between = sentence[start_position_between:end_position_between]\n",
    "            between_words = []\n",
    "            for word in word_tokenize(between):\n",
    "                between_words.append(word)\n",
    "\n",
    "            beforeM1 = sentence[:start_position_m1 - 1]\n",
    "            afterM2 = sentence[start_position_m2 + len(m2):]\n",
    "\n",
    "            beforeM1_list = word_tokenize(beforeM1)\n",
    "            afterM2_list = word_tokenize(afterM2)\n",
    "\n",
    "            data = {'m1': m1, 'm2': m2, 'm1_pos': m1_pos_tag, 'm2_pos': m2_pos_tag,\n",
    "                    'before_m1': beforeM1_list, 'after_m2': afterM2_list,\n",
    "                    'between_words': between_words, 'short_path': short_path,\n",
    "                     'm1_head': m1_head, 'm2_head': m2_head}\n",
    "\n",
    "            training_example = pd.Series(data, index=feature_columns)\n",
    "            features = features.append(training_example, ignore_index=True)\n",
    "            #context = [beforeM1, between, afterM2]\n",
    "            #features_list.append(context)\n",
    "\n",
    "#features_list"
   ]
  },
  {
   "cell_type": "code",
   "execution_count": 136,
   "metadata": {
    "scrolled": true
   },
   "outputs": [
    {
     "data": {
      "text/html": [
       "<div>\n",
       "<style scoped>\n",
       "    .dataframe tbody tr th:only-of-type {\n",
       "        vertical-align: middle;\n",
       "    }\n",
       "\n",
       "    .dataframe tbody tr th {\n",
       "        vertical-align: top;\n",
       "    }\n",
       "\n",
       "    .dataframe thead th {\n",
       "        text-align: right;\n",
       "    }\n",
       "</style>\n",
       "<table border=\"1\" class=\"dataframe\">\n",
       "  <thead>\n",
       "    <tr style=\"text-align: right;\">\n",
       "      <th></th>\n",
       "      <th>m1</th>\n",
       "      <th>m2</th>\n",
       "      <th>m1_pos</th>\n",
       "      <th>m2_pos</th>\n",
       "      <th>before_m1</th>\n",
       "      <th>after_m2</th>\n",
       "      <th>between_words</th>\n",
       "      <th>short_path</th>\n",
       "      <th>m1_head</th>\n",
       "      <th>m2_head</th>\n",
       "    </tr>\n",
       "  </thead>\n",
       "  <tbody>\n",
       "    <tr>\n",
       "      <th>0</th>\n",
       "      <td>homer</td>\n",
       "      <td>peter</td>\n",
       "      <td>ADJ</td>\n",
       "      <td>ADJ</td>\n",
       "      <td>[homer, und, sein, sohn, peter, gehen, mit, mi...</td>\n",
       "      <td>[gehen, mit, milhouse, ins, kino]</td>\n",
       "      <td>[und, sein, sohn]</td>\n",
       "      <td>[und, sohn]</td>\n",
       "      <td>gehen</td>\n",
       "      <td>gehen</td>\n",
       "    </tr>\n",
       "    <tr>\n",
       "      <th>1</th>\n",
       "      <td>homer</td>\n",
       "      <td>milhouse</td>\n",
       "      <td>ADJ</td>\n",
       "      <td>ADJ</td>\n",
       "      <td>[homer, und, sein, sohn, peter, gehen, mit, mi...</td>\n",
       "      <td>[ins, kino]</td>\n",
       "      <td>[und, sein, sohn, peter, gehen, mit]</td>\n",
       "      <td>[gehen, mit]</td>\n",
       "      <td>gehen</td>\n",
       "      <td>mit</td>\n",
       "    </tr>\n",
       "    <tr>\n",
       "      <th>2</th>\n",
       "      <td>peter</td>\n",
       "      <td>milhouse</td>\n",
       "      <td>ADJ</td>\n",
       "      <td>ADJ</td>\n",
       "      <td>[homer, und, sein, sohn]</td>\n",
       "      <td>[ins, kino]</td>\n",
       "      <td>[gehen, mit]</td>\n",
       "      <td>[sohn, und, homer, gehen, mit]</td>\n",
       "      <td>gehen</td>\n",
       "      <td>mit</td>\n",
       "    </tr>\n",
       "    <tr>\n",
       "      <th>3</th>\n",
       "      <td>lisa</td>\n",
       "      <td>peter</td>\n",
       "      <td>VERB</td>\n",
       "      <td>ADJ</td>\n",
       "      <td>[meine, enkelin]</td>\n",
       "      <td>[fliegen, morgen, nach, london]</td>\n",
       "      <td>[und, mein, enkel]</td>\n",
       "      <td>[und, enkel]</td>\n",
       "      <td>meine</td>\n",
       "      <td>und</td>\n",
       "    </tr>\n",
       "    <tr>\n",
       "      <th>4</th>\n",
       "      <td>ned</td>\n",
       "      <td>rod</td>\n",
       "      <td>X</td>\n",
       "      <td>X</td>\n",
       "      <td>[ned, flanders, ist, der, vater, von, rod, und...</td>\n",
       "      <td>[und, todd]</td>\n",
       "      <td>[flanders, ist, der, vater, von]</td>\n",
       "      <td>[flanders, ist, vater, von]</td>\n",
       "      <td>flanders</td>\n",
       "      <td>von</td>\n",
       "    </tr>\n",
       "    <tr>\n",
       "      <th>5</th>\n",
       "      <td>ned</td>\n",
       "      <td>todd</td>\n",
       "      <td>X</td>\n",
       "      <td>ADJ</td>\n",
       "      <td>[ned, flanders, ist, der, vater, von, rod, und...</td>\n",
       "      <td>[]</td>\n",
       "      <td>[flanders, ist, der, vater, von, rod, und]</td>\n",
       "      <td>[flanders, ist, vater, von, rod, und]</td>\n",
       "      <td>flanders</td>\n",
       "      <td>und</td>\n",
       "    </tr>\n",
       "    <tr>\n",
       "      <th>6</th>\n",
       "      <td>rod</td>\n",
       "      <td>todd</td>\n",
       "      <td>X</td>\n",
       "      <td>ADJ</td>\n",
       "      <td>[ned, flanders, ist, der, vater, von]</td>\n",
       "      <td>[]</td>\n",
       "      <td>[und]</td>\n",
       "      <td>[und]</td>\n",
       "      <td>von</td>\n",
       "      <td>und</td>\n",
       "    </tr>\n",
       "    <tr>\n",
       "      <th>7</th>\n",
       "      <td>homer</td>\n",
       "      <td>lisa</td>\n",
       "      <td>ADV</td>\n",
       "      <td>X</td>\n",
       "      <td>[homer, fährt, mit, seiner, tochter, lisa, zum...</td>\n",
       "      <td>[zum, see]</td>\n",
       "      <td>[fährt, mit, seiner, tochter]</td>\n",
       "      <td>[fährt, mit, tochter]</td>\n",
       "      <td>fährt</td>\n",
       "      <td>mit</td>\n",
       "    </tr>\n",
       "  </tbody>\n",
       "</table>\n",
       "</div>"
      ],
      "text/plain": [
       "      m1        m2 m1_pos m2_pos  \\\n",
       "0  homer     peter    ADJ    ADJ   \n",
       "1  homer  milhouse    ADJ    ADJ   \n",
       "2  peter  milhouse    ADJ    ADJ   \n",
       "3   lisa     peter   VERB    ADJ   \n",
       "4    ned       rod      X      X   \n",
       "5    ned      todd      X    ADJ   \n",
       "6    rod      todd      X    ADJ   \n",
       "7  homer      lisa    ADV      X   \n",
       "\n",
       "                                           before_m1  \\\n",
       "0  [homer, und, sein, sohn, peter, gehen, mit, mi...   \n",
       "1  [homer, und, sein, sohn, peter, gehen, mit, mi...   \n",
       "2                           [homer, und, sein, sohn]   \n",
       "3                                   [meine, enkelin]   \n",
       "4  [ned, flanders, ist, der, vater, von, rod, und...   \n",
       "5  [ned, flanders, ist, der, vater, von, rod, und...   \n",
       "6              [ned, flanders, ist, der, vater, von]   \n",
       "7  [homer, fährt, mit, seiner, tochter, lisa, zum...   \n",
       "\n",
       "                            after_m2  \\\n",
       "0  [gehen, mit, milhouse, ins, kino]   \n",
       "1                        [ins, kino]   \n",
       "2                        [ins, kino]   \n",
       "3    [fliegen, morgen, nach, london]   \n",
       "4                        [und, todd]   \n",
       "5                                 []   \n",
       "6                                 []   \n",
       "7                         [zum, see]   \n",
       "\n",
       "                                between_words  \\\n",
       "0                           [und, sein, sohn]   \n",
       "1        [und, sein, sohn, peter, gehen, mit]   \n",
       "2                                [gehen, mit]   \n",
       "3                          [und, mein, enkel]   \n",
       "4            [flanders, ist, der, vater, von]   \n",
       "5  [flanders, ist, der, vater, von, rod, und]   \n",
       "6                                       [und]   \n",
       "7               [fährt, mit, seiner, tochter]   \n",
       "\n",
       "                              short_path   m1_head m2_head  \n",
       "0                            [und, sohn]     gehen   gehen  \n",
       "1                           [gehen, mit]     gehen     mit  \n",
       "2         [sohn, und, homer, gehen, mit]     gehen     mit  \n",
       "3                           [und, enkel]     meine     und  \n",
       "4            [flanders, ist, vater, von]  flanders     von  \n",
       "5  [flanders, ist, vater, von, rod, und]  flanders     und  \n",
       "6                                  [und]       von     und  \n",
       "7                  [fährt, mit, tochter]     fährt     mit  "
      ]
     },
     "execution_count": 136,
     "metadata": {},
     "output_type": "execute_result"
    }
   ],
   "source": [
    "features"
   ]
  },
  {
   "cell_type": "code",
   "execution_count": 137,
   "metadata": {
    "scrolled": true
   },
   "outputs": [],
   "source": [
    "vector_feature_columns = ['m1', 'm2', 'short_path_vector', 'm1_head', 'm2_head']\n",
    "vector_features = pd.DataFrame(columns=vector_feature_columns)"
   ]
  },
  {
   "cell_type": "markdown",
   "metadata": {},
   "source": [
    "## Word Embeddings of the words inside the shortest path and sum them into a single vector\n",
    "* Two Representations: GermanWordEmbeddings and Flair Word Embeddings\n",
    "Choose one of the two below"
   ]
  },
  {
   "cell_type": "markdown",
   "metadata": {},
   "source": [
    "### 1. GermanWordEmbeddings https://github.com/devmount/GermanWordEmbeddings"
   ]
  },
  {
   "cell_type": "code",
   "execution_count": 42,
   "metadata": {
    "scrolled": false
   },
   "outputs": [
    {
     "name": "stderr",
     "output_type": "stream",
     "text": [
      "c:\\program files\\python\\lib\\site-packages\\ipykernel_launcher.py:3: DeprecationWarning: Call to deprecated `wv` (Attribute will be removed in 4.0.0, use self instead).\n",
      "  This is separate from the ipykernel package so we can avoid doing imports until\n",
      "c:\\program files\\python\\lib\\site-packages\\ipykernel_launcher.py:16: DeprecationWarning: Call to deprecated `wv` (Attribute will be removed in 4.0.0, use self instead).\n",
      "  app.launch_new_instance()\n"
     ]
    },
    {
     "name": "stdout",
     "output_type": "stream",
     "text": [
      "\"word 'homer' not in vocabulary\"\n",
      "\"word 'mit' not in vocabulary\"\n",
      "\"word 'milhouse' not in vocabulary\"\n",
      "\"word 'flanders' not in vocabulary\"\n",
      "\"word 'ist' not in vocabulary\"\n",
      "\"word 'von' not in vocabulary\"\n",
      "\"word 'flanders' not in vocabulary\"\n",
      "\"word 'ist' not in vocabulary\"\n",
      "\"word 'von' not in vocabulary\"\n",
      "\"word 'und' not in vocabulary\"\n",
      "\"word 'todd' not in vocabulary\"\n",
      "\"word 'und' not in vocabulary\"\n",
      "\"word 'todd' not in vocabulary\"\n",
      "\"word 'homer' not in vocabulary\"\n",
      "\"word 'fährt' not in vocabulary\"\n",
      "\"word 'mit' not in vocabulary\"\n",
      "\"word 'tochter' not in vocabulary\"\n",
      "\"word 'lisa' not in vocabulary\"\n"
     ]
    },
    {
     "data": {
      "text/html": [
       "<div>\n",
       "<style scoped>\n",
       "    .dataframe tbody tr th:only-of-type {\n",
       "        vertical-align: middle;\n",
       "    }\n",
       "\n",
       "    .dataframe tbody tr th {\n",
       "        vertical-align: top;\n",
       "    }\n",
       "\n",
       "    .dataframe thead th {\n",
       "        text-align: right;\n",
       "    }\n",
       "</style>\n",
       "<table border=\"1\" class=\"dataframe\">\n",
       "  <thead>\n",
       "    <tr style=\"text-align: right;\">\n",
       "      <th></th>\n",
       "      <th>m1</th>\n",
       "      <th>m2</th>\n",
       "      <th>short_path_vector</th>\n",
       "    </tr>\n",
       "  </thead>\n",
       "  <tbody>\n",
       "    <tr>\n",
       "      <th>0</th>\n",
       "      <td>homer</td>\n",
       "      <td>milhouse</td>\n",
       "      <td>NaN</td>\n",
       "    </tr>\n",
       "    <tr>\n",
       "      <th>1</th>\n",
       "      <td>ned</td>\n",
       "      <td>rod</td>\n",
       "      <td>NaN</td>\n",
       "    </tr>\n",
       "    <tr>\n",
       "      <th>2</th>\n",
       "      <td>ned</td>\n",
       "      <td>todd</td>\n",
       "      <td>NaN</td>\n",
       "    </tr>\n",
       "    <tr>\n",
       "      <th>3</th>\n",
       "      <td>rod</td>\n",
       "      <td>todd</td>\n",
       "      <td>NaN</td>\n",
       "    </tr>\n",
       "    <tr>\n",
       "      <th>4</th>\n",
       "      <td>homer</td>\n",
       "      <td>lisa</td>\n",
       "      <td>NaN</td>\n",
       "    </tr>\n",
       "  </tbody>\n",
       "</table>\n",
       "</div>"
      ],
      "text/plain": [
       "      m1        m2 short_path_vector\n",
       "0  homer  milhouse               NaN\n",
       "1    ned       rod               NaN\n",
       "2    ned      todd               NaN\n",
       "3    rod      todd               NaN\n",
       "4  homer      lisa               NaN"
      ]
     },
     "execution_count": 42,
     "metadata": {},
     "output_type": "execute_result"
    }
   ],
   "source": [
    "ger_model = KeyedVectors.load_word2vec_format('../models/german.model', binary=True)\n",
    "\n",
    "embedding_vectors = []\n",
    "# get vector length\n",
    "vector_len = len(ger_model.wv['hallo'])\n",
    "\n",
    "for row in features.iterrows():\n",
    "    m1 = row[1]['m1']\n",
    "    m2 = row[1]['m2']\n",
    "    short_path = row[1]['short_path']\n",
    "    \n",
    "    # get the word embedding representation for each word in the shortest path\n",
    "    #row_embeddings = np.empty(len(short_path))\n",
    "    row_embeddings = []\n",
    "    \n",
    "    for word in short_path:\n",
    "        try:\n",
    "            row_embeddings.append(ger_model.wv[word])\n",
    "        except KeyError as err:\n",
    "            print(err)\n",
    "            row_embeddings.append(np.zeros(vector_len))\n",
    "    \n",
    "    #print(sum(row_embeddings))\n",
    "    embedding_vectors.append(sum(row_embeddings))\n",
    "    vector_data = {'m1': m1, 'm2': m2, 'short_path_embedding_vector': sum(row_embeddings)}\n",
    "    training_example = pd.Series(vector_data, index=vector_feature_columns)\n",
    "    vector_features = vector_features.append(training_example, ignore_index=True)\n",
    "\n",
    "# summarize vectors    \n",
    "#row_embeddings.sum()\n",
    "vector_features\n"
   ]
  },
  {
   "cell_type": "markdown",
   "metadata": {},
   "source": [
    "### 2. Flair Word Embeddings  https://github.com/zalandoresearch/flair"
   ]
  },
  {
   "cell_type": "code",
   "execution_count": 138,
   "metadata": {},
   "outputs": [],
   "source": [
    "from flair.data import Sentence, Token\n",
    "from flair.embeddings import WordEmbeddings\n",
    "\n",
    "flair_embeddings = {}\n",
    "for sentence in sent_tokenize(text):\n",
    "    sentence = re.sub(r'\\W', ' ', sentence)\n",
    "    sentence = re.sub(r'\\s{2,}', ' ', sentence)    \n",
    "    \n",
    "    sentence = Sentence(sentence.lower())\n",
    "    glove_embedding = WordEmbeddings('de')\n",
    "    #glove_embedding = WordEmbeddings('de-crawl')\n",
    "    glove_embedding.embed(sentence)\n",
    "    \n",
    "    for token in sentence:\n",
    "        flair_embeddings[token.text] = token.embedding\n"
   ]
  },
  {
   "cell_type": "code",
   "execution_count": 140,
   "metadata": {},
   "outputs": [
    {
     "name": "stdout",
     "output_type": "stream",
     "text": [
      "stop word found: und\n",
      "stop word found: mit\n",
      "stop word found: und\n",
      "stop word found: mit\n",
      "stop word found: und\n",
      "stop word found: ist\n",
      "stop word found: von\n",
      "stop word found: ist\n",
      "stop word found: von\n",
      "stop word found: und\n",
      "stop word found: und\n",
      "stop word found: mit\n"
     ]
    },
    {
     "data": {
      "text/plain": [
       "['homer-peter',\n",
       " 'homer-milhouse',\n",
       " 'peter-milhouse',\n",
       " 'lisa-peter',\n",
       " 'ned-rod',\n",
       " 'ned-todd',\n",
       " 'homer-lisa']"
      ]
     },
     "execution_count": 140,
     "metadata": {},
     "output_type": "execute_result"
    }
   ],
   "source": [
    "flair_embedding_vectors = []\n",
    "labels = []\n",
    "for row in features.iterrows():\n",
    "    m1 = row[1]['m1']\n",
    "    m2 = row[1]['m2']\n",
    "    short_path = row[1]['short_path']\n",
    "    m1_head = row[1]['m1_head']\n",
    "    m2_hed = row[1]['m2_head']\n",
    "    \n",
    "    # get the word embedding for each word in the shortest path\n",
    "    row_embeddings = []\n",
    "    \n",
    "    for word in short_path:\n",
    "        if word not in stop_words:  # exclude stop words\n",
    "            try:\n",
    "                #row_embeddings.append(flair_embeddings[word])\n",
    "                # weight embedding higher if it contains a relation\n",
    "                if word.lower() in relationship_list:\n",
    "                    row_embeddings.append(flair_embeddings[word]*1.8)\n",
    "                else:\n",
    "                    row_embeddings.append(flair_embeddings[word])\n",
    "            except KeyError as err:\n",
    "                print(err)\n",
    "                row_embeddings.append(np.zeros(vector_len))\n",
    "        else:\n",
    "            print(f'exclude stop word: {word}')\n",
    "    \n",
    "    # append word embeddings for head words\n",
    "    \"\"\"\n",
    "    if m1_head:\n",
    "        try:\n",
    "            row_embeddings.append(flair_embeddings[m1_head])\n",
    "        except KeyError as err:\n",
    "            print(err)\n",
    "    if m2_head:\n",
    "        try:\n",
    "            row_embeddings.append(flair_embeddings[m2_head])\n",
    "        except KeyError as err:\n",
    "            print(err)\n",
    "    \"\"\"\n",
    "    \n",
    "    if row_embeddings:\n",
    "        flair_embedding_vectors.append(sum(row_embeddings))\n",
    "        labels.append(m1+'-'+m2)\n",
    "        #vector_data = {'m1': m1, 'm2': m2, 'short_path_embedding_vector': sum(row_embeddings)}\n",
    "        #training_example = pd.Series(vector_data, index=vector_feature_columns)\n",
    "        #vector_features = vector_features.append(training_example, ignore_index=True)\n",
    "\n",
    "#vector_features\n",
    "#flair_embedding_vectors\n",
    "labels"
   ]
  },
  {
   "cell_type": "markdown",
   "metadata": {},
   "source": [
    "## Create tuples of the word vector representations for plotting purposes"
   ]
  },
  {
   "cell_type": "code",
   "execution_count": 143,
   "metadata": {
    "scrolled": false
   },
   "outputs": [],
   "source": [
    "tuples = ()\n",
    "for vector in flair_embedding_vectors:\n",
    "    if not tuples:\n",
    "        tuples = (vector, )\n",
    "    else:\n",
    "        tuples = tuples + (vector, )\n"
   ]
  },
  {
   "cell_type": "markdown",
   "metadata": {},
   "source": [
    "## Plot summarized word vectors"
   ]
  },
  {
   "cell_type": "code",
   "execution_count": 144,
   "metadata": {
    "scrolled": false
   },
   "outputs": [
    {
     "ename": "IndexError",
     "evalue": "index 7 is out of bounds for axis 0 with size 7",
     "output_type": "error",
     "traceback": [
      "\u001b[1;31m---------------------------------------------------------------------------\u001b[0m",
      "\u001b[1;31mIndexError\u001b[0m                                Traceback (most recent call last)",
      "\u001b[1;32m<ipython-input-144-cb0f24fc9170>\u001b[0m in \u001b[0;36m<module>\u001b[1;34m()\u001b[0m\n\u001b[0;32m      9\u001b[0m \u001b[0mwords\u001b[0m \u001b[1;33m=\u001b[0m \u001b[0mlist\u001b[0m\u001b[1;33m(\u001b[0m\u001b[0mpath_dict\u001b[0m\u001b[1;33m.\u001b[0m\u001b[0mkeys\u001b[0m\u001b[1;33m(\u001b[0m\u001b[1;33m)\u001b[0m\u001b[1;33m)\u001b[0m\u001b[1;33m\u001b[0m\u001b[0m\n\u001b[0;32m     10\u001b[0m \u001b[1;32mfor\u001b[0m \u001b[0mi\u001b[0m\u001b[1;33m,\u001b[0m \u001b[0mword\u001b[0m \u001b[1;32min\u001b[0m \u001b[0menumerate\u001b[0m\u001b[1;33m(\u001b[0m\u001b[0mwords\u001b[0m\u001b[1;33m)\u001b[0m\u001b[1;33m:\u001b[0m\u001b[1;33m\u001b[0m\u001b[0m\n\u001b[1;32m---> 11\u001b[1;33m     \u001b[0mplt\u001b[0m\u001b[1;33m.\u001b[0m\u001b[0mannotate\u001b[0m\u001b[1;33m(\u001b[0m\u001b[0mword\u001b[0m\u001b[1;33m,\u001b[0m \u001b[0mxy\u001b[0m\u001b[1;33m=\u001b[0m\u001b[1;33m(\u001b[0m\u001b[0mresult\u001b[0m\u001b[1;33m[\u001b[0m\u001b[0mi\u001b[0m\u001b[1;33m,\u001b[0m \u001b[1;36m0\u001b[0m\u001b[1;33m]\u001b[0m\u001b[1;33m,\u001b[0m \u001b[0mresult\u001b[0m\u001b[1;33m[\u001b[0m\u001b[0mi\u001b[0m\u001b[1;33m,\u001b[0m \u001b[1;36m1\u001b[0m\u001b[1;33m]\u001b[0m\u001b[1;33m)\u001b[0m\u001b[1;33m)\u001b[0m\u001b[1;33m\u001b[0m\u001b[0m\n\u001b[0m\u001b[0;32m     12\u001b[0m \u001b[0mplt\u001b[0m\u001b[1;33m.\u001b[0m\u001b[0mshow\u001b[0m\u001b[1;33m(\u001b[0m\u001b[1;33m)\u001b[0m\u001b[1;33m\u001b[0m\u001b[0m\n",
      "\u001b[1;31mIndexError\u001b[0m: index 7 is out of bounds for axis 0 with size 7"
     ]
    },
    {
     "data": {
      "image/png": "[encoded data removed]",
      "text/plain": [
       "<Figure size 432x288 with 1 Axes>"
      ]
     },
     "metadata": {},
     "output_type": "display_data"
    }
   ],
   "source": [
    "from sklearn.decomposition import PCA\n",
    "import matplotlib.pyplot as plt\n",
    "\n",
    "X = np.vstack(tuples)\n",
    "pca = PCA(n_components=2)\n",
    "result = pca.fit_transform(X)\n",
    "\n",
    "plt.scatter(result[:, 0], result[:, 1])\n",
    "words = list(path_dict.keys())\n",
    "for i, word in enumerate(words):\n",
    "    plt.annotate(word, xy=(result[i, 0], result[i, 1]))\n",
    "plt.show()"
   ]
  },
  {
   "cell_type": "markdown",
   "metadata": {},
   "source": [
    "## Create dendrogram for choosing the right number of clusters"
   ]
  },
  {
   "cell_type": "code",
   "execution_count": 130,
   "metadata": {
    "scrolled": false
   },
   "outputs": [
    {
     "ename": "IndexError",
     "evalue": "list index out of range",
     "output_type": "error",
     "traceback": [
      "\u001b[1;31m---------------------------------------------------------------------------\u001b[0m",
      "\u001b[1;31mIndexError\u001b[0m                                Traceback (most recent call last)",
      "\u001b[1;32m<ipython-input-130-423fdc35cb0a>\u001b[0m in \u001b[0;36m<module>\u001b[1;34m()\u001b[0m\n\u001b[0;32m     11\u001b[0m             \u001b[0mlabels\u001b[0m\u001b[1;33m=\u001b[0m\u001b[0mwords\u001b[0m\u001b[1;33m,\u001b[0m\u001b[1;33m\u001b[0m\u001b[0m\n\u001b[0;32m     12\u001b[0m             \u001b[0mdistance_sort\u001b[0m\u001b[1;33m=\u001b[0m\u001b[1;34m'descending'\u001b[0m\u001b[1;33m,\u001b[0m\u001b[1;33m\u001b[0m\u001b[0m\n\u001b[1;32m---> 13\u001b[1;33m             show_leaf_counts=True)\n\u001b[0m\u001b[0;32m     14\u001b[0m \u001b[0mplt\u001b[0m\u001b[1;33m.\u001b[0m\u001b[0mshow\u001b[0m\u001b[1;33m(\u001b[0m\u001b[1;33m)\u001b[0m\u001b[1;33m\u001b[0m\u001b[0m\n",
      "\u001b[1;32mc:\\program files\\python\\lib\\site-packages\\scipy\\cluster\\hierarchy.py\u001b[0m in \u001b[0;36mdendrogram\u001b[1;34m(Z, p, truncate_mode, color_threshold, get_leaves, orientation, labels, count_sort, distance_sort, show_leaf_counts, no_plot, no_labels, leaf_font_size, leaf_rotation, leaf_label_func, show_contracted, link_color_func, ax, above_threshold_color)\u001b[0m\n\u001b[0;32m   2494\u001b[0m         \u001b[0mcontraction_marks\u001b[0m\u001b[1;33m=\u001b[0m\u001b[0mcontraction_marks\u001b[0m\u001b[1;33m,\u001b[0m\u001b[1;33m\u001b[0m\u001b[0m\n\u001b[0;32m   2495\u001b[0m         \u001b[0mlink_color_func\u001b[0m\u001b[1;33m=\u001b[0m\u001b[0mlink_color_func\u001b[0m\u001b[1;33m,\u001b[0m\u001b[1;33m\u001b[0m\u001b[0m\n\u001b[1;32m-> 2496\u001b[1;33m         above_threshold_color=above_threshold_color)\n\u001b[0m\u001b[0;32m   2497\u001b[0m \u001b[1;33m\u001b[0m\u001b[0m\n\u001b[0;32m   2498\u001b[0m     \u001b[1;32mif\u001b[0m \u001b[1;32mnot\u001b[0m \u001b[0mno_plot\u001b[0m\u001b[1;33m:\u001b[0m\u001b[1;33m\u001b[0m\u001b[0m\n",
      "\u001b[1;32mc:\\program files\\python\\lib\\site-packages\\scipy\\cluster\\hierarchy.py\u001b[0m in \u001b[0;36m_dendrogram_calculate_info\u001b[1;34m(Z, p, truncate_mode, color_threshold, get_leaves, orientation, labels, count_sort, distance_sort, show_leaf_counts, i, iv, ivl, n, icoord_list, dcoord_list, lvs, mhr, current_color, color_list, currently_below_threshold, leaf_label_func, level, contraction_marks, link_color_func, above_threshold_color)\u001b[0m\n\u001b[0;32m   2747\u001b[0m             \u001b[0mlevel\u001b[0m\u001b[1;33m=\u001b[0m\u001b[0mlevel\u001b[0m \u001b[1;33m+\u001b[0m \u001b[1;36m1\u001b[0m\u001b[1;33m,\u001b[0m \u001b[0mcontraction_marks\u001b[0m\u001b[1;33m=\u001b[0m\u001b[0mcontraction_marks\u001b[0m\u001b[1;33m,\u001b[0m\u001b[1;33m\u001b[0m\u001b[0m\n\u001b[0;32m   2748\u001b[0m             \u001b[0mlink_color_func\u001b[0m\u001b[1;33m=\u001b[0m\u001b[0mlink_color_func\u001b[0m\u001b[1;33m,\u001b[0m\u001b[1;33m\u001b[0m\u001b[0m\n\u001b[1;32m-> 2749\u001b[1;33m             above_threshold_color=above_threshold_color)\n\u001b[0m\u001b[0;32m   2750\u001b[0m \u001b[1;33m\u001b[0m\u001b[0m\n\u001b[0;32m   2751\u001b[0m     \u001b[0mh\u001b[0m \u001b[1;33m=\u001b[0m \u001b[0mZ\u001b[0m\u001b[1;33m[\u001b[0m\u001b[0mi\u001b[0m \u001b[1;33m-\u001b[0m \u001b[0mn\u001b[0m\u001b[1;33m,\u001b[0m \u001b[1;36m2\u001b[0m\u001b[1;33m]\u001b[0m\u001b[1;33m\u001b[0m\u001b[0m\n",
      "\u001b[1;32mc:\\program files\\python\\lib\\site-packages\\scipy\\cluster\\hierarchy.py\u001b[0m in \u001b[0;36m_dendrogram_calculate_info\u001b[1;34m(Z, p, truncate_mode, color_threshold, get_leaves, orientation, labels, count_sort, distance_sort, show_leaf_counts, i, iv, ivl, n, icoord_list, dcoord_list, lvs, mhr, current_color, color_list, currently_below_threshold, leaf_label_func, level, contraction_marks, link_color_func, above_threshold_color)\u001b[0m\n\u001b[0;32m   2747\u001b[0m             \u001b[0mlevel\u001b[0m\u001b[1;33m=\u001b[0m\u001b[0mlevel\u001b[0m \u001b[1;33m+\u001b[0m \u001b[1;36m1\u001b[0m\u001b[1;33m,\u001b[0m \u001b[0mcontraction_marks\u001b[0m\u001b[1;33m=\u001b[0m\u001b[0mcontraction_marks\u001b[0m\u001b[1;33m,\u001b[0m\u001b[1;33m\u001b[0m\u001b[0m\n\u001b[0;32m   2748\u001b[0m             \u001b[0mlink_color_func\u001b[0m\u001b[1;33m=\u001b[0m\u001b[0mlink_color_func\u001b[0m\u001b[1;33m,\u001b[0m\u001b[1;33m\u001b[0m\u001b[0m\n\u001b[1;32m-> 2749\u001b[1;33m             above_threshold_color=above_threshold_color)\n\u001b[0m\u001b[0;32m   2750\u001b[0m \u001b[1;33m\u001b[0m\u001b[0m\n\u001b[0;32m   2751\u001b[0m     \u001b[0mh\u001b[0m \u001b[1;33m=\u001b[0m \u001b[0mZ\u001b[0m\u001b[1;33m[\u001b[0m\u001b[0mi\u001b[0m \u001b[1;33m-\u001b[0m \u001b[0mn\u001b[0m\u001b[1;33m,\u001b[0m \u001b[1;36m2\u001b[0m\u001b[1;33m]\u001b[0m\u001b[1;33m\u001b[0m\u001b[0m\n",
      "\u001b[1;32mc:\\program files\\python\\lib\\site-packages\\scipy\\cluster\\hierarchy.py\u001b[0m in \u001b[0;36m_dendrogram_calculate_info\u001b[1;34m(Z, p, truncate_mode, color_threshold, get_leaves, orientation, labels, count_sort, distance_sort, show_leaf_counts, i, iv, ivl, n, icoord_list, dcoord_list, lvs, mhr, current_color, color_list, currently_below_threshold, leaf_label_func, level, contraction_marks, link_color_func, above_threshold_color)\u001b[0m\n\u001b[0;32m   2659\u001b[0m     \u001b[1;32mif\u001b[0m \u001b[0mi\u001b[0m \u001b[1;33m<\u001b[0m \u001b[0mn\u001b[0m\u001b[1;33m:\u001b[0m\u001b[1;33m\u001b[0m\u001b[0m\n\u001b[0;32m   2660\u001b[0m         _append_singleton_leaf_node(Z, p, n, level, lvs, ivl,\n\u001b[1;32m-> 2661\u001b[1;33m                                     leaf_label_func, i, labels)\n\u001b[0m\u001b[0;32m   2662\u001b[0m         \u001b[1;32mreturn\u001b[0m \u001b[1;33m(\u001b[0m\u001b[0miv\u001b[0m \u001b[1;33m+\u001b[0m \u001b[1;36m5.0\u001b[0m\u001b[1;33m,\u001b[0m \u001b[1;36m10.0\u001b[0m\u001b[1;33m,\u001b[0m \u001b[1;36m0.0\u001b[0m\u001b[1;33m,\u001b[0m \u001b[1;36m0.0\u001b[0m\u001b[1;33m)\u001b[0m\u001b[1;33m\u001b[0m\u001b[0m\n\u001b[0;32m   2663\u001b[0m \u001b[1;33m\u001b[0m\u001b[0m\n",
      "\u001b[1;32mc:\\program files\\python\\lib\\site-packages\\scipy\\cluster\\hierarchy.py\u001b[0m in \u001b[0;36m_append_singleton_leaf_node\u001b[1;34m(Z, p, n, level, lvs, ivl, leaf_label_func, i, labels)\u001b[0m\n\u001b[0;32m   2529\u001b[0m             \u001b[1;31m# for the leaf nodes, use it.\u001b[0m\u001b[1;33m\u001b[0m\u001b[1;33m\u001b[0m\u001b[0m\n\u001b[0;32m   2530\u001b[0m             \u001b[1;32mif\u001b[0m \u001b[0mlabels\u001b[0m \u001b[1;32mis\u001b[0m \u001b[1;32mnot\u001b[0m \u001b[1;32mNone\u001b[0m\u001b[1;33m:\u001b[0m\u001b[1;33m\u001b[0m\u001b[0m\n\u001b[1;32m-> 2531\u001b[1;33m                 \u001b[0mivl\u001b[0m\u001b[1;33m.\u001b[0m\u001b[0mappend\u001b[0m\u001b[1;33m(\u001b[0m\u001b[0mlabels\u001b[0m\u001b[1;33m[\u001b[0m\u001b[0mint\u001b[0m\u001b[1;33m(\u001b[0m\u001b[0mi\u001b[0m \u001b[1;33m-\u001b[0m \u001b[0mn\u001b[0m\u001b[1;33m)\u001b[0m\u001b[1;33m]\u001b[0m\u001b[1;33m)\u001b[0m\u001b[1;33m\u001b[0m\u001b[0m\n\u001b[0m\u001b[0;32m   2532\u001b[0m             \u001b[1;32melse\u001b[0m\u001b[1;33m:\u001b[0m\u001b[1;33m\u001b[0m\u001b[0m\n\u001b[0;32m   2533\u001b[0m                 \u001b[1;31m# Otherwise, use the id as the label for the leaf.x\u001b[0m\u001b[1;33m\u001b[0m\u001b[1;33m\u001b[0m\u001b[0m\n",
      "\u001b[1;31mIndexError\u001b[0m: list index out of range"
     ]
    },
    {
     "data": {
      "text/plain": [
       "<Figure size 720x504 with 0 Axes>"
      ]
     },
     "metadata": {},
     "output_type": "display_data"
    }
   ],
   "source": [
    "from scipy.cluster.hierarchy import dendrogram, linkage  \n",
    "from matplotlib import pyplot as plt\n",
    "\n",
    "linked = linkage(X, 'single')\n",
    "\n",
    "#labelList = range(1, 11)\n",
    "\n",
    "plt.figure(figsize=(10, 7))  \n",
    "dendrogram(linked,  \n",
    "            orientation='top',\n",
    "            labels=words,\n",
    "            distance_sort='descending',\n",
    "            show_leaf_counts=True)\n",
    "plt.show()  "
   ]
  },
  {
   "cell_type": "markdown",
   "metadata": {},
   "source": [
    "## Define number of clusters depending on the dendogram"
   ]
  },
  {
   "cell_type": "code",
   "execution_count": 95,
   "metadata": {},
   "outputs": [],
   "source": [
    "n = 6"
   ]
  },
  {
   "cell_type": "markdown",
   "metadata": {},
   "source": [
    "## Clustering"
   ]
  },
  {
   "cell_type": "markdown",
   "metadata": {},
   "source": [
    "#### Agglomerative Hierarchical clustering"
   ]
  },
  {
   "cell_type": "code",
   "execution_count": 96,
   "metadata": {},
   "outputs": [
    {
     "data": {
      "text/plain": [
       "array([0, 4, 5, 0, 2, 3, 1], dtype=int64)"
      ]
     },
     "execution_count": 96,
     "metadata": {},
     "output_type": "execute_result"
    }
   ],
   "source": [
    "from sklearn.cluster import AgglomerativeClustering\n",
    "\n",
    "#labels = np.array([0, 1, 2, 3, 4, 5, 6, 7, 8])\n",
    "labels = words\n",
    "agglo_clustering = AgglomerativeClustering(linkage='ward', affinity='euclidean', n_clusters=n)\n",
    "agglo_clustering.fit(X, labels)\n",
    "\n",
    "agglo_clustering.labels_"
   ]
  },
  {
   "cell_type": "code",
   "execution_count": 97,
   "metadata": {
    "scrolled": true
   },
   "outputs": [
    {
     "data": {
      "text/plain": [
       "<matplotlib.collections.PathCollection at 0x1f64cc331d0>"
      ]
     },
     "execution_count": 97,
     "metadata": {},
     "output_type": "execute_result"
    },
    {
     "data": {
      "image/png": "[encoded data removed]",
      "text/plain": [
       "<Figure size 432x288 with 1 Axes>"
      ]
     },
     "metadata": {},
     "output_type": "display_data"
    }
   ],
   "source": [
    "plt.scatter(X[:,0],X[:,1], c=agglo_clustering.labels_, cmap='rainbow')  "
   ]
  },
  {
   "cell_type": "markdown",
   "metadata": {},
   "source": [
    "### Prediction"
   ]
  },
  {
   "cell_type": "code",
   "execution_count": 51,
   "metadata": {
    "scrolled": false
   },
   "outputs": [
    {
     "data": {
      "text/plain": [
       "array([0, 1, 0, 0, 2, 1, 0, 1, 1, 3, 0, 1, 1, 0, 0, 0, 2, 2, 0, 1, 3, 3,\n",
       "       2, 1, 0, 2, 2, 1, 0, 0, 1, 3, 2, 0, 2, 0, 2, 0, 0, 0, 0, 0, 2, 2,\n",
       "       3, 2, 2, 0, 0, 2, 2, 1, 2, 2, 1, 1, 1, 1, 1, 1, 1, 1, 3, 2, 0, 2,\n",
       "       1, 1, 0, 0, 0, 2, 0, 3, 0, 1, 1, 1, 1, 2, 0, 0, 2, 2, 2, 0, 1, 3,\n",
       "       0, 2, 2, 2, 2, 0, 1, 2, 3, 1, 0, 0, 2, 1, 2, 1, 3, 1, 2, 0, 2, 2,\n",
       "       2, 3, 1, 0, 3, 2, 1, 2, 0, 1, 2, 2, 1, 3, 2, 3, 2, 2, 1, 2, 2, 1,\n",
       "       2, 1, 2, 1, 2, 3, 1, 2, 0, 2, 2, 3, 0, 0, 1, 1, 0, 1, 1, 2, 2, 1,\n",
       "       2, 2, 0, 3, 3, 1, 0, 1, 2, 1, 0, 1, 0, 2, 0, 2, 0, 0, 2, 2, 1, 1,\n",
       "       1, 0, 1, 0, 2, 1, 2, 0, 3, 1, 0, 2, 2, 2, 1, 1, 2, 2, 3, 2, 0, 1,\n",
       "       0, 2, 2, 2, 3, 2, 2, 3, 2, 0, 1, 2, 1, 2, 1, 1, 0, 3, 0, 0, 1, 1,\n",
       "       0, 2, 2, 2, 0, 1, 1, 2, 1, 3, 2, 2, 2, 2, 0, 0, 0, 0, 1, 2, 2, 2,\n",
       "       1, 2, 2, 2, 0, 2, 0, 3, 2, 1, 0, 2, 2, 0, 3, 2, 2, 2, 2, 2, 2, 3,\n",
       "       2, 2, 2, 1, 2, 0, 2, 1, 3, 0, 1, 0, 1, 0, 0, 3, 1, 3, 1, 1, 3, 0,\n",
       "       0, 0, 0, 2, 2, 2, 1, 3, 0, 0, 2, 2, 1, 3], dtype=int64)"
      ]
     },
     "execution_count": 51,
     "metadata": {},
     "output_type": "execute_result"
    }
   ],
   "source": [
    "agglo_clustering.fit_predict(np.vstack(tuples[0]))"
   ]
  },
  {
   "cell_type": "code",
   "execution_count": null,
   "metadata": {},
   "outputs": [],
   "source": []
  }
 ],
 "metadata": {
  "kernelspec": {
   "display_name": "Python 3",
   "language": "python",
   "name": "python3"
  },
  "language_info": {
   "codemirror_mode": {
    "name": "ipython",
    "version": 3
   },
   "file_extension": ".py",
   "mimetype": "text/x-python",
   "name": "python",
   "nbconvert_exporter": "python",
   "pygments_lexer": "ipython3",
   "version": "3.6.4"
  }
 },
 "nbformat": 4,
 "nbformat_minor": 2
}
