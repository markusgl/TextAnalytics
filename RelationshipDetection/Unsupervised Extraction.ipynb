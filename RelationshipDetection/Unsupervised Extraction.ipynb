{
 "cells": [
  {
   "cell_type": "markdown",
   "metadata": {},
   "source": [
    "## Approach (based on https://web.stanford.edu/~jurafsky/slp3/ - Jurafsky 2018)\n",
    "1. POS tagging and entity chunking\n",
    "2. For each verb in *s*, find the longest sequence of words *w* that start with a verb and satisfy syntactic and lexical constraints, merging adjacent matches\n",
    "3. For each phrase *w*, find the nearest noun phrase *x* to the left which is not a relative pronoun, wh-word or existential \"there\". Find the nearest noun phrase *y* to the right.\n",
    "4. Assign confidence *c* to the relation *r=(x,w,y)* using confidence classifier and return it.\n",
    "\n",
    "A relation is only accepted if it meets syntactic and lexical contraints."
   ]
  },
  {
   "cell_type": "code",
   "execution_count": 5,
   "metadata": {},
   "outputs": [],
   "source": [
    "import spacy\n",
    "import os\n",
    "import re\n",
    "import nltk\n",
    "\n",
    "from nltk.tokenize import sent_tokenize, word_tokenize\n",
    "\n",
    "# for plotting the dependency tree\n",
    "path_to_gs = \"C:/Program Files/gs/gs9.25/bin\"\n",
    "os.environ['PATH'] += os.pathsep + path_to_gs\n"
   ]
  },
  {
   "cell_type": "markdown",
   "metadata": {},
   "source": [
    "# Choose a language"
   ]
  },
  {
   "cell_type": "code",
   "execution_count": 6,
   "metadata": {},
   "outputs": [],
   "source": [
    "# DE or EN\n",
    "lang = 'DE'"
   ]
  },
  {
   "cell_type": "code",
   "execution_count": 9,
   "metadata": {},
   "outputs": [],
   "source": [
    "if lang == 'DE':\n",
    "    nlp = spacy.load('de')\n",
    "    text = u'''Meine kleine Enkelin Lisa und mein Enkel Lukas fliegen morgen nach London. Sie sind zum ersten Mal in England. \n",
    "            Peter und Maria gehen morgen ins Kino. Ich und mein Sohn gehen heute zum Fußball. \n",
    "            Ich gehe mit Johann in den Zoo.'''\n",
    "elif lang == 'EN':\n",
    "    nlp = spacy.load('en')\n",
    "    text = 'United has a hub in Chicago, which is the headquarter of United Continental Holdings. \\\n",
    "             Tim Cook is the CEO of Apple.\\\n",
    "             Bill Gates is the founder of Microsoft.'\n",
    "    \n",
    "utterance = text"
   ]
  },
  {
   "cell_type": "markdown",
   "metadata": {},
   "source": [
    "## 1. POS Tagging and entity chunking"
   ]
  },
  {
   "cell_type": "code",
   "execution_count": 10,
   "metadata": {},
   "outputs": [
    {
     "data": {
      "text/plain": [
       "['Meine kleine Enkelin Lisa und mein Enkel Lukas fliegen morgen nach London.',\n",
       " 'Sie sind zum ersten Mal in England.',\n",
       " 'Peter und Maria gehen morgen ins Kino.',\n",
       " 'Ich und mein Sohn gehen heute zum Fußball.',\n",
       " 'Ich gehe mit Johann in den Zoo.']"
      ]
     },
     "execution_count": 10,
     "metadata": {},
     "output_type": "execute_result"
    }
   ],
   "source": [
    "sentences = sent_tokenize(utterance)\n",
    "sentences"
   ]
  },
  {
   "cell_type": "code",
   "execution_count": 11,
   "metadata": {
    "scrolled": true
   },
   "outputs": [
    {
     "data": {
      "text/plain": [
       "[[('Meine', 'DET'),\n",
       "  ('kleine', 'ADJ'),\n",
       "  ('Enkelin', 'NOUN'),\n",
       "  ('Lisa', 'PROPN'),\n",
       "  ('und', 'CONJ'),\n",
       "  ('mein', 'DET'),\n",
       "  ('Enkel', 'NOUN'),\n",
       "  ('Lukas', 'PROPN'),\n",
       "  ('fliegen', 'VERB'),\n",
       "  ('morgen', 'ADV'),\n",
       "  ('nach', 'ADP'),\n",
       "  ('London', 'PROPN'),\n",
       "  ('.', 'PUNCT')],\n",
       " [('Sie', 'PRON'),\n",
       "  ('sind', 'AUX'),\n",
       "  ('zum', 'ADP'),\n",
       "  ('ersten', 'ADJ'),\n",
       "  ('Mal', 'NOUN'),\n",
       "  ('in', 'ADP'),\n",
       "  ('England', 'PROPN'),\n",
       "  ('.', 'PUNCT')],\n",
       " [('Peter', 'PROPN'),\n",
       "  ('und', 'CONJ'),\n",
       "  ('Maria', 'PROPN'),\n",
       "  ('gehen', 'VERB'),\n",
       "  ('morgen', 'ADV'),\n",
       "  ('ins', 'ADP'),\n",
       "  ('Kino', 'NOUN'),\n",
       "  ('.', 'PUNCT')],\n",
       " [('Ich', 'PRON'),\n",
       "  ('und', 'CONJ'),\n",
       "  ('mein', 'DET'),\n",
       "  ('Sohn', 'NOUN'),\n",
       "  ('gehen', 'VERB'),\n",
       "  ('heute', 'ADV'),\n",
       "  ('zum', 'ADP'),\n",
       "  ('Fußball', 'NOUN'),\n",
       "  ('.', 'PUNCT')],\n",
       " [('Ich', 'PRON'),\n",
       "  ('gehe', 'VERB'),\n",
       "  ('mit', 'ADP'),\n",
       "  ('Johann', 'PROPN'),\n",
       "  ('in', 'ADP'),\n",
       "  ('den', 'DET'),\n",
       "  ('Zoo', 'NOUN'),\n",
       "  ('.', 'PUNCT')]]"
      ]
     },
     "execution_count": 11,
     "metadata": {},
     "output_type": "execute_result"
    }
   ],
   "source": [
    "pos_tagged_sentences = []\n",
    "\n",
    "for sentence in sentences:\n",
    "    doc = nlp(sentence)\n",
    "    \n",
    "    pos_tagged_sentence = []\n",
    "    for token in doc:\n",
    "        pos_tuple = (token.text, token.pos_)\n",
    "        pos_tagged_sentence.append(pos_tuple)\n",
    "        \n",
    "    pos_tagged_sentences.append(pos_tagged_sentence)\n",
    "    \n",
    "pos_tagged_sentences"
   ]
  },
  {
   "cell_type": "markdown",
   "metadata": {},
   "source": [
    "## 2. Find the longest verb sequence"
   ]
  },
  {
   "cell_type": "code",
   "execution_count": 12,
   "metadata": {},
   "outputs": [],
   "source": [
    "# for spaCy POS Tags\n",
    "# V | VP | VW*P\n",
    "grammar = r\"\"\"NP: {<DT>?<JJ>*<PROPN|NOUN|PRON>}\n",
    "              V: {<VERB>}\n",
    "              W: {<NOUN|ADJ|ADV|PROPN|DET>}\n",
    "              P: {<ADP|PART|PUNCT>}\n",
    "              C: {<CONJ>}\n",
    "              REL: {<V><W>*<P>|<V><P>|<V>|<C>}\n",
    "              \"\"\""
   ]
  },
  {
   "cell_type": "code",
   "execution_count": 13,
   "metadata": {},
   "outputs": [
    {
     "data": {
      "image/png": "[encoded data removed]",
      "text/plain": [
       "Tree('S', [Tree('W', [('Meine', 'DET')]), Tree('W', [('kleine', 'ADJ')]), Tree('NP', [('Enkelin', 'NOUN')]), Tree('NP', [('Lisa', 'PROPN')]), Tree('REL', [Tree('C', [('und', 'CONJ')])]), Tree('W', [('mein', 'DET')]), Tree('NP', [('Enkel', 'NOUN')]), Tree('NP', [('Lukas', 'PROPN')]), Tree('REL', [Tree('V', [('fliegen', 'VERB')]), Tree('W', [('morgen', 'ADV')]), Tree('P', [('nach', 'ADP')])]), Tree('NP', [('London', 'PROPN')]), Tree('P', [('.', 'PUNCT')])])"
      ]
     },
     "execution_count": 13,
     "metadata": {},
     "output_type": "execute_result"
    }
   ],
   "source": [
    "cp = nltk.RegexpParser(grammar)\n",
    "cp.parse(pos_tagged_sentences[0])"
   ]
  },
  {
   "cell_type": "code",
   "execution_count": 14,
   "metadata": {
    "scrolled": true
   },
   "outputs": [
    {
     "data": {
      "image/png": "[encoded data removed]",
      "text/plain": [
       "Tree('S', [Tree('NP', [('Sie', 'PRON')]), ('sind', 'AUX'), Tree('P', [('zum', 'ADP')]), Tree('W', [('ersten', 'ADJ')]), Tree('NP', [('Mal', 'NOUN')]), Tree('P', [('in', 'ADP')]), Tree('NP', [('England', 'PROPN')]), Tree('P', [('.', 'PUNCT')])])"
      ]
     },
     "execution_count": 14,
     "metadata": {},
     "output_type": "execute_result"
    }
   ],
   "source": [
    "cp = nltk.RegexpParser(grammar)\n",
    "cp.parse(pos_tagged_sentences[1])"
   ]
  },
  {
   "cell_type": "code",
   "execution_count": 15,
   "metadata": {},
   "outputs": [
    {
     "data": {
      "image/png": "[encoded data removed]",
      "text/plain": [
       "Tree('S', [Tree('NP', [('Peter', 'PROPN')]), Tree('REL', [Tree('C', [('und', 'CONJ')])]), Tree('NP', [('Maria', 'PROPN')]), Tree('REL', [Tree('V', [('gehen', 'VERB')]), Tree('W', [('morgen', 'ADV')]), Tree('P', [('ins', 'ADP')])]), Tree('NP', [('Kino', 'NOUN')]), Tree('P', [('.', 'PUNCT')])])"
      ]
     },
     "execution_count": 15,
     "metadata": {},
     "output_type": "execute_result"
    }
   ],
   "source": [
    "cp = nltk.RegexpParser(grammar)\n",
    "cp.parse(pos_tagged_sentences[2])"
   ]
  },
  {
   "cell_type": "code",
   "execution_count": 16,
   "metadata": {},
   "outputs": [
    {
     "data": {
      "image/png": "[encoded data removed]",
      "text/plain": [
       "Tree('S', [Tree('NP', [('Ich', 'PRON')]), Tree('REL', [Tree('C', [('und', 'CONJ')])]), Tree('W', [('mein', 'DET')]), Tree('NP', [('Sohn', 'NOUN')]), Tree('REL', [Tree('V', [('gehen', 'VERB')]), Tree('W', [('heute', 'ADV')]), Tree('P', [('zum', 'ADP')])]), Tree('NP', [('Fußball', 'NOUN')]), Tree('P', [('.', 'PUNCT')])])"
      ]
     },
     "execution_count": 16,
     "metadata": {},
     "output_type": "execute_result"
    }
   ],
   "source": [
    "cp = nltk.RegexpParser(grammar)\n",
    "cp.parse(pos_tagged_sentences[3])"
   ]
  },
  {
   "cell_type": "code",
   "execution_count": 17,
   "metadata": {},
   "outputs": [
    {
     "data": {
      "image/png": "[encoded data removed]",
      "text/plain": [
       "Tree('S', [Tree('NP', [('Ich', 'PRON')]), Tree('REL', [Tree('V', [('gehe', 'VERB')]), Tree('P', [('mit', 'ADP')])]), Tree('NP', [('Johann', 'PROPN')]), Tree('P', [('in', 'ADP')]), Tree('W', [('den', 'DET')]), Tree('NP', [('Zoo', 'NOUN')]), Tree('P', [('.', 'PUNCT')])])"
      ]
     },
     "execution_count": 17,
     "metadata": {},
     "output_type": "execute_result"
    }
   ],
   "source": [
    "cp = nltk.RegexpParser(grammar)\n",
    "cp.parse(pos_tagged_sentences[4])"
   ]
  },
  {
   "cell_type": "code",
   "execution_count": 18,
   "metadata": {
    "scrolled": false
   },
   "outputs": [
    {
     "data": {
      "text/plain": [
       "[Tree('S', [Tree('W', [('Meine', 'DET')]), Tree('W', [('kleine', 'ADJ')]), Tree('NP', [('Enkelin', 'NOUN')]), Tree('NP', [('Lisa', 'PROPN')]), Tree('REL', [Tree('C', [('und', 'CONJ')])]), Tree('W', [('mein', 'DET')]), Tree('NP', [('Enkel', 'NOUN')]), Tree('NP', [('Lukas', 'PROPN')]), Tree('REL', [Tree('V', [('fliegen', 'VERB')]), Tree('W', [('morgen', 'ADV')]), Tree('P', [('nach', 'ADP')])]), Tree('NP', [('London', 'PROPN')]), Tree('P', [('.', 'PUNCT')])]),\n",
       " Tree('S', [Tree('NP', [('Sie', 'PRON')]), ('sind', 'AUX'), Tree('P', [('zum', 'ADP')]), Tree('W', [('ersten', 'ADJ')]), Tree('NP', [('Mal', 'NOUN')]), Tree('P', [('in', 'ADP')]), Tree('NP', [('England', 'PROPN')]), Tree('P', [('.', 'PUNCT')])]),\n",
       " Tree('S', [Tree('NP', [('Peter', 'PROPN')]), Tree('REL', [Tree('C', [('und', 'CONJ')])]), Tree('NP', [('Maria', 'PROPN')]), Tree('REL', [Tree('V', [('gehen', 'VERB')]), Tree('W', [('morgen', 'ADV')]), Tree('P', [('ins', 'ADP')])]), Tree('NP', [('Kino', 'NOUN')]), Tree('P', [('.', 'PUNCT')])]),\n",
       " Tree('S', [Tree('NP', [('Ich', 'PRON')]), Tree('REL', [Tree('C', [('und', 'CONJ')])]), Tree('W', [('mein', 'DET')]), Tree('NP', [('Sohn', 'NOUN')]), Tree('REL', [Tree('V', [('gehen', 'VERB')]), Tree('W', [('heute', 'ADV')]), Tree('P', [('zum', 'ADP')])]), Tree('NP', [('Fußball', 'NOUN')]), Tree('P', [('.', 'PUNCT')])]),\n",
       " Tree('S', [Tree('NP', [('Ich', 'PRON')]), Tree('REL', [Tree('V', [('gehe', 'VERB')]), Tree('P', [('mit', 'ADP')])]), Tree('NP', [('Johann', 'PROPN')]), Tree('P', [('in', 'ADP')]), Tree('W', [('den', 'DET')]), Tree('NP', [('Zoo', 'NOUN')]), Tree('P', [('.', 'PUNCT')])])]"
      ]
     },
     "execution_count": 18,
     "metadata": {},
     "output_type": "execute_result"
    }
   ],
   "source": [
    "cp = nltk.RegexpParser(grammar)\n",
    "sentence_trees = []\n",
    "\n",
    "for sentence in pos_tagged_sentences:\n",
    "    sentence_trees.append(cp.parse(sentence))\n",
    "\n",
    "sentence_trees"
   ]
  },
  {
   "cell_type": "markdown",
   "metadata": {},
   "source": [
    "### 3. Find the nearest noun phrase to REL"
   ]
  },
  {
   "cell_type": "code",
   "execution_count": 19,
   "metadata": {},
   "outputs": [
    {
     "data": {
      "text/plain": [
       "[[Tree('NP', [('Lisa', 'PROPN')]),\n",
       "  Tree('REL', [Tree('C', [('und', 'CONJ')])]),\n",
       "  Tree('NP', [('Enkel', 'NOUN')])],\n",
       " [Tree('NP', [('Lukas', 'PROPN')]),\n",
       "  Tree('REL', [Tree('V', [('fliegen', 'VERB')]), Tree('W', [('morgen', 'ADV')]), Tree('P', [('nach', 'ADP')])]),\n",
       "  Tree('NP', [('London', 'PROPN')])],\n",
       " [Tree('NP', [('Peter', 'PROPN')]),\n",
       "  Tree('REL', [Tree('C', [('und', 'CONJ')])]),\n",
       "  Tree('NP', [('Maria', 'PROPN')])],\n",
       " [Tree('NP', [('Maria', 'PROPN')]),\n",
       "  Tree('REL', [Tree('V', [('gehen', 'VERB')]), Tree('W', [('morgen', 'ADV')]), Tree('P', [('ins', 'ADP')])]),\n",
       "  Tree('NP', [('Kino', 'NOUN')])],\n",
       " [Tree('NP', [('Ich', 'PRON')]),\n",
       "  Tree('REL', [Tree('C', [('und', 'CONJ')])]),\n",
       "  Tree('NP', [('Sohn', 'NOUN')])],\n",
       " [Tree('NP', [('Sohn', 'NOUN')]),\n",
       "  Tree('REL', [Tree('V', [('gehen', 'VERB')]), Tree('W', [('heute', 'ADV')]), Tree('P', [('zum', 'ADP')])]),\n",
       "  Tree('NP', [('Fußball', 'NOUN')])],\n",
       " [Tree('NP', [('Ich', 'PRON')]),\n",
       "  Tree('REL', [Tree('V', [('gehe', 'VERB')]), Tree('P', [('mit', 'ADP')])]),\n",
       "  Tree('NP', [('Johann', 'PROPN')])]]"
      ]
     },
     "execution_count": 19,
     "metadata": {},
     "output_type": "execute_result"
    }
   ],
   "source": [
    "relations = []\n",
    "\n",
    "for sent_tree in sentence_trees:\n",
    "    for i, sub_tree in enumerate(sent_tree):\n",
    "        if type(sub_tree) is nltk.tree.Tree and sub_tree.label() == 'REL':\n",
    "            rel = sub_tree\n",
    "\n",
    "            # find the nearest NP to the left of REL\n",
    "            for j in range(i-1, -1, -1):\n",
    "                if type(sent_tree[j]) is nltk.tree.Tree and sent_tree[j].label() == 'NP':\n",
    "                    #print(f'left NP {j}: {tree[j]}')\n",
    "                    left_noun = sent_tree[j]\n",
    "                    break\n",
    "            # find the nearest NP to the right of REL\n",
    "            for j in range(i+1, len(sent_tree), 1):\n",
    "                if type(sent_tree[j]) is nltk.tree.Tree and sent_tree[j].label() == 'NP':\n",
    "                    #print(f'right NP {j}: {tree[j]}')\n",
    "                    right_noun = sent_tree[j]\n",
    "                    break\n",
    "\n",
    "            relations.append([left_noun, rel, right_noun])     \n",
    "\n",
    "relations"
   ]
  },
  {
   "cell_type": "code",
   "execution_count": 21,
   "metadata": {},
   "outputs": [
    {
     "name": "stdout",
     "output_type": "stream",
     "text": [
      "Words ['Lisa']\n",
      "Words ['und']\n",
      "Words ['Enkel']\n",
      "Words ['Lukas']\n",
      "Words ['fliegen', 'morgen', 'nach']\n",
      "Words ['London']\n",
      "Words ['Peter']\n",
      "Words ['und']\n",
      "Words ['Maria']\n",
      "Words ['Maria']\n",
      "Words ['gehen', 'morgen', 'ins']\n",
      "Words ['Kino']\n",
      "Words ['Ich']\n",
      "Words ['und']\n",
      "Words ['Sohn']\n",
      "Words ['Sohn']\n",
      "Words ['gehen', 'heute', 'zum']\n",
      "Words ['Fußball']\n",
      "Words ['Ich']\n",
      "Words ['gehe', 'mit']\n",
      "Words ['Johann']\n"
     ]
    },
    {
     "data": {
      "text/plain": [
       "[[('Lisa',), ('und',), ('Enkel',)],\n",
       " [('Lukas',), ('fliegen', 'morgen', 'nach'), ('London',)],\n",
       " [('Peter',), ('und',), ('Maria',)],\n",
       " [('Maria',), ('gehen', 'morgen', 'ins'), ('Kino',)],\n",
       " [('Ich',), ('und',), ('Sohn',)],\n",
       " [('Sohn',), ('gehen', 'heute', 'zum'), ('Fußball',)],\n",
       " [('Ich',), ('gehe', 'mit'), ('Johann',)]]"
      ]
     },
     "execution_count": 21,
     "metadata": {},
     "output_type": "execute_result"
    }
   ],
   "source": [
    "relation_tuples = []\n",
    "\n",
    "for relation in relations:\n",
    "    relation_tuple = []\n",
    "    for tree in relation:\n",
    "        words = [w for w, t in tree.leaves()]     \n",
    "        relation_tuple.append(tuple(words))\n",
    "\n",
    "    relation_tuples.append(relation_tuple)\n",
    "\n",
    "relation_tuples"
   ]
  },
  {
   "cell_type": "markdown",
   "metadata": {},
   "source": [
    "## Draw relationships as network with networkx"
   ]
  },
  {
   "cell_type": "code",
   "execution_count": 83,
   "metadata": {},
   "outputs": [],
   "source": [
    "import os\n",
    "import networkx as nx\n",
    "import matplotlib.pyplot as plt\n",
    "\n",
    "from networkx import nx_pydot\n",
    "\n",
    "os.environ[\"PATH\"] += os.pathsep + 'C:/Program Files (x86)/Graphviz2.38/bin/'"
   ]
  },
  {
   "cell_type": "code",
   "execution_count": 100,
   "metadata": {
    "scrolled": true
   },
   "outputs": [
    {
     "name": "stdout",
     "output_type": "stream",
     "text": [
      "Source: Lisa, Target: Enkel\n",
      "Source: Lukas, Target: London\n",
      "Source: Peter, Target: Maria\n",
      "Source: Maria, Target: Kino\n",
      "Source: Ich, Target: Sohn\n",
      "Source: Sohn, Target: Fußball\n",
      "Source: Ich, Target: Johann\n"
     ]
    },
    {
     "data": {
      "image/png": "[encoded data removed]",
      "text/plain": [
       "<Figure size 432x288 with 1 Axes>"
      ]
     },
     "metadata": {},
     "output_type": "display_data"
    }
   ],
   "source": [
    "ng = nx.DiGraph()\n",
    "\n",
    "for relation in relation_tuples:\n",
    "    source = relation[0][0]\n",
    "    target = relation[2][0]\n",
    "    print(f\"Source: {source}, Target: {target}\")\n",
    "    ng.add_edge(source, target)\n",
    "\n",
    "#nx.spring_layout(ng)\n",
    "nx.draw(ng, with_labels=True)"
   ]
  },
  {
   "cell_type": "markdown",
   "metadata": {},
   "source": [
    "## 4. Assign confidence value\n",
    "\n",
    "* compute confidence score for each relation using a logistic regression classifier"
   ]
  },
  {
   "cell_type": "code",
   "execution_count": null,
   "metadata": {},
   "outputs": [],
   "source": [
    "TOD"
   ]
  },
  {
   "cell_type": "code",
   "execution_count": null,
   "metadata": {},
   "outputs": [],
   "source": []
  }
 ],
 "metadata": {
  "kernelspec": {
   "display_name": "Python 3",
   "language": "python",
   "name": "python3"
  },
  "language_info": {
   "codemirror_mode": {
    "name": "ipython",
    "version": 3
   },
   "file_extension": ".py",
   "mimetype": "text/x-python",
   "name": "python",
   "nbconvert_exporter": "python",
   "pygments_lexer": "ipython3",
   "version": "3.6.4"
  }
 },
 "nbformat": 4,
 "nbformat_minor": 2
}
